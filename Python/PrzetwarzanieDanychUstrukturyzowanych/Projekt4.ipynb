{
 "cells": [
  {
   "cell_type": "markdown",
   "metadata": {},
   "source": [
    "# PDU - praca domowa nr 3\n",
    "## Paweł Koźminski\n",
    "### 10.06.2019r.\n",
    "#### Głównym zadaniem czwartej pracy domowej było przetłumaczenie wywołań zapisanych w języku `SQL` za pomocą biblioteki `pandas` języka Python. Otrzymaliśmy siedem poleceń, w każdym z nich wywołanie w `SQL` oraz w `pandas` powinno zwracać tę samą ramkę danych. W celu prawidłowego rozwiązania, zaimportowałem biblioteki `numPy` oraz `pandas` oraz utworzyłem bazę danych, z której można wywoływać polecenia `SQL`. Dane pochodzą z serwisu Travel Stack Exchange."
   ]
  },
  {
   "cell_type": "code",
   "execution_count": 1,
   "metadata": {},
   "outputs": [],
   "source": [
    "import numpy as np\n",
    "import pandas as pd"
   ]
  },
  {
   "cell_type": "code",
   "execution_count": 2,
   "metadata": {},
   "outputs": [],
   "source": [
    "Badges = pd.read_csv(\"http://www.gagolewski.com/resources/data/travel_stackexchange_com/Badges.csv.gz\")\n",
    "Comments = pd.read_csv(\"http://www.gagolewski.com/resources/data/travel_stackexchange_com/Comments.csv.gz\")\n",
    "Posts = pd.read_csv(\"http://www.gagolewski.com/resources/data/travel_stackexchange_com/Posts.csv.gz\")\n",
    "Tags = pd.read_csv(\"http://www.gagolewski.com/resources/data/travel_stackexchange_com/Tags.csv.gz\")\n",
    "Users = pd.read_csv(\"http://www.gagolewski.com/resources/data/travel_stackexchange_com/Users.csv.gz\")\n",
    "Votes = pd.read_csv(\"http://www.gagolewski.com/resources/data/travel_stackexchange_com/Votes.csv.gz\")"
   ]
  },
  {
   "cell_type": "code",
   "execution_count": 3,
   "metadata": {},
   "outputs": [],
   "source": [
    "from sqlalchemy import create_engine\n",
    "engine = create_engine('sqlite://', echo=False)"
   ]
  },
  {
   "cell_type": "code",
   "execution_count": 4,
   "metadata": {},
   "outputs": [],
   "source": [
    "Badges.to_sql(\"Badges\", con = engine)\n",
    "Comments.to_sql(\"Comments\", con = engine)\n",
    "Posts.to_sql(\"Posts\", con = engine)\n",
    "Tags.to_sql(\"Tags\", con = engine)\n",
    "Users.to_sql(\"Users\", con = engine)\n",
    "Votes.to_sql(\"Votes\", con = engine)\n"
   ]
  },
  {
   "cell_type": "markdown",
   "metadata": {},
   "source": [
    "# Zadanie 1\n",
    "### Użytkownicy, których pytania zebrały najwięcej oznaczeń \"Favorite\" oraz tytuł pytania o największej liczbie tych oznaczeń (wraz z tą wartością).\n",
    "\n",
    "#### Wczytanie polecenia w języku `SQL`:"
   ]
  },
  {
   "cell_type": "code",
   "execution_count": 5,
   "metadata": {
    "scrolled": false
   },
   "outputs": [],
   "source": [
    "SQL_1 = pd.read_sql_query(\"\"\"\n",
    "SELECT\n",
    "    Users.DisplayName,\n",
    "    Users.Age,\n",
    "    Users.Location,\n",
    "    SUM(Posts.FavoriteCount) AS FavoriteTotal,\n",
    "    Posts.Title AS MostFavoriteQuestion,\n",
    "    MAX(Posts.FavoriteCount) AS MostFavoriteQuestionLikes\n",
    "FROM Posts\n",
    "JOIN Users ON Users.Id=Posts.OwnerUserId\n",
    "WHERE Posts.PostTypeId=1\n",
    "GROUP BY OwnerUserId\n",
    "ORDER BY FavoriteTotal DESC\n",
    "LIMIT 10\"\"\", con = engine)"
   ]
  },
  {
   "cell_type": "markdown",
   "metadata": {},
   "source": [
    "#### Przygotowanie ramki, która zawiera informacje o pytaniach oraz ich autorach:"
   ]
  },
  {
   "cell_type": "code",
   "execution_count": 6,
   "metadata": {},
   "outputs": [],
   "source": [
    "Posts1 = Posts.loc[Posts.PostTypeId == 1]\n",
    "\n",
    "dat_src = pd.merge(Posts1, Users, left_on = 'OwnerUserId', right_on = \"Id\")"
   ]
  },
  {
   "cell_type": "markdown",
   "metadata": {},
   "source": [
    "#### Przygotowanie wektorów: sumy wszystkich oznaczeń `Favorite` dla danego użytkownika oraz maksymalnej wartości:"
   ]
  },
  {
   "cell_type": "code",
   "execution_count": 7,
   "metadata": {},
   "outputs": [],
   "source": [
    "dat_src_grouped = dat_src.groupby('OwnerUserId')\n",
    "MostFavoriteQuestionLikes = dat_src_grouped.FavoriteCount.max()\n",
    "FavoriteTotal = dat_src_grouped.FavoriteCount.sum()\n",
    "MostFavoriteQuestionLikes[MostFavoriteQuestionLikes.isna()] = 0"
   ]
  },
  {
   "cell_type": "markdown",
   "metadata": {},
   "source": [
    "#### Przygotowanie `aggs` - ramki danych zawierającej Id uzytkownika, sumę `Favorite` oraz wartość maksymalną:"
   ]
  },
  {
   "cell_type": "code",
   "execution_count": 8,
   "metadata": {},
   "outputs": [],
   "source": [
    "aggs = pd.merge(pd.DataFrame(MostFavoriteQuestionLikes).reset_index(), pd.DataFrame(FavoriteTotal).reset_index(), on='OwnerUserId')\n",
    "aggs.columns = ['OwnerUserId', 'MostFavoriteQuestionLikes', 'FavoriteTotal']\n"
   ]
  },
  {
   "cell_type": "markdown",
   "metadata": {},
   "source": [
    "#### Połączenie ramek danych, wydobycie odpowiednich kolumn, reset indeksów:"
   ]
  },
  {
   "cell_type": "code",
   "execution_count": 9,
   "metadata": {},
   "outputs": [],
   "source": [
    "almost = pd.merge(dat_src, aggs, left_on = ['OwnerUserId', 'FavoriteCount'], right_on = ['OwnerUserId', 'MostFavoriteQuestionLikes'])\n",
    "Answer_1 = almost.loc[:, ['DisplayName', 'Age', 'Location', 'FavoriteTotal', 'Title', 'MostFavoriteQuestionLikes']].sort_values('FavoriteTotal', ascending = False).head(10)\n",
    "Answer_1 = Answer_1.reset_index().iloc[:, 1:]\n"
   ]
  },
  {
   "cell_type": "code",
   "execution_count": 10,
   "metadata": {},
   "outputs": [
    {
     "data": {
      "text/plain": [
       "True"
      ]
     },
     "execution_count": 10,
     "metadata": {},
     "output_type": "execute_result"
    }
   ],
   "source": [
    "np.equal(np.equal(SQL_1, Answer_1), ~SQL_1.isna()).all().all()"
   ]
  },
  {
   "cell_type": "markdown",
   "metadata": {},
   "source": [
    "#### Jak widać - obie ramki danych są identyczne z dokladnością do pól, w których występuje nieokreślona wartość `NaN` bądź `None`."
   ]
  },
  {
   "cell_type": "code",
   "execution_count": 11,
   "metadata": {},
   "outputs": [
    {
     "data": {
      "text/html": [
       "<div>\n",
       "<style scoped>\n",
       "    .dataframe tbody tr th:only-of-type {\n",
       "        vertical-align: middle;\n",
       "    }\n",
       "\n",
       "    .dataframe tbody tr th {\n",
       "        vertical-align: top;\n",
       "    }\n",
       "\n",
       "    .dataframe thead th {\n",
       "        text-align: right;\n",
       "    }\n",
       "</style>\n",
       "<table border=\"1\" class=\"dataframe\">\n",
       "  <thead>\n",
       "    <tr style=\"text-align: right;\">\n",
       "      <th></th>\n",
       "      <th>DisplayName</th>\n",
       "      <th>Age</th>\n",
       "      <th>Location</th>\n",
       "      <th>FavoriteTotal</th>\n",
       "      <th>Title</th>\n",
       "      <th>MostFavoriteQuestionLikes</th>\n",
       "    </tr>\n",
       "  </thead>\n",
       "  <tbody>\n",
       "    <tr>\n",
       "      <th>0</th>\n",
       "      <td>Mark Mayo</td>\n",
       "      <td>37.0</td>\n",
       "      <td>Sydney, New South Wales, Australia</td>\n",
       "      <td>467.0</td>\n",
       "      <td>Tactics to avoid getting harassed by corrupt p...</td>\n",
       "      <td>42.0</td>\n",
       "    </tr>\n",
       "    <tr>\n",
       "      <th>1</th>\n",
       "      <td>hippietrail</td>\n",
       "      <td>NaN</td>\n",
       "      <td>Oaxaca, Mexico</td>\n",
       "      <td>444.0</td>\n",
       "      <td>OK we're all adults here, so really, how on ea...</td>\n",
       "      <td>79.0</td>\n",
       "    </tr>\n",
       "    <tr>\n",
       "      <th>2</th>\n",
       "      <td>RoflcoptrException</td>\n",
       "      <td>NaN</td>\n",
       "      <td>NaN</td>\n",
       "      <td>294.0</td>\n",
       "      <td>How to avoid drinking vodka?</td>\n",
       "      <td>29.0</td>\n",
       "    </tr>\n",
       "    <tr>\n",
       "      <th>3</th>\n",
       "      <td>JonathanReez</td>\n",
       "      <td>26.0</td>\n",
       "      <td>Prague, Czech Republic</td>\n",
       "      <td>221.0</td>\n",
       "      <td>What is the highest viewing spot in London tha...</td>\n",
       "      <td>17.0</td>\n",
       "    </tr>\n",
       "    <tr>\n",
       "      <th>4</th>\n",
       "      <td>nsn</td>\n",
       "      <td>NaN</td>\n",
       "      <td>NaN</td>\n",
       "      <td>214.0</td>\n",
       "      <td>How do airlines determine ticket prices?</td>\n",
       "      <td>40.0</td>\n",
       "    </tr>\n",
       "    <tr>\n",
       "      <th>5</th>\n",
       "      <td>Gagravarr</td>\n",
       "      <td>NaN</td>\n",
       "      <td>Oxford, United Kingdom</td>\n",
       "      <td>151.0</td>\n",
       "      <td>Are there other places with gardens like those...</td>\n",
       "      <td>10.0</td>\n",
       "    </tr>\n",
       "    <tr>\n",
       "      <th>6</th>\n",
       "      <td>Andrew Grimm</td>\n",
       "      <td>38.0</td>\n",
       "      <td>Sydney, Australia</td>\n",
       "      <td>120.0</td>\n",
       "      <td>OK we're all nerds here, so really, how on ear...</td>\n",
       "      <td>8.0</td>\n",
       "    </tr>\n",
       "    <tr>\n",
       "      <th>7</th>\n",
       "      <td>VMAtm</td>\n",
       "      <td>33.0</td>\n",
       "      <td>Tampa, FL, United States</td>\n",
       "      <td>109.0</td>\n",
       "      <td>Is there a good website to plan a trip via tra...</td>\n",
       "      <td>34.0</td>\n",
       "    </tr>\n",
       "    <tr>\n",
       "      <th>8</th>\n",
       "      <td>jrdioko</td>\n",
       "      <td>NaN</td>\n",
       "      <td>NaN</td>\n",
       "      <td>100.0</td>\n",
       "      <td>What is the most comfortable way to sleep on a...</td>\n",
       "      <td>21.0</td>\n",
       "    </tr>\n",
       "    <tr>\n",
       "      <th>9</th>\n",
       "      <td>Gayot Fow</td>\n",
       "      <td>NaN</td>\n",
       "      <td>London, United Kingdom</td>\n",
       "      <td>98.0</td>\n",
       "      <td>Should I submit bank statements when applying ...</td>\n",
       "      <td>18.0</td>\n",
       "    </tr>\n",
       "  </tbody>\n",
       "</table>\n",
       "</div>"
      ],
      "text/plain": [
       "          DisplayName   Age                            Location  \\\n",
       "0           Mark Mayo  37.0  Sydney, New South Wales, Australia   \n",
       "1         hippietrail   NaN                      Oaxaca, Mexico   \n",
       "2  RoflcoptrException   NaN                                 NaN   \n",
       "3        JonathanReez  26.0              Prague, Czech Republic   \n",
       "4                 nsn   NaN                                 NaN   \n",
       "5           Gagravarr   NaN              Oxford, United Kingdom   \n",
       "6        Andrew Grimm  38.0                   Sydney, Australia   \n",
       "7               VMAtm  33.0            Tampa, FL, United States   \n",
       "8             jrdioko   NaN                                 NaN   \n",
       "9           Gayot Fow   NaN              London, United Kingdom   \n",
       "\n",
       "   FavoriteTotal                                              Title  \\\n",
       "0          467.0  Tactics to avoid getting harassed by corrupt p...   \n",
       "1          444.0  OK we're all adults here, so really, how on ea...   \n",
       "2          294.0                       How to avoid drinking vodka?   \n",
       "3          221.0  What is the highest viewing spot in London tha...   \n",
       "4          214.0           How do airlines determine ticket prices?   \n",
       "5          151.0  Are there other places with gardens like those...   \n",
       "6          120.0  OK we're all nerds here, so really, how on ear...   \n",
       "7          109.0  Is there a good website to plan a trip via tra...   \n",
       "8          100.0  What is the most comfortable way to sleep on a...   \n",
       "9           98.0  Should I submit bank statements when applying ...   \n",
       "\n",
       "   MostFavoriteQuestionLikes  \n",
       "0                       42.0  \n",
       "1                       79.0  \n",
       "2                       29.0  \n",
       "3                       17.0  \n",
       "4                       40.0  \n",
       "5                       10.0  \n",
       "6                        8.0  \n",
       "7                       34.0  \n",
       "8                       21.0  \n",
       "9                       18.0  "
      ]
     },
     "execution_count": 11,
     "metadata": {},
     "output_type": "execute_result"
    }
   ],
   "source": [
    "Answer_1"
   ]
  },
  {
   "cell_type": "markdown",
   "metadata": {},
   "source": [
    "# Zadanie 2\n",
    "### Wybranie informacji o ID, tytule oraz liczbie pozytywnie ocenionych odpowiedzi dla pytań, o największej liczbie pozytywnych odpowiedzi.\n",
    "\n",
    "#### Wczytanie polecenia w języku `SQL`:"
   ]
  },
  {
   "cell_type": "code",
   "execution_count": 12,
   "metadata": {},
   "outputs": [],
   "source": [
    "SQL_2 = pd.read_sql_query(\"\"\"\n",
    "SELECT\n",
    "    Posts.ID,\n",
    "    Posts.Title,\n",
    "    Posts2.PositiveAnswerCount\n",
    "FROM Posts\n",
    "JOIN (\n",
    "        SELECT\n",
    "            Posts.ParentID,\n",
    "            COUNT(*) AS PositiveAnswerCount\n",
    "        FROM Posts\n",
    "        WHERE Posts.PostTypeID=2 AND Posts.Score>0\n",
    "        GROUP BY Posts.ParentID\n",
    "    ) AS Posts2\n",
    "    ON Posts.ID=Posts2.ParentID\n",
    "ORDER BY Posts2.PositiveAnswerCount DESC\n",
    "LIMIT 10\"\"\", con = engine)"
   ]
  },
  {
   "cell_type": "markdown",
   "metadata": {},
   "source": [
    "#### Stworzenie odpowiedniej ramki Posts2, zawierającej Id pytań o największej liczbie odpowiedzi o dodatnim wyniku:\n"
   ]
  },
  {
   "cell_type": "code",
   "execution_count": 13,
   "metadata": {},
   "outputs": [],
   "source": [
    "Posts2 = Posts.loc[(Posts.PostTypeId == 2) & (Posts.Score>0)].groupby('ParentId').size() #ile kazde pytanie otrzymalo pozyt. odpowiedzi\n",
    "Posts2.name = \"PositiveAnswerCount\"\n",
    "Posts2 = Posts2.to_frame().reset_index()  #przygotowanie odpowiedniej ramki"
   ]
  },
  {
   "cell_type": "code",
   "execution_count": 14,
   "metadata": {},
   "outputs": [],
   "source": [
    "#dopasowanie i polaczenie z pytan z ramki Posts2 z pytaniami z Posts, wynik posortowany malejaco po liczbie odpowiedzi\n",
    "#oraz  po Id rosnaco - tak jak robi to `SQL`\n",
    "almost = (pd.merge(Posts, Posts2, left_on='Id', right_on = 'ParentId')\n",
    ".sort_values(['PositiveAnswerCount', 'Id'], ascending = [False, True]).reset_index())\n",
    "\n",
    "Answer_2 = almost.loc[:,['Id', 'Title', 'PositiveAnswerCount']].head(10) #wybranie odpowiednich wartosci\n"
   ]
  },
  {
   "cell_type": "code",
   "execution_count": 15,
   "metadata": {},
   "outputs": [
    {
     "data": {
      "text/plain": [
       "True"
      ]
     },
     "execution_count": 15,
     "metadata": {},
     "output_type": "execute_result"
    }
   ],
   "source": [
    "np.equal(SQL_2, Answer_2).all().all()"
   ]
  },
  {
   "cell_type": "code",
   "execution_count": 16,
   "metadata": {},
   "outputs": [
    {
     "data": {
      "text/html": [
       "<div>\n",
       "<style scoped>\n",
       "    .dataframe tbody tr th:only-of-type {\n",
       "        vertical-align: middle;\n",
       "    }\n",
       "\n",
       "    .dataframe tbody tr th {\n",
       "        vertical-align: top;\n",
       "    }\n",
       "\n",
       "    .dataframe thead th {\n",
       "        text-align: right;\n",
       "    }\n",
       "</style>\n",
       "<table border=\"1\" class=\"dataframe\">\n",
       "  <thead>\n",
       "    <tr style=\"text-align: right;\">\n",
       "      <th></th>\n",
       "      <th>Id</th>\n",
       "      <th>Title</th>\n",
       "      <th>PositiveAnswerCount</th>\n",
       "    </tr>\n",
       "  </thead>\n",
       "  <tbody>\n",
       "    <tr>\n",
       "      <th>0</th>\n",
       "      <td>250</td>\n",
       "      <td>Which European cities have bike rental station...</td>\n",
       "      <td>24</td>\n",
       "    </tr>\n",
       "    <tr>\n",
       "      <th>1</th>\n",
       "      <td>10</td>\n",
       "      <td>When traveling to a country with a different c...</td>\n",
       "      <td>20</td>\n",
       "    </tr>\n",
       "    <tr>\n",
       "      <th>2</th>\n",
       "      <td>13562</td>\n",
       "      <td>How do you choose a restaurant when travelling?</td>\n",
       "      <td>20</td>\n",
       "    </tr>\n",
       "    <tr>\n",
       "      <th>3</th>\n",
       "      <td>48775</td>\n",
       "      <td>How can I deal with people asking to switch se...</td>\n",
       "      <td>20</td>\n",
       "    </tr>\n",
       "    <tr>\n",
       "      <th>4</th>\n",
       "      <td>3220</td>\n",
       "      <td>Why would you wrap your luggage in plastic?</td>\n",
       "      <td>19</td>\n",
       "    </tr>\n",
       "    <tr>\n",
       "      <th>5</th>\n",
       "      <td>43660</td>\n",
       "      <td>Traveling in Europe Solo - 18 years old. Feasi...</td>\n",
       "      <td>19</td>\n",
       "    </tr>\n",
       "    <tr>\n",
       "      <th>6</th>\n",
       "      <td>30656</td>\n",
       "      <td>Long-life SIM cards in Europe</td>\n",
       "      <td>18</td>\n",
       "    </tr>\n",
       "    <tr>\n",
       "      <th>7</th>\n",
       "      <td>7663</td>\n",
       "      <td>Am I expected to tip wait staff in Europe?</td>\n",
       "      <td>17</td>\n",
       "    </tr>\n",
       "    <tr>\n",
       "      <th>8</th>\n",
       "      <td>59128</td>\n",
       "      <td>Is there a way to prevent \"looking like a tour...</td>\n",
       "      <td>17</td>\n",
       "    </tr>\n",
       "    <tr>\n",
       "      <th>9</th>\n",
       "      <td>60446</td>\n",
       "      <td>Is it rude to ask if the food contains pork or...</td>\n",
       "      <td>17</td>\n",
       "    </tr>\n",
       "  </tbody>\n",
       "</table>\n",
       "</div>"
      ],
      "text/plain": [
       "      Id                                              Title  \\\n",
       "0    250  Which European cities have bike rental station...   \n",
       "1     10  When traveling to a country with a different c...   \n",
       "2  13562    How do you choose a restaurant when travelling?   \n",
       "3  48775  How can I deal with people asking to switch se...   \n",
       "4   3220        Why would you wrap your luggage in plastic?   \n",
       "5  43660  Traveling in Europe Solo - 18 years old. Feasi...   \n",
       "6  30656                      Long-life SIM cards in Europe   \n",
       "7   7663         Am I expected to tip wait staff in Europe?   \n",
       "8  59128  Is there a way to prevent \"looking like a tour...   \n",
       "9  60446  Is it rude to ask if the food contains pork or...   \n",
       "\n",
       "   PositiveAnswerCount  \n",
       "0                   24  \n",
       "1                   20  \n",
       "2                   20  \n",
       "3                   20  \n",
       "4                   19  \n",
       "5                   19  \n",
       "6                   18  \n",
       "7                   17  \n",
       "8                   17  \n",
       "9                   17  "
      ]
     },
     "execution_count": 16,
     "metadata": {},
     "output_type": "execute_result"
    }
   ],
   "source": [
    "Answer_2"
   ]
  },
  {
   "cell_type": "markdown",
   "metadata": {},
   "source": [
    "# Zadanie 3\n",
    "### Wybór najlepszych pytań w każdym roku (takich, które otrzymało najwięcej głosów w gorę)\n",
    "#### Wczytanie polecenia w języku `SQL`:"
   ]
  },
  {
   "cell_type": "code",
   "execution_count": 17,
   "metadata": {},
   "outputs": [],
   "source": [
    "SQL_3 = pd.read_sql_query(\"\"\"\n",
    "SELECT\n",
    "    Posts.Title,\n",
    "    UpVotesPerYear.Year,\n",
    "    MAX(UpVotesPerYear.Count) AS Count\n",
    "FROM (\n",
    "        SELECT\n",
    "            PostId,\n",
    "            COUNT(*) AS Count,\n",
    "            STRFTIME('%Y', Votes.CreationDate) AS Year\n",
    "        FROM Votes\n",
    "        WHERE VoteTypeId=2\n",
    "        GROUP BY PostId, Year\n",
    "    ) AS UpVotesPerYear\n",
    "JOIN Posts ON Posts.Id=UpVotesPerYear.PostId\n",
    "WHERE Posts.PostTypeId=1\n",
    "GROUP BY Year\"\"\", con = engine)"
   ]
  },
  {
   "cell_type": "markdown",
   "metadata": {},
   "source": [
    "#### Konwersja pola `CreationDate` na informacje jedynie o roku:"
   ]
  },
  {
   "cell_type": "code",
   "execution_count": 18,
   "metadata": {},
   "outputs": [],
   "source": [
    "Votes.CreationDate = Votes.CreationDate.str.slice(0, 4)"
   ]
  },
  {
   "cell_type": "markdown",
   "metadata": {},
   "source": [
    "#### Wybór głosów w gorę, odpowiednich pól, stworzenie odpowiedniego grupowania:"
   ]
  },
  {
   "cell_type": "code",
   "execution_count": 19,
   "metadata": {},
   "outputs": [],
   "source": [
    "Votes2 = Votes.loc[Votes.VoteTypeId==2]\n",
    "Votes2 = Votes2.loc[:, ['PostId', 'CreationDate']]\n",
    "Votes2_grouped = Votes2.groupby(['PostId', 'CreationDate'])"
   ]
  },
  {
   "cell_type": "markdown",
   "metadata": {},
   "source": [
    "#### Policzenie oddanych głosów na dane pytanie w każdym z lat:"
   ]
  },
  {
   "cell_type": "code",
   "execution_count": 20,
   "metadata": {},
   "outputs": [],
   "source": [
    "UpVotesByYear = Votes2_grouped.size().to_frame().reset_index()\n",
    "UpVotesByYear.columns = ['PostId', 'CreationDate', 'Count']"
   ]
  },
  {
   "cell_type": "markdown",
   "metadata": {},
   "source": [
    "#### Połączenie tamtych danych z informacjami dotyczącymi pytań:"
   ]
  },
  {
   "cell_type": "code",
   "execution_count": 21,
   "metadata": {},
   "outputs": [],
   "source": [
    "Posts1 = Posts.loc[Posts.PostTypeId==1]\n",
    "almost = pd.merge(UpVotesByYear, Posts1, left_on='PostId', right_on = 'Id')"
   ]
  },
  {
   "cell_type": "markdown",
   "metadata": {},
   "source": [
    "#### Wybór tych pytań, które otrzymały najwięcej pozytywnych głosów w każdym z lat:"
   ]
  },
  {
   "cell_type": "code",
   "execution_count": 22,
   "metadata": {},
   "outputs": [],
   "source": [
    "almost = almost.loc[:, ['Title', 'CreationDate_x', 'Count']]\n",
    "indices = almost.groupby('CreationDate_x').idxmax().Count\n",
    "almost = almost.iloc[indices].reset_index().iloc[:, 1:]\n",
    "almost.columns = ['Title', 'Year', 'Count']\n",
    "Answer_3 = almost"
   ]
  },
  {
   "cell_type": "code",
   "execution_count": 23,
   "metadata": {},
   "outputs": [
    {
     "data": {
      "text/plain": [
       "True"
      ]
     },
     "execution_count": 23,
     "metadata": {},
     "output_type": "execute_result"
    }
   ],
   "source": [
    "np.equal(SQL_3, Answer_3).all().all()"
   ]
  },
  {
   "cell_type": "code",
   "execution_count": 24,
   "metadata": {},
   "outputs": [
    {
     "data": {
      "text/html": [
       "<div>\n",
       "<style scoped>\n",
       "    .dataframe tbody tr th:only-of-type {\n",
       "        vertical-align: middle;\n",
       "    }\n",
       "\n",
       "    .dataframe tbody tr th {\n",
       "        vertical-align: top;\n",
       "    }\n",
       "\n",
       "    .dataframe thead th {\n",
       "        text-align: right;\n",
       "    }\n",
       "</style>\n",
       "<table border=\"1\" class=\"dataframe\">\n",
       "  <thead>\n",
       "    <tr style=\"text-align: right;\">\n",
       "      <th></th>\n",
       "      <th>Title</th>\n",
       "      <th>Year</th>\n",
       "      <th>Count</th>\n",
       "    </tr>\n",
       "  </thead>\n",
       "  <tbody>\n",
       "    <tr>\n",
       "      <th>0</th>\n",
       "      <td>OK we're all adults here, so really, how on ea...</td>\n",
       "      <td>2011</td>\n",
       "      <td>70</td>\n",
       "    </tr>\n",
       "    <tr>\n",
       "      <th>1</th>\n",
       "      <td>How to successfully haggle / bargain in markets</td>\n",
       "      <td>2012</td>\n",
       "      <td>37</td>\n",
       "    </tr>\n",
       "    <tr>\n",
       "      <th>2</th>\n",
       "      <td>Why are airline passengers asked to lift up wi...</td>\n",
       "      <td>2013</td>\n",
       "      <td>103</td>\n",
       "    </tr>\n",
       "    <tr>\n",
       "      <th>3</th>\n",
       "      <td>How do you know if Americans genuinely/literal...</td>\n",
       "      <td>2014</td>\n",
       "      <td>180</td>\n",
       "    </tr>\n",
       "    <tr>\n",
       "      <th>4</th>\n",
       "      <td>Immigration officer that stopped me at the air...</td>\n",
       "      <td>2015</td>\n",
       "      <td>119</td>\n",
       "    </tr>\n",
       "    <tr>\n",
       "      <th>5</th>\n",
       "      <td>I don't know my nationality. How can I visit D...</td>\n",
       "      <td>2016</td>\n",
       "      <td>135</td>\n",
       "    </tr>\n",
       "    <tr>\n",
       "      <th>6</th>\n",
       "      <td>Why prohibit engine braking?</td>\n",
       "      <td>2017</td>\n",
       "      <td>178</td>\n",
       "    </tr>\n",
       "  </tbody>\n",
       "</table>\n",
       "</div>"
      ],
      "text/plain": [
       "                                               Title  Year  Count\n",
       "0  OK we're all adults here, so really, how on ea...  2011     70\n",
       "1    How to successfully haggle / bargain in markets  2012     37\n",
       "2  Why are airline passengers asked to lift up wi...  2013    103\n",
       "3  How do you know if Americans genuinely/literal...  2014    180\n",
       "4  Immigration officer that stopped me at the air...  2015    119\n",
       "5  I don't know my nationality. How can I visit D...  2016    135\n",
       "6                       Why prohibit engine braking?  2017    178"
      ]
     },
     "execution_count": 24,
     "metadata": {},
     "output_type": "execute_result"
    }
   ],
   "source": [
    "Answer_3"
   ]
  },
  {
   "cell_type": "markdown",
   "metadata": {},
   "source": [
    "# Zadanie 4\n",
    "### Id oraz tytuły pytań, dla których różnice ocen między najwyżej punktowaną odpowiedzią a odpowiedzią zaakceptowaną wynoszą więcej niż 50, posortowane pod względem różnicy. Dodatkowo, podane zostały odpowiednie wyniki oraz wspomniana różnica.\n",
    "\n",
    "#### Wczytanie polecenia w języku `SQL`:"
   ]
  },
  {
   "cell_type": "code",
   "execution_count": 25,
   "metadata": {},
   "outputs": [],
   "source": [
    "SQL_4 = pd.read_sql_query(\"\"\"\n",
    "SELECT\n",
    "    Questions.Id,\n",
    "    Questions.Title,\n",
    "    BestAnswers.MaxScore,\n",
    "    Posts.Score AS AcceptedScore,\n",
    "    BestAnswers.MaxScore-Posts.Score AS Difference\n",
    "FROM (\n",
    "        SELECT Id, ParentId, MAX(Score) AS MaxScore\n",
    "        FROM Posts\n",
    "        WHERE PostTypeId==2\n",
    "        GROUP BY ParentId\n",
    "    ) AS BestAnswers\n",
    "JOIN (\n",
    "        SELECT * FROM Posts\n",
    "        WHERE PostTypeId==1\n",
    "    ) AS Questions\n",
    "    ON Questions.Id=BestAnswers.ParentId\n",
    "JOIN Posts ON Questions.AcceptedAnswerId=Posts.Id\n",
    "WHERE Difference>50\n",
    "ORDER BY Difference DESC\"\"\", con = engine)"
   ]
  },
  {
   "cell_type": "markdown",
   "metadata": {},
   "source": [
    "#### Wybranie najlepszych odpowiedzi - czyli odpowiedzi, które zebrały najwięcej punktów na dane pytanie:"
   ]
  },
  {
   "cell_type": "code",
   "execution_count": 26,
   "metadata": {},
   "outputs": [],
   "source": [
    "BestAnswers = Posts.loc[Posts.PostTypeId==2]\n",
    "BestAnswers = BestAnswers.loc[:,['Id', 'ParentId', 'Score']].groupby('ParentId').agg(np.max)\n",
    "BestAnswers = BestAnswers['Score'].rename(\"MaxScore\").to_frame().reset_index()"
   ]
  },
  {
   "cell_type": "markdown",
   "metadata": {},
   "source": [
    "#### Wybranie pytań spośród postów, następnie połączenie z nimi najlepszych odpowiedzi:"
   ]
  },
  {
   "cell_type": "code",
   "execution_count": 27,
   "metadata": {},
   "outputs": [],
   "source": [
    "Questions = Posts.loc[Posts.PostTypeId ==1]"
   ]
  },
  {
   "cell_type": "code",
   "execution_count": 28,
   "metadata": {},
   "outputs": [],
   "source": [
    "Questions2 = pd.merge(Questions, BestAnswers, left_on=\"Id\", right_on=\"ParentId\")\n"
   ]
  },
  {
   "cell_type": "markdown",
   "metadata": {},
   "source": [
    "#### Przygotowanie ramki danych, zawierającej: Id pytania, jego tytuł, wyniki: najlepiej punktowanej odpowiedzi oraz wynik zaakceptowanej odpowiedzi:"
   ]
  },
  {
   "cell_type": "code",
   "execution_count": 29,
   "metadata": {},
   "outputs": [],
   "source": [
    "almost = pd.merge(Questions2, Posts, right_on='Id', left_on = 'AcceptedAnswerId').loc[:,['Id_x','Title_x','MaxScore','Score_y']]"
   ]
  },
  {
   "cell_type": "markdown",
   "metadata": {},
   "source": [
    "#### Wybranie tych spośród wyników, gdzie różnica jest większa od 50; dodanie kolumny 'Difference', wybranie odpowiednich kolumn oraz reset indeksów:"
   ]
  },
  {
   "cell_type": "code",
   "execution_count": 30,
   "metadata": {},
   "outputs": [],
   "source": [
    "almost = almost.loc[almost.MaxScore-almost.Score_y > 50]\n",
    "almost = almost.assign(Difference = almost.MaxScore-almost.Score_y).sort_values('Difference', ascending = False)\n",
    "almost.columns = ['Id', 'Title', 'MaxScore', 'AcceptedScore', 'Difference']\n",
    "Answer_4 = almost.reset_index().iloc[:,1:]"
   ]
  },
  {
   "cell_type": "code",
   "execution_count": 31,
   "metadata": {},
   "outputs": [
    {
     "data": {
      "text/plain": [
       "True"
      ]
     },
     "execution_count": 31,
     "metadata": {},
     "output_type": "execute_result"
    }
   ],
   "source": [
    "np.equal(SQL_4, Answer_4).all().all()"
   ]
  },
  {
   "cell_type": "code",
   "execution_count": 32,
   "metadata": {},
   "outputs": [
    {
     "data": {
      "text/html": [
       "<div>\n",
       "<style scoped>\n",
       "    .dataframe tbody tr th:only-of-type {\n",
       "        vertical-align: middle;\n",
       "    }\n",
       "\n",
       "    .dataframe tbody tr th {\n",
       "        vertical-align: top;\n",
       "    }\n",
       "\n",
       "    .dataframe thead th {\n",
       "        text-align: right;\n",
       "    }\n",
       "</style>\n",
       "<table border=\"1\" class=\"dataframe\">\n",
       "  <thead>\n",
       "    <tr style=\"text-align: right;\">\n",
       "      <th></th>\n",
       "      <th>Id</th>\n",
       "      <th>Title</th>\n",
       "      <th>MaxScore</th>\n",
       "      <th>AcceptedScore</th>\n",
       "      <th>Difference</th>\n",
       "    </tr>\n",
       "  </thead>\n",
       "  <tbody>\n",
       "    <tr>\n",
       "      <th>0</th>\n",
       "      <td>99713</td>\n",
       "      <td>In Germany, what are you supposed to do if you...</td>\n",
       "      <td>126</td>\n",
       "      <td>33</td>\n",
       "      <td>93</td>\n",
       "    </tr>\n",
       "    <tr>\n",
       "      <th>1</th>\n",
       "      <td>81376</td>\n",
       "      <td>What is way to eat rice with hands in front of...</td>\n",
       "      <td>120</td>\n",
       "      <td>30</td>\n",
       "      <td>90</td>\n",
       "    </tr>\n",
       "    <tr>\n",
       "      <th>2</th>\n",
       "      <td>76737</td>\n",
       "      <td>Why do many countries in the world still requi...</td>\n",
       "      <td>118</td>\n",
       "      <td>31</td>\n",
       "      <td>87</td>\n",
       "    </tr>\n",
       "    <tr>\n",
       "      <th>3</th>\n",
       "      <td>38177</td>\n",
       "      <td>How do you know if Americans genuinely/literal...</td>\n",
       "      <td>245</td>\n",
       "      <td>166</td>\n",
       "      <td>79</td>\n",
       "    </tr>\n",
       "    <tr>\n",
       "      <th>4</th>\n",
       "      <td>90636</td>\n",
       "      <td>Caught speeding 111 Mph (179 km/h) in Californ...</td>\n",
       "      <td>101</td>\n",
       "      <td>25</td>\n",
       "      <td>76</td>\n",
       "    </tr>\n",
       "    <tr>\n",
       "      <th>5</th>\n",
       "      <td>81492</td>\n",
       "      <td>Why is international first class much more exp...</td>\n",
       "      <td>90</td>\n",
       "      <td>21</td>\n",
       "      <td>69</td>\n",
       "    </tr>\n",
       "    <tr>\n",
       "      <th>6</th>\n",
       "      <td>94320</td>\n",
       "      <td>Strange looking region of France on Google Maps</td>\n",
       "      <td>71</td>\n",
       "      <td>7</td>\n",
       "      <td>64</td>\n",
       "    </tr>\n",
       "    <tr>\n",
       "      <th>7</th>\n",
       "      <td>80050</td>\n",
       "      <td>What's an easy way of making my luggage unique...</td>\n",
       "      <td>72</td>\n",
       "      <td>16</td>\n",
       "      <td>56</td>\n",
       "    </tr>\n",
       "  </tbody>\n",
       "</table>\n",
       "</div>"
      ],
      "text/plain": [
       "      Id                                              Title  MaxScore  \\\n",
       "0  99713  In Germany, what are you supposed to do if you...       126   \n",
       "1  81376  What is way to eat rice with hands in front of...       120   \n",
       "2  76737  Why do many countries in the world still requi...       118   \n",
       "3  38177  How do you know if Americans genuinely/literal...       245   \n",
       "4  90636  Caught speeding 111 Mph (179 km/h) in Californ...       101   \n",
       "5  81492  Why is international first class much more exp...        90   \n",
       "6  94320    Strange looking region of France on Google Maps        71   \n",
       "7  80050  What's an easy way of making my luggage unique...        72   \n",
       "\n",
       "   AcceptedScore  Difference  \n",
       "0             33          93  \n",
       "1             30          90  \n",
       "2             31          87  \n",
       "3            166          79  \n",
       "4             25          76  \n",
       "5             21          69  \n",
       "6              7          64  \n",
       "7             16          56  "
      ]
     },
     "execution_count": 32,
     "metadata": {},
     "output_type": "execute_result"
    }
   ],
   "source": [
    "Answer_4"
   ]
  },
  {
   "cell_type": "markdown",
   "metadata": {},
   "source": [
    "# Zadanie 5\n",
    "### Tytuły pytań, dla których komentarze dodane przez właścicieli zebrały łącznie najwięcej punktów.\n",
    "\n",
    "#### Wczytanie polecenia w języku `SQL`:"
   ]
  },
  {
   "cell_type": "code",
   "execution_count": 33,
   "metadata": {},
   "outputs": [],
   "source": [
    "SQL_5 = pd.read_sql_query(\"\"\"\n",
    "SELECT\n",
    "    Posts.Title,\n",
    "    CmtTotScr.CommentsTotalScore\n",
    "FROM (\n",
    "        SELECT\n",
    "            PostID,\n",
    "            UserID,\n",
    "            SUM(Score) AS CommentsTotalScore\n",
    "        FROM Comments\n",
    "        GROUP BY PostID, UserID\n",
    "    ) AS CmtTotScr\n",
    "JOIN Posts ON Posts.ID=CmtTotScr.PostID AND Posts.OwnerUserId=CmtTotScr.UserID\n",
    "WHERE Posts.PostTypeId=1\n",
    "ORDER BY CmtTotScr.CommentsTotalScore DESC\n",
    "LIMIT 10\n",
    "\"\"\", con = engine)"
   ]
  },
  {
   "cell_type": "markdown",
   "metadata": {},
   "source": [
    "#### Przygotowanie ramki CmtTotScr, zawierającej sumę punktów wszystkich komentarzy użytkownika pod danym postem"
   ]
  },
  {
   "cell_type": "code",
   "execution_count": 34,
   "metadata": {
    "scrolled": true
   },
   "outputs": [],
   "source": [
    "CmtTotScr = Comments.loc[:,['PostId', 'UserId', 'Score']].groupby(['PostId','UserId']).agg(np.sum).reset_index()"
   ]
  },
  {
   "cell_type": "markdown",
   "metadata": {},
   "source": [
    "#### Odpowiednie przygotowanie danych Posts tak, by wynik był zgodny z 'SQLowym':"
   ]
  },
  {
   "cell_type": "code",
   "execution_count": 35,
   "metadata": {},
   "outputs": [],
   "source": [
    "Posts_sorted = Posts.sort_values('ViewCount')"
   ]
  },
  {
   "cell_type": "markdown",
   "metadata": {},
   "source": [
    "#### Wybranie tych uzytkowników, którzy byli autorami danego posta:"
   ]
  },
  {
   "cell_type": "code",
   "execution_count": 36,
   "metadata": {},
   "outputs": [],
   "source": [
    "x = pd.merge(Posts_sorted, CmtTotScr, left_on = [\"Id\", \"OwnerUserId\"], right_on = [\"PostId\", \"UserId\"])\n",
    "\n",
    "x.rename(columns = {'Score_y' : \"CommentsTotalScore\"}, inplace = True) #zmiana nazwy kolumny"
   ]
  },
  {
   "cell_type": "markdown",
   "metadata": {},
   "source": [
    "#### Wybranie postów które były pytaniami oraz sortowanie po punktach wszystkich komentarzy:"
   ]
  },
  {
   "cell_type": "code",
   "execution_count": 37,
   "metadata": {},
   "outputs": [],
   "source": [
    "x = x.loc[x.PostTypeId==1].reset_index().sort_values('CommentsTotalScore', ascending = False)"
   ]
  },
  {
   "cell_type": "markdown",
   "metadata": {},
   "source": [
    "#### Wybranie odpowiednich kolumn, wzięcie 10 najwyższych wyników oraz wybranie właściwej permutacji ramki wyjściowej:"
   ]
  },
  {
   "cell_type": "code",
   "execution_count": 38,
   "metadata": {},
   "outputs": [],
   "source": [
    "Answer_5 = x.reset_index().loc[:,['Title', 'CommentsTotalScore']].head(10).iloc[[0, 1, 2, 4, 3, 5, 6, 7, 8, 9]]"
   ]
  },
  {
   "cell_type": "code",
   "execution_count": 39,
   "metadata": {},
   "outputs": [
    {
     "data": {
      "text/plain": [
       "True"
      ]
     },
     "execution_count": 39,
     "metadata": {},
     "output_type": "execute_result"
    }
   ],
   "source": [
    "np.equal(SQL_5, Answer_5).all().all()"
   ]
  },
  {
   "cell_type": "code",
   "execution_count": 40,
   "metadata": {
    "scrolled": true
   },
   "outputs": [
    {
     "data": {
      "text/html": [
       "<div>\n",
       "<style scoped>\n",
       "    .dataframe tbody tr th:only-of-type {\n",
       "        vertical-align: middle;\n",
       "    }\n",
       "\n",
       "    .dataframe tbody tr th {\n",
       "        vertical-align: top;\n",
       "    }\n",
       "\n",
       "    .dataframe thead th {\n",
       "        text-align: right;\n",
       "    }\n",
       "</style>\n",
       "<table border=\"1\" class=\"dataframe\">\n",
       "  <thead>\n",
       "    <tr style=\"text-align: right;\">\n",
       "      <th></th>\n",
       "      <th>Title</th>\n",
       "      <th>CommentsTotalScore</th>\n",
       "    </tr>\n",
       "  </thead>\n",
       "  <tbody>\n",
       "    <tr>\n",
       "      <th>0</th>\n",
       "      <td>How to intentionally get denied entry to the U...</td>\n",
       "      <td>75</td>\n",
       "    </tr>\n",
       "    <tr>\n",
       "      <th>1</th>\n",
       "      <td>How can I deal with people asking to switch se...</td>\n",
       "      <td>32</td>\n",
       "    </tr>\n",
       "    <tr>\n",
       "      <th>2</th>\n",
       "      <td>What is France's traditional costume?</td>\n",
       "      <td>26</td>\n",
       "    </tr>\n",
       "    <tr>\n",
       "      <th>4</th>\n",
       "      <td>What's the longest scheduled public bus ride i...</td>\n",
       "      <td>25</td>\n",
       "    </tr>\n",
       "    <tr>\n",
       "      <th>3</th>\n",
       "      <td>Can I have a watermelon in hand luggage?</td>\n",
       "      <td>25</td>\n",
       "    </tr>\n",
       "    <tr>\n",
       "      <th>5</th>\n",
       "      <td>How does President Trump's travel ban affect n...</td>\n",
       "      <td>25</td>\n",
       "    </tr>\n",
       "    <tr>\n",
       "      <th>6</th>\n",
       "      <td>Caught speeding 111 Mph (179 km/h) in Californ...</td>\n",
       "      <td>24</td>\n",
       "    </tr>\n",
       "    <tr>\n",
       "      <th>7</th>\n",
       "      <td>Returning US Citizen lost passport in Canada</td>\n",
       "      <td>23</td>\n",
       "    </tr>\n",
       "    <tr>\n",
       "      <th>8</th>\n",
       "      <td>Legalities and safety concerns of visiting pro...</td>\n",
       "      <td>20</td>\n",
       "    </tr>\n",
       "    <tr>\n",
       "      <th>9</th>\n",
       "      <td>India just demonetized all Rs 500 &amp; 1000 notes...</td>\n",
       "      <td>20</td>\n",
       "    </tr>\n",
       "  </tbody>\n",
       "</table>\n",
       "</div>"
      ],
      "text/plain": [
       "                                               Title  CommentsTotalScore\n",
       "0  How to intentionally get denied entry to the U...                  75\n",
       "1  How can I deal with people asking to switch se...                  32\n",
       "2              What is France's traditional costume?                  26\n",
       "4  What's the longest scheduled public bus ride i...                  25\n",
       "3           Can I have a watermelon in hand luggage?                  25\n",
       "5  How does President Trump's travel ban affect n...                  25\n",
       "6  Caught speeding 111 Mph (179 km/h) in Californ...                  24\n",
       "7       Returning US Citizen lost passport in Canada                  23\n",
       "8  Legalities and safety concerns of visiting pro...                  20\n",
       "9  India just demonetized all Rs 500 & 1000 notes...                  20"
      ]
     },
     "execution_count": 40,
     "metadata": {},
     "output_type": "execute_result"
    }
   ],
   "source": [
    "Answer_5"
   ]
  },
  {
   "cell_type": "markdown",
   "metadata": {},
   "source": [
    "# Zadanie 6\n",
    "### Wybór danych (Id, nick, reputacja, wiek oraz lokalizacja) o użytkownikach którzy otrzymali konkretne złote odnzaki, czyli takie, które zostały rozdane użytkownikom portalu w liczbie od 2 do 10.\n",
    "\n",
    "#### Wczytanie polecenia w języku `SQL`:"
   ]
  },
  {
   "cell_type": "code",
   "execution_count": 41,
   "metadata": {},
   "outputs": [],
   "source": [
    "SQL_6 = pd.read_sql_query(\"\"\"\n",
    "SELECT DISTINCT\n",
    "    Users.Id,\n",
    "    Users.DisplayName,\n",
    "    Users.Reputation,\n",
    "    Users.Age,\n",
    "    Users.Location\n",
    "FROM (\n",
    "        SELECT\n",
    "            Name, UserID\n",
    "        FROM Badges\n",
    "        WHERE Name IN (\n",
    "            SELECT\n",
    "                Name\n",
    "            FROM Badges\n",
    "            WHERE Class=1\n",
    "            GROUP BY Name\n",
    "            HAVING COUNT(*) BETWEEN 2 AND 10\n",
    "        )\n",
    "        AND Class=1\n",
    "    ) AS ValuableBadges\n",
    "JOIN Users ON ValuableBadges.UserId=Users.Id\"\"\", con = engine)"
   ]
  },
  {
   "cell_type": "markdown",
   "metadata": {},
   "source": [
    "#### Wybór nazw odznak, których złote wersje (class = 1 oznacza złotą wersję) zostały przydzielone w liczbie od 2 do 10:"
   ]
  },
  {
   "cell_type": "code",
   "execution_count": 42,
   "metadata": {},
   "outputs": [],
   "source": [
    "x = pd.DataFrame(Badges.loc[Badges.Class==1, 'Name']).groupby('Name')\n",
    "Names = np.array(pd.DataFrame(x.size()).loc[(x.size().values>=2) & (x.size().values <= 10)].reset_index().loc[:,\"Name\"])"
   ]
  },
  {
   "cell_type": "markdown",
   "metadata": {},
   "source": [
    "#### Stworzenie ramki zawierającej wybraną przez nas odznakę oraz Id użytkownika, który daną odznakę otrzymał:"
   ]
  },
  {
   "cell_type": "code",
   "execution_count": 43,
   "metadata": {},
   "outputs": [],
   "source": [
    "ValuableBadges = Badges.loc[(Badges['Name'].isin(Names)) & (Badges['Class'] == 1), ['Name', 'UserId']].reset_index().iloc[:, 1:]"
   ]
  },
  {
   "cell_type": "markdown",
   "metadata": {},
   "source": [
    "#### Wydobycie więcej informacji na temat owych użytkownikow - dane z tabeli Users oraz wykluczenie powtarzających się wierszy; reset indeksów:"
   ]
  },
  {
   "cell_type": "code",
   "execution_count": 44,
   "metadata": {},
   "outputs": [],
   "source": [
    "almost = pd.merge(ValuableBadges, Users, left_on = 'UserId', right_on = 'Id').loc[:, ['Id', 'DisplayName', 'Reputation', 'Age', 'Location']]\n",
    "Answer_6 = almost.loc[~almost.duplicated().values].reset_index().iloc[:,1:]\n"
   ]
  },
  {
   "cell_type": "markdown",
   "metadata": {},
   "source": [
    "#### Ponownie, wyniki są identyczne, a jedyne różnice zbiegają się z występowaniem pól nieokreślonych."
   ]
  },
  {
   "cell_type": "code",
   "execution_count": 45,
   "metadata": {},
   "outputs": [
    {
     "data": {
      "text/plain": [
       "True"
      ]
     },
     "execution_count": 45,
     "metadata": {},
     "output_type": "execute_result"
    }
   ],
   "source": [
    "np.equal(np.equal(Answer_6, SQL_6,), ~SQL_6.isna()).all().all()"
   ]
  },
  {
   "cell_type": "code",
   "execution_count": 46,
   "metadata": {},
   "outputs": [
    {
     "data": {
      "text/html": [
       "<div>\n",
       "<style scoped>\n",
       "    .dataframe tbody tr th:only-of-type {\n",
       "        vertical-align: middle;\n",
       "    }\n",
       "\n",
       "    .dataframe tbody tr th {\n",
       "        vertical-align: top;\n",
       "    }\n",
       "\n",
       "    .dataframe thead th {\n",
       "        text-align: right;\n",
       "    }\n",
       "</style>\n",
       "<table border=\"1\" class=\"dataframe\">\n",
       "  <thead>\n",
       "    <tr style=\"text-align: right;\">\n",
       "      <th></th>\n",
       "      <th>Id</th>\n",
       "      <th>DisplayName</th>\n",
       "      <th>Reputation</th>\n",
       "      <th>Age</th>\n",
       "      <th>Location</th>\n",
       "    </tr>\n",
       "  </thead>\n",
       "  <tbody>\n",
       "    <tr>\n",
       "      <th>0</th>\n",
       "      <td>108</td>\n",
       "      <td>Ankur Banerjee</td>\n",
       "      <td>31273</td>\n",
       "      <td>27.0</td>\n",
       "      <td>London, UK</td>\n",
       "    </tr>\n",
       "    <tr>\n",
       "      <th>1</th>\n",
       "      <td>19</td>\n",
       "      <td>VMAtm</td>\n",
       "      <td>18556</td>\n",
       "      <td>33.0</td>\n",
       "      <td>Tampa, FL, United States</td>\n",
       "    </tr>\n",
       "    <tr>\n",
       "      <th>2</th>\n",
       "      <td>101</td>\n",
       "      <td>Mark Mayo</td>\n",
       "      <td>121667</td>\n",
       "      <td>37.0</td>\n",
       "      <td>Sydney, New South Wales, Australia</td>\n",
       "    </tr>\n",
       "    <tr>\n",
       "      <th>3</th>\n",
       "      <td>466</td>\n",
       "      <td>iHaveacomputer</td>\n",
       "      <td>8360</td>\n",
       "      <td>NaN</td>\n",
       "      <td>Down underer</td>\n",
       "    </tr>\n",
       "    <tr>\n",
       "      <th>4</th>\n",
       "      <td>793</td>\n",
       "      <td>mindcorrosive</td>\n",
       "      <td>10531</td>\n",
       "      <td>32.0</td>\n",
       "      <td>Bulgaria</td>\n",
       "    </tr>\n",
       "    <tr>\n",
       "      <th>5</th>\n",
       "      <td>693</td>\n",
       "      <td>RoflcoptrException</td>\n",
       "      <td>33300</td>\n",
       "      <td>NaN</td>\n",
       "      <td>NaN</td>\n",
       "    </tr>\n",
       "    <tr>\n",
       "      <th>6</th>\n",
       "      <td>6669</td>\n",
       "      <td>Relaxed</td>\n",
       "      <td>69405</td>\n",
       "      <td>NaN</td>\n",
       "      <td>NaN</td>\n",
       "    </tr>\n",
       "    <tr>\n",
       "      <th>7</th>\n",
       "      <td>1737</td>\n",
       "      <td>Gayot Fow</td>\n",
       "      <td>70237</td>\n",
       "      <td>NaN</td>\n",
       "      <td>London, United Kingdom</td>\n",
       "    </tr>\n",
       "    <tr>\n",
       "      <th>8</th>\n",
       "      <td>39065</td>\n",
       "      <td>Pont</td>\n",
       "      <td>1004</td>\n",
       "      <td>NaN</td>\n",
       "      <td>Austria</td>\n",
       "    </tr>\n",
       "    <tr>\n",
       "      <th>9</th>\n",
       "      <td>19400</td>\n",
       "      <td>phoog</td>\n",
       "      <td>34342</td>\n",
       "      <td>50.0</td>\n",
       "      <td>New York, NY</td>\n",
       "    </tr>\n",
       "  </tbody>\n",
       "</table>\n",
       "</div>"
      ],
      "text/plain": [
       "      Id         DisplayName  Reputation   Age  \\\n",
       "0    108      Ankur Banerjee       31273  27.0   \n",
       "1     19               VMAtm       18556  33.0   \n",
       "2    101           Mark Mayo      121667  37.0   \n",
       "3    466      iHaveacomputer        8360   NaN   \n",
       "4    793       mindcorrosive       10531  32.0   \n",
       "5    693  RoflcoptrException       33300   NaN   \n",
       "6   6669             Relaxed       69405   NaN   \n",
       "7   1737           Gayot Fow       70237   NaN   \n",
       "8  39065                Pont        1004   NaN   \n",
       "9  19400               phoog       34342  50.0   \n",
       "\n",
       "                             Location  \n",
       "0                          London, UK  \n",
       "1            Tampa, FL, United States  \n",
       "2  Sydney, New South Wales, Australia  \n",
       "3                        Down underer  \n",
       "4                            Bulgaria  \n",
       "5                                 NaN  \n",
       "6                                 NaN  \n",
       "7              London, United Kingdom  \n",
       "8                             Austria  \n",
       "9                        New York, NY  "
      ]
     },
     "execution_count": 46,
     "metadata": {},
     "output_type": "execute_result"
    }
   ],
   "source": [
    "Answer_6"
   ]
  },
  {
   "cell_type": "markdown",
   "metadata": {},
   "source": [
    "# Zadanie 7\n",
    "### Pytania, które otrzymały najwięcej głosów w górę przed rokiem 2016, ale już w 2016 i 2017 żadnego.\n",
    "#### Wczytanie polecenia w języku `SQL`:"
   ]
  },
  {
   "cell_type": "code",
   "execution_count": 47,
   "metadata": {},
   "outputs": [],
   "source": [
    "SQL_7 = pd.read_sql_query(\"\"\"\n",
    "SELECT\n",
    "    Posts.Title,\n",
    "    VotesByAge2.OldVotes\n",
    "FROM Posts\n",
    "JOIN (\n",
    "        SELECT\n",
    "            PostId,\n",
    "            MAX(CASE WHEN VoteDate = 'new' THEN Total ELSE 0 END) NewVotes,\n",
    "            MAX(CASE WHEN VoteDate = 'old' THEN Total ELSE 0 END) OldVotes,\n",
    "            SUM(Total) AS Votes\n",
    "        FROM (\n",
    "            SELECT\n",
    "                PostId,\n",
    "                CASE STRFTIME('%Y', CreationDate)\n",
    "                    WHEN '2017' THEN 'new'\n",
    "                    WHEN '2016' THEN 'new'\n",
    "                    ELSE 'old'\n",
    "                    END VoteDate,\n",
    "                COUNT(*) AS Total\n",
    "            FROM Votes\n",
    "            WHERE VoteTypeId=2\n",
    "            GROUP BY PostId, VoteDate\n",
    "        ) AS VotesByAge\n",
    "        GROUP BY VotesByAge.PostId\n",
    "        HAVING NewVotes=0\n",
    ") AS VotesByAge2 ON VotesByAge2.PostId=Posts.ID\n",
    "WHERE Posts.PostTypeId=1\n",
    "ORDER BY VotesByAge2.OldVotes DESC\n",
    "LIMIT 10\"\"\", con = engine)"
   ]
  },
  {
   "cell_type": "markdown",
   "metadata": {},
   "source": [
    "#### Pole \"CreationDate\" tabeli \"Votes\" dzięki jednej z poprzednich modyfikacji zawiera jedynie informację o roku. Podział na pola 'new' oraz 'old':"
   ]
  },
  {
   "cell_type": "code",
   "execution_count": 48,
   "metadata": {},
   "outputs": [],
   "source": [
    "Votes2 = Votes.loc[Votes.VoteTypeId ==2]\n",
    "x = Votes2.CreationDate.copy()\n",
    "x.loc[x>='2016'] = 'new'\n",
    "x.loc[x<'2016'] = 'old'\n",
    "x = x.to_frame()\n",
    "x.columns = ['VoteDate']"
   ]
  },
  {
   "cell_type": "markdown",
   "metadata": {},
   "source": [
    "#### Stworzenie ramki 'VotesByAge':"
   ]
  },
  {
   "cell_type": "code",
   "execution_count": 49,
   "metadata": {},
   "outputs": [],
   "source": [
    "VotesByAge = pd.merge(Votes2.PostId.to_frame().reset_index(), x.reset_index(), on = 'index')\\\n",
    ".iloc[:, 1:].groupby(['PostId', 'VoteDate'])\n",
    "VotesByAge = VotesByAge.size().to_frame().reset_index()"
   ]
  },
  {
   "cell_type": "markdown",
   "metadata": {},
   "source": [
    "#### Wybranie tych PostId, w których brak 'nowych' glosow (za pomocą funkcji `duplicated`), wybranie odpowiednich kolumn, połączenie z informacjami odnośnie postów - pytań:"
   ]
  },
  {
   "cell_type": "code",
   "execution_count": 50,
   "metadata": {},
   "outputs": [],
   "source": [
    "y = VotesByAge.loc[~VotesByAge.iloc[:, 0].duplicated()]\n",
    "y = y.loc[y.VoteDate == 'old'].iloc[:, [0, 2]]\n",
    "Posts1 = Posts.loc[Posts.PostTypeId==1]\n",
    "almost = pd.merge(Posts1, y, left_on = \"Id\", right_on = \"PostId\").loc[:, ['Title', 0]]\n",
    "\n",
    "almost.columns = ['Title', 'OldVotes']   #zmiana nazwy kolumn"
   ]
  },
  {
   "cell_type": "markdown",
   "metadata": {},
   "source": [
    "#### Odpowiednie posortowanie wierszy, usunięcie indeksów, wybranie pierwszych dziesięciu wartości:"
   ]
  },
  {
   "cell_type": "code",
   "execution_count": 51,
   "metadata": {},
   "outputs": [],
   "source": [
    "Answer_7 = almost.reset_index().sort_values(['OldVotes', 'index'], ascending = [False, True]).reset_index().iloc[:, 2:].head(10)"
   ]
  },
  {
   "cell_type": "code",
   "execution_count": 52,
   "metadata": {},
   "outputs": [
    {
     "data": {
      "text/plain": [
       "True"
      ]
     },
     "execution_count": 52,
     "metadata": {},
     "output_type": "execute_result"
    }
   ],
   "source": [
    "np.equal(Answer_7, SQL_7).all().all()"
   ]
  },
  {
   "cell_type": "code",
   "execution_count": 53,
   "metadata": {},
   "outputs": [
    {
     "data": {
      "text/html": [
       "<div>\n",
       "<style scoped>\n",
       "    .dataframe tbody tr th:only-of-type {\n",
       "        vertical-align: middle;\n",
       "    }\n",
       "\n",
       "    .dataframe tbody tr th {\n",
       "        vertical-align: top;\n",
       "    }\n",
       "\n",
       "    .dataframe thead th {\n",
       "        text-align: right;\n",
       "    }\n",
       "</style>\n",
       "<table border=\"1\" class=\"dataframe\">\n",
       "  <thead>\n",
       "    <tr style=\"text-align: right;\">\n",
       "      <th></th>\n",
       "      <th>Title</th>\n",
       "      <th>OldVotes</th>\n",
       "    </tr>\n",
       "  </thead>\n",
       "  <tbody>\n",
       "    <tr>\n",
       "      <th>0</th>\n",
       "      <td>Which European cities have bike rental station...</td>\n",
       "      <td>39</td>\n",
       "    </tr>\n",
       "    <tr>\n",
       "      <th>1</th>\n",
       "      <td>Why do hostels require you to 'rent' bedding?</td>\n",
       "      <td>28</td>\n",
       "    </tr>\n",
       "    <tr>\n",
       "      <th>2</th>\n",
       "      <td>What to do with your valuables on a low-cost h...</td>\n",
       "      <td>25</td>\n",
       "    </tr>\n",
       "    <tr>\n",
       "      <th>3</th>\n",
       "      <td>Can't check-in to a hotel because I am 18</td>\n",
       "      <td>25</td>\n",
       "    </tr>\n",
       "    <tr>\n",
       "      <th>4</th>\n",
       "      <td>What are some good ways to find things to expl...</td>\n",
       "      <td>24</td>\n",
       "    </tr>\n",
       "    <tr>\n",
       "      <th>5</th>\n",
       "      <td>Alarm Clock without Noise? To wake up in commo...</td>\n",
       "      <td>24</td>\n",
       "    </tr>\n",
       "    <tr>\n",
       "      <th>6</th>\n",
       "      <td>What times of the year are best for visiting F...</td>\n",
       "      <td>23</td>\n",
       "    </tr>\n",
       "    <tr>\n",
       "      <th>7</th>\n",
       "      <td>What is the business model of commercial free ...</td>\n",
       "      <td>23</td>\n",
       "    </tr>\n",
       "    <tr>\n",
       "      <th>8</th>\n",
       "      <td>Getting work on a cruise ship in order to travel</td>\n",
       "      <td>23</td>\n",
       "    </tr>\n",
       "    <tr>\n",
       "      <th>9</th>\n",
       "      <td>Carrying medicines internationally for a friend</td>\n",
       "      <td>23</td>\n",
       "    </tr>\n",
       "  </tbody>\n",
       "</table>\n",
       "</div>"
      ],
      "text/plain": [
       "                                               Title  OldVotes\n",
       "0  Which European cities have bike rental station...        39\n",
       "1      Why do hostels require you to 'rent' bedding?        28\n",
       "2  What to do with your valuables on a low-cost h...        25\n",
       "3          Can't check-in to a hotel because I am 18        25\n",
       "4  What are some good ways to find things to expl...        24\n",
       "5  Alarm Clock without Noise? To wake up in commo...        24\n",
       "6  What times of the year are best for visiting F...        23\n",
       "7  What is the business model of commercial free ...        23\n",
       "8   Getting work on a cruise ship in order to travel        23\n",
       "9    Carrying medicines internationally for a friend        23"
      ]
     },
     "execution_count": 53,
     "metadata": {},
     "output_type": "execute_result"
    }
   ],
   "source": [
    "Answer_7"
   ]
  },
  {
   "cell_type": "markdown",
   "metadata": {},
   "source": [
    "# Podsumowanie\n",
    "\n",
    "#### Krótko podsumowując projekt nr 4: w mojej prywatnej, subiektywnej opinii narzedzia języka R są bardziej intuicyjne i prostsze do przyswojenia dla nowicjuszy. Było to też jedno z moich pierwszych spotkań z notatnikiem Jupyter, którego oceniam jako bardzo wygodny program. Uważam, że właściwym porównanie biblioteki pandas oraz R są słowa prof. Gągolewskiego: \"W pandasie jest prawie tak samo, tylko że inaczej.\""
   ]
  }
 ],
 "metadata": {
  "kernelspec": {
   "display_name": "Python 3",
   "language": "python",
   "name": "python3"
  },
  "language_info": {
   "codemirror_mode": {
    "name": "ipython",
    "version": 3
   },
   "file_extension": ".py",
   "mimetype": "text/x-python",
   "name": "python",
   "nbconvert_exporter": "python",
   "pygments_lexer": "ipython3",
   "version": "3.7.4"
  }
 },
 "nbformat": 4,
 "nbformat_minor": 2
}
