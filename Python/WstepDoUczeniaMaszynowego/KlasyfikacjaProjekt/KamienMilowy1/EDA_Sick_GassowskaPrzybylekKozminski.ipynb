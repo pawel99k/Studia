{
 "cells": [
  {
   "cell_type": "markdown",
   "metadata": {},
   "source": [
    "# <center>Eksploracja zbioru danych `sick`</center>\n",
    "### <center>16 marca 2020r.</center>\n",
    "### <center>Ada Gąssowska, Paweł Koźmiński, Paulina Przybyłek</center>"
   ]
  },
  {
   "cell_type": "markdown",
   "metadata": {},
   "source": [
    "## 1.Wczytanie danych"
   ]
  },
  {
   "cell_type": "code",
   "execution_count": 9,
   "metadata": {
    "colab": {},
    "colab_type": "code",
    "id": "Pch0PxcmLMfJ"
   },
   "outputs": [],
   "source": [
    "import numpy as np\n",
    "import pandas as pd\n",
    "import sklearn\n",
    "import seaborn as sns\n",
    "import matplotlib.pyplot as plt\n",
    "import math\n",
    "\n",
    "\n",
    "#PK: problem z wczytaniem danych - blad 403 forbidden przy normalnym wczytaniu\n",
    "#PK: https://datascience.stackexchange.com/questions/49751/read-csv-file-directly-from-url-how-to-fix-a-403-forbidden-error\n",
    "\n",
    "from io import StringIO\n",
    "import requests\n",
    "\n",
    "headers = {'User-Agent': 'Mozilla/5.0 (Windows NT 6.1; WOW64) AppleWebKit/537.36 (KHTML, like Gecko) Chrome/56.0.2924.76 Safari/537.36'}\n",
    "url = \"https://datahub.io/machine-learning/sick/r/sick.csv\"\n",
    "s = requests.get(url, headers = headers).text\n",
    "df = pd.read_csv(StringIO(s))"
   ]
  },
  {
   "cell_type": "markdown",
   "metadata": {},
   "source": [
    "Thyroid disease records supplied by the Garavan Institute and J. Ross Quinlan, New South Wales Institute, Syndney, Australia. 1987."
   ]
  },
  {
   "cell_type": "code",
   "execution_count": 100,
   "metadata": {
    "colab": {
     "base_uri": "https://localhost:8080/",
     "height": 397
    },
    "colab_type": "code",
    "id": "z3PX0HJyrNUq",
    "outputId": "a57241ec-bbcb-4ba3-b95a-fa13d985800f"
   },
   "outputs": [],
   "source": [
    "#from google.colab import drive\n",
    "#drive.mount('/content/drive')\n"
   ]
  },
  {
   "cell_type": "markdown",
   "metadata": {
    "colab_type": "text",
    "id": "8uDB9b5OysA-"
   },
   "source": [
    "## 2. Wstępna analiza zbiorku - zapoznanie się z danymi"
   ]
  },
  {
   "cell_type": "code",
   "execution_count": 101,
   "metadata": {
    "colab": {
     "base_uri": "https://localhost:8080/",
     "height": 226
    },
    "colab_type": "code",
    "id": "-gq0xTL6MsfH",
    "outputId": "6a91e407-9c0d-40cb-815e-4d11a7bf3d70"
   },
   "outputs": [
    {
     "data": {
      "text/html": [
       "<div>\n",
       "<style scoped>\n",
       "    .dataframe tbody tr th:only-of-type {\n",
       "        vertical-align: middle;\n",
       "    }\n",
       "\n",
       "    .dataframe tbody tr th {\n",
       "        vertical-align: top;\n",
       "    }\n",
       "\n",
       "    .dataframe thead th {\n",
       "        text-align: right;\n",
       "    }\n",
       "</style>\n",
       "<table border=\"1\" class=\"dataframe\">\n",
       "  <thead>\n",
       "    <tr style=\"text-align: right;\">\n",
       "      <th></th>\n",
       "      <th>age</th>\n",
       "      <th>sex</th>\n",
       "      <th>on_thyroxine</th>\n",
       "      <th>query_on_thyroxine</th>\n",
       "      <th>on_antithyroid_medication</th>\n",
       "      <th>sick</th>\n",
       "      <th>pregnant</th>\n",
       "      <th>thyroid_surgery</th>\n",
       "      <th>I131_treatment</th>\n",
       "      <th>query_hypothyroid</th>\n",
       "      <th>...</th>\n",
       "      <th>TT4_measured</th>\n",
       "      <th>TT4</th>\n",
       "      <th>T4U_measured</th>\n",
       "      <th>T4U</th>\n",
       "      <th>FTI_measured</th>\n",
       "      <th>FTI</th>\n",
       "      <th>TBG_measured</th>\n",
       "      <th>TBG</th>\n",
       "      <th>referral_source</th>\n",
       "      <th>Class</th>\n",
       "    </tr>\n",
       "  </thead>\n",
       "  <tbody>\n",
       "    <tr>\n",
       "      <th>0</th>\n",
       "      <td>41.0</td>\n",
       "      <td>F</td>\n",
       "      <td>f</td>\n",
       "      <td>f</td>\n",
       "      <td>f</td>\n",
       "      <td>f</td>\n",
       "      <td>f</td>\n",
       "      <td>f</td>\n",
       "      <td>f</td>\n",
       "      <td>f</td>\n",
       "      <td>...</td>\n",
       "      <td>t</td>\n",
       "      <td>125.0</td>\n",
       "      <td>t</td>\n",
       "      <td>1.14</td>\n",
       "      <td>t</td>\n",
       "      <td>109.0</td>\n",
       "      <td>f</td>\n",
       "      <td>NaN</td>\n",
       "      <td>SVHC</td>\n",
       "      <td>negative</td>\n",
       "    </tr>\n",
       "    <tr>\n",
       "      <th>1</th>\n",
       "      <td>23.0</td>\n",
       "      <td>F</td>\n",
       "      <td>f</td>\n",
       "      <td>f</td>\n",
       "      <td>f</td>\n",
       "      <td>f</td>\n",
       "      <td>f</td>\n",
       "      <td>f</td>\n",
       "      <td>f</td>\n",
       "      <td>f</td>\n",
       "      <td>...</td>\n",
       "      <td>t</td>\n",
       "      <td>102.0</td>\n",
       "      <td>f</td>\n",
       "      <td>NaN</td>\n",
       "      <td>f</td>\n",
       "      <td>NaN</td>\n",
       "      <td>f</td>\n",
       "      <td>NaN</td>\n",
       "      <td>other</td>\n",
       "      <td>negative</td>\n",
       "    </tr>\n",
       "    <tr>\n",
       "      <th>2</th>\n",
       "      <td>46.0</td>\n",
       "      <td>M</td>\n",
       "      <td>f</td>\n",
       "      <td>f</td>\n",
       "      <td>f</td>\n",
       "      <td>f</td>\n",
       "      <td>f</td>\n",
       "      <td>f</td>\n",
       "      <td>f</td>\n",
       "      <td>f</td>\n",
       "      <td>...</td>\n",
       "      <td>t</td>\n",
       "      <td>109.0</td>\n",
       "      <td>t</td>\n",
       "      <td>0.91</td>\n",
       "      <td>t</td>\n",
       "      <td>120.0</td>\n",
       "      <td>f</td>\n",
       "      <td>NaN</td>\n",
       "      <td>other</td>\n",
       "      <td>negative</td>\n",
       "    </tr>\n",
       "    <tr>\n",
       "      <th>3</th>\n",
       "      <td>70.0</td>\n",
       "      <td>F</td>\n",
       "      <td>t</td>\n",
       "      <td>f</td>\n",
       "      <td>f</td>\n",
       "      <td>f</td>\n",
       "      <td>f</td>\n",
       "      <td>f</td>\n",
       "      <td>f</td>\n",
       "      <td>f</td>\n",
       "      <td>...</td>\n",
       "      <td>t</td>\n",
       "      <td>175.0</td>\n",
       "      <td>f</td>\n",
       "      <td>NaN</td>\n",
       "      <td>f</td>\n",
       "      <td>NaN</td>\n",
       "      <td>f</td>\n",
       "      <td>NaN</td>\n",
       "      <td>other</td>\n",
       "      <td>negative</td>\n",
       "    </tr>\n",
       "    <tr>\n",
       "      <th>4</th>\n",
       "      <td>70.0</td>\n",
       "      <td>F</td>\n",
       "      <td>f</td>\n",
       "      <td>f</td>\n",
       "      <td>f</td>\n",
       "      <td>f</td>\n",
       "      <td>f</td>\n",
       "      <td>f</td>\n",
       "      <td>f</td>\n",
       "      <td>f</td>\n",
       "      <td>...</td>\n",
       "      <td>t</td>\n",
       "      <td>61.0</td>\n",
       "      <td>t</td>\n",
       "      <td>0.87</td>\n",
       "      <td>t</td>\n",
       "      <td>70.0</td>\n",
       "      <td>f</td>\n",
       "      <td>NaN</td>\n",
       "      <td>SVI</td>\n",
       "      <td>negative</td>\n",
       "    </tr>\n",
       "  </tbody>\n",
       "</table>\n",
       "<p>5 rows × 30 columns</p>\n",
       "</div>"
      ],
      "text/plain": [
       "    age sex on_thyroxine query_on_thyroxine on_antithyroid_medication sick  \\\n",
       "0  41.0   F            f                  f                         f    f   \n",
       "1  23.0   F            f                  f                         f    f   \n",
       "2  46.0   M            f                  f                         f    f   \n",
       "3  70.0   F            t                  f                         f    f   \n",
       "4  70.0   F            f                  f                         f    f   \n",
       "\n",
       "  pregnant thyroid_surgery I131_treatment query_hypothyroid  ... TT4_measured  \\\n",
       "0        f               f              f                 f  ...            t   \n",
       "1        f               f              f                 f  ...            t   \n",
       "2        f               f              f                 f  ...            t   \n",
       "3        f               f              f                 f  ...            t   \n",
       "4        f               f              f                 f  ...            t   \n",
       "\n",
       "     TT4 T4U_measured   T4U FTI_measured    FTI TBG_measured  TBG  \\\n",
       "0  125.0            t  1.14            t  109.0            f  NaN   \n",
       "1  102.0            f   NaN            f    NaN            f  NaN   \n",
       "2  109.0            t  0.91            t  120.0            f  NaN   \n",
       "3  175.0            f   NaN            f    NaN            f  NaN   \n",
       "4   61.0            t  0.87            t   70.0            f  NaN   \n",
       "\n",
       "  referral_source     Class  \n",
       "0            SVHC  negative  \n",
       "1           other  negative  \n",
       "2           other  negative  \n",
       "3           other  negative  \n",
       "4             SVI  negative  \n",
       "\n",
       "[5 rows x 30 columns]"
      ]
     },
     "execution_count": 101,
     "metadata": {},
     "output_type": "execute_result"
    }
   ],
   "source": [
    "df.head()"
   ]
  },
  {
   "cell_type": "code",
   "execution_count": 102,
   "metadata": {
    "colab": {
     "base_uri": "https://localhost:8080/",
     "height": 625
    },
    "colab_type": "code",
    "id": "-6vcvpqyNAY6",
    "outputId": "dae9676c-d64e-4a2c-8620-e0a72ddb1cce"
   },
   "outputs": [
    {
     "name": "stdout",
     "output_type": "stream",
     "text": [
      "<class 'pandas.core.frame.DataFrame'>\n",
      "RangeIndex: 3772 entries, 0 to 3771\n",
      "Data columns (total 30 columns):\n",
      "age                          3771 non-null float64\n",
      "sex                          3622 non-null object\n",
      "on_thyroxine                 3772 non-null object\n",
      "query_on_thyroxine           3772 non-null object\n",
      "on_antithyroid_medication    3772 non-null object\n",
      "sick                         3772 non-null object\n",
      "pregnant                     3772 non-null object\n",
      "thyroid_surgery              3772 non-null object\n",
      "I131_treatment               3772 non-null object\n",
      "query_hypothyroid            3772 non-null object\n",
      "query_hyperthyroid           3772 non-null object\n",
      "lithium                      3772 non-null object\n",
      "goitre                       3772 non-null object\n",
      "tumor                        3772 non-null object\n",
      "hypopituitary                3772 non-null object\n",
      "psych                        3772 non-null object\n",
      "TSH_measured                 3772 non-null object\n",
      "TSH                          3403 non-null float64\n",
      "T3_measured                  3772 non-null object\n",
      "T3                           3003 non-null float64\n",
      "TT4_measured                 3772 non-null object\n",
      "TT4                          3541 non-null float64\n",
      "T4U_measured                 3772 non-null object\n",
      "T4U                          3385 non-null float64\n",
      "FTI_measured                 3772 non-null object\n",
      "FTI                          3387 non-null float64\n",
      "TBG_measured                 3772 non-null object\n",
      "TBG                          0 non-null float64\n",
      "referral_source              3772 non-null object\n",
      "Class                        3772 non-null object\n",
      "dtypes: float64(7), object(23)\n",
      "memory usage: 884.1+ KB\n"
     ]
    }
   ],
   "source": [
    "df.info()"
   ]
  },
  {
   "cell_type": "code",
   "execution_count": 103,
   "metadata": {
    "colab": {
     "base_uri": "https://localhost:8080/",
     "height": 121
    },
    "colab_type": "code",
    "id": "7ooIgzXXNBiP",
    "outputId": "43e8a36e-c5b7-4af1-e02b-a36d5272c3ec"
   },
   "outputs": [
    {
     "name": "stdout",
     "output_type": "stream",
     "text": [
      "True\n",
      "True\n",
      "True\n",
      "True\n",
      "True\n",
      "True\n"
     ]
    }
   ],
   "source": [
    "print(all(np.array(df.TSH_measured==\"f\") == np.array(df.TSH.isna())))\n",
    "print(all(np.array(df.T3_measured==\"f\") == np.array(df.T3.isna())))\n",
    "print(all(np.array(df.TT4_measured==\"f\") == np.array(df.TT4.isna())))\n",
    "print(all(np.array(df.T4U_measured==\"f\") == np.array(df.T4U.isna())))\n",
    "print(all(np.array(df.FTI_measured==\"f\") == np.array(df.FTI.isna())))\n",
    "print(all(np.array(df.TBG_measured==\"f\") == np.array(df.TBG.isna())))"
   ]
  },
  {
   "cell_type": "markdown",
   "metadata": {},
   "source": [
    "### PK: wniosek - kolumny \"_measured\" nie wnoszą informacji, bo \"f\" oznacza NA w odpowiadajacych kolumnach.\n"
   ]
  },
  {
   "cell_type": "code",
   "execution_count": 104,
   "metadata": {
    "colab": {
     "base_uri": "https://localhost:8080/",
     "height": 34
    },
    "colab_type": "code",
    "id": "tIr57V6TNrrd",
    "outputId": "25fc9423-ef6d-4999-e98a-66b1bee87960"
   },
   "outputs": [
    {
     "data": {
      "text/plain": [
       "array(['f', 't'], dtype=object)"
      ]
     },
     "execution_count": 104,
     "metadata": {},
     "output_type": "execute_result"
    }
   ],
   "source": [
    "np.unique(np.array(df.iloc[:,2:16]))"
   ]
  },
  {
   "cell_type": "markdown",
   "metadata": {},
   "source": [
    "### PK: wniosek (calkiem oczekiwany) - kolumny 2:15 maja tylko informacje true/false, skonwertujmy je na booleany\n"
   ]
  },
  {
   "cell_type": "code",
   "execution_count": 105,
   "metadata": {
    "colab": {
     "base_uri": "https://localhost:8080/",
     "height": 226
    },
    "colab_type": "code",
    "id": "qmpnLGa2PjsA",
    "outputId": "892ba2f6-130f-4922-e539-f7f24bacd58b"
   },
   "outputs": [
    {
     "data": {
      "text/html": [
       "<div>\n",
       "<style scoped>\n",
       "    .dataframe tbody tr th:only-of-type {\n",
       "        vertical-align: middle;\n",
       "    }\n",
       "\n",
       "    .dataframe tbody tr th {\n",
       "        vertical-align: top;\n",
       "    }\n",
       "\n",
       "    .dataframe thead th {\n",
       "        text-align: right;\n",
       "    }\n",
       "</style>\n",
       "<table border=\"1\" class=\"dataframe\">\n",
       "  <thead>\n",
       "    <tr style=\"text-align: right;\">\n",
       "      <th></th>\n",
       "      <th>age</th>\n",
       "      <th>sex</th>\n",
       "      <th>on_thyroxine</th>\n",
       "      <th>query_on_thyroxine</th>\n",
       "      <th>on_antithyroid_medication</th>\n",
       "      <th>sick</th>\n",
       "      <th>pregnant</th>\n",
       "      <th>thyroid_surgery</th>\n",
       "      <th>I131_treatment</th>\n",
       "      <th>query_hypothyroid</th>\n",
       "      <th>...</th>\n",
       "      <th>hypopituitary</th>\n",
       "      <th>psych</th>\n",
       "      <th>TSH</th>\n",
       "      <th>T3</th>\n",
       "      <th>TT4</th>\n",
       "      <th>T4U</th>\n",
       "      <th>FTI</th>\n",
       "      <th>TBG</th>\n",
       "      <th>referral_source</th>\n",
       "      <th>Class</th>\n",
       "    </tr>\n",
       "  </thead>\n",
       "  <tbody>\n",
       "    <tr>\n",
       "      <th>0</th>\n",
       "      <td>41.0</td>\n",
       "      <td>F</td>\n",
       "      <td>False</td>\n",
       "      <td>False</td>\n",
       "      <td>False</td>\n",
       "      <td>False</td>\n",
       "      <td>False</td>\n",
       "      <td>False</td>\n",
       "      <td>False</td>\n",
       "      <td>False</td>\n",
       "      <td>...</td>\n",
       "      <td>False</td>\n",
       "      <td>False</td>\n",
       "      <td>1.30</td>\n",
       "      <td>2.5</td>\n",
       "      <td>125.0</td>\n",
       "      <td>1.14</td>\n",
       "      <td>109.0</td>\n",
       "      <td>NaN</td>\n",
       "      <td>SVHC</td>\n",
       "      <td>negative</td>\n",
       "    </tr>\n",
       "    <tr>\n",
       "      <th>1</th>\n",
       "      <td>23.0</td>\n",
       "      <td>F</td>\n",
       "      <td>False</td>\n",
       "      <td>False</td>\n",
       "      <td>False</td>\n",
       "      <td>False</td>\n",
       "      <td>False</td>\n",
       "      <td>False</td>\n",
       "      <td>False</td>\n",
       "      <td>False</td>\n",
       "      <td>...</td>\n",
       "      <td>False</td>\n",
       "      <td>False</td>\n",
       "      <td>4.10</td>\n",
       "      <td>2.0</td>\n",
       "      <td>102.0</td>\n",
       "      <td>NaN</td>\n",
       "      <td>NaN</td>\n",
       "      <td>NaN</td>\n",
       "      <td>other</td>\n",
       "      <td>negative</td>\n",
       "    </tr>\n",
       "    <tr>\n",
       "      <th>2</th>\n",
       "      <td>46.0</td>\n",
       "      <td>M</td>\n",
       "      <td>False</td>\n",
       "      <td>False</td>\n",
       "      <td>False</td>\n",
       "      <td>False</td>\n",
       "      <td>False</td>\n",
       "      <td>False</td>\n",
       "      <td>False</td>\n",
       "      <td>False</td>\n",
       "      <td>...</td>\n",
       "      <td>False</td>\n",
       "      <td>False</td>\n",
       "      <td>0.98</td>\n",
       "      <td>NaN</td>\n",
       "      <td>109.0</td>\n",
       "      <td>0.91</td>\n",
       "      <td>120.0</td>\n",
       "      <td>NaN</td>\n",
       "      <td>other</td>\n",
       "      <td>negative</td>\n",
       "    </tr>\n",
       "    <tr>\n",
       "      <th>3</th>\n",
       "      <td>70.0</td>\n",
       "      <td>F</td>\n",
       "      <td>True</td>\n",
       "      <td>False</td>\n",
       "      <td>False</td>\n",
       "      <td>False</td>\n",
       "      <td>False</td>\n",
       "      <td>False</td>\n",
       "      <td>False</td>\n",
       "      <td>False</td>\n",
       "      <td>...</td>\n",
       "      <td>False</td>\n",
       "      <td>False</td>\n",
       "      <td>0.16</td>\n",
       "      <td>1.9</td>\n",
       "      <td>175.0</td>\n",
       "      <td>NaN</td>\n",
       "      <td>NaN</td>\n",
       "      <td>NaN</td>\n",
       "      <td>other</td>\n",
       "      <td>negative</td>\n",
       "    </tr>\n",
       "    <tr>\n",
       "      <th>4</th>\n",
       "      <td>70.0</td>\n",
       "      <td>F</td>\n",
       "      <td>False</td>\n",
       "      <td>False</td>\n",
       "      <td>False</td>\n",
       "      <td>False</td>\n",
       "      <td>False</td>\n",
       "      <td>False</td>\n",
       "      <td>False</td>\n",
       "      <td>False</td>\n",
       "      <td>...</td>\n",
       "      <td>False</td>\n",
       "      <td>False</td>\n",
       "      <td>0.72</td>\n",
       "      <td>1.2</td>\n",
       "      <td>61.0</td>\n",
       "      <td>0.87</td>\n",
       "      <td>70.0</td>\n",
       "      <td>NaN</td>\n",
       "      <td>SVI</td>\n",
       "      <td>negative</td>\n",
       "    </tr>\n",
       "  </tbody>\n",
       "</table>\n",
       "<p>5 rows × 24 columns</p>\n",
       "</div>"
      ],
      "text/plain": [
       "    age sex  on_thyroxine  query_on_thyroxine  on_antithyroid_medication  \\\n",
       "0  41.0   F         False               False                      False   \n",
       "1  23.0   F         False               False                      False   \n",
       "2  46.0   M         False               False                      False   \n",
       "3  70.0   F          True               False                      False   \n",
       "4  70.0   F         False               False                      False   \n",
       "\n",
       "    sick  pregnant  thyroid_surgery  I131_treatment  query_hypothyroid  ...  \\\n",
       "0  False     False            False           False              False  ...   \n",
       "1  False     False            False           False              False  ...   \n",
       "2  False     False            False           False              False  ...   \n",
       "3  False     False            False           False              False  ...   \n",
       "4  False     False            False           False              False  ...   \n",
       "\n",
       "   hypopituitary  psych   TSH   T3    TT4   T4U    FTI  TBG  referral_source  \\\n",
       "0          False  False  1.30  2.5  125.0  1.14  109.0  NaN             SVHC   \n",
       "1          False  False  4.10  2.0  102.0   NaN    NaN  NaN            other   \n",
       "2          False  False  0.98  NaN  109.0  0.91  120.0  NaN            other   \n",
       "3          False  False  0.16  1.9  175.0   NaN    NaN  NaN            other   \n",
       "4          False  False  0.72  1.2   61.0  0.87   70.0  NaN              SVI   \n",
       "\n",
       "      Class  \n",
       "0  negative  \n",
       "1  negative  \n",
       "2  negative  \n",
       "3  negative  \n",
       "4  negative  \n",
       "\n",
       "[5 rows x 24 columns]"
      ]
     },
     "execution_count": 105,
     "metadata": {},
     "output_type": "execute_result"
    }
   ],
   "source": [
    "data = pd.DataFrame(index = df.index, columns = df.columns[np.logical_not(df.columns.isin([\"TSH_measured\", \"T3_measured\", \"TT4_measured\", \"T4U_measured\", \"FTI_measured\", \"TBG_measured\"]))])\n",
    "data.fillna(value = 0, inplace = True)\n",
    "\n",
    "data.iloc[:,0:2] = df.iloc[:, 0:2]\n",
    "data.iloc[:,2:16] = df.iloc[:, 2:16] == \"t\"\n",
    "data.iloc[:,16:22] = df.loc[:,[\"TSH\", \"T3\", \"TT4\", \"T4U\", \"FTI\", \"TBG\"]]\n",
    "data.iloc[:, 22:24] = df.loc[:, [\"referral_source\", \"Class\"]]\n",
    "\n",
    "data.head()"
   ]
  },
  {
   "cell_type": "code",
   "execution_count": 107,
   "metadata": {
    "colab": {},
    "colab_type": "code",
    "id": "7za4f-eRSomW"
   },
   "outputs": [],
   "source": [
    "from pandas.testing import assert_frame_equal\n",
    "assert_frame_equal(data.iloc[:,[0, 1, 16, 17, 18, 19, 20, 21, 22, 23]], df.iloc[:, [0, 1, 17, 19, 21, 23, 25, 27, 28, 29]])"
   ]
  },
  {
   "cell_type": "markdown",
   "metadata": {},
   "source": [
    "### PK: potwierdzone: data jest naszym przygotowanym zbiorem danym"
   ]
  },
  {
   "cell_type": "code",
   "execution_count": 108,
   "metadata": {},
   "outputs": [
    {
     "name": "stdout",
     "output_type": "stream",
     "text": [
      "F    2480\n",
      "M    1142\n",
      "Name: sex, dtype: int64\n"
     ]
    },
    {
     "data": {
      "text/plain": [
       "sex  Class   \n",
       "F    negative    0.945161\n",
       "     sick        0.054839\n",
       "M    negative    0.922067\n",
       "     sick        0.077933\n",
       "Name: Class, dtype: float64"
      ]
     },
     "execution_count": 108,
     "metadata": {},
     "output_type": "execute_result"
    }
   ],
   "source": [
    "print(data.sex.value_counts())\n",
    "data.groupby(\"sex\").Class.value_counts(normalize = True)"
   ]
  },
  {
   "cell_type": "markdown",
   "metadata": {},
   "source": [
    "### PP: Więcej kobiet niż mężczyzn, liczba osób chorych jest dość niska\n"
   ]
  },
  {
   "cell_type": "markdown",
   "metadata": {},
   "source": [
    "### Sprawdzenie klas kolumn:"
   ]
  },
  {
   "cell_type": "code",
   "execution_count": 112,
   "metadata": {
    "colab": {
     "base_uri": "https://localhost:8080/",
     "height": 451
    },
    "colab_type": "code",
    "id": "K0yEHVVZb365",
    "outputId": "ba5a1547-608c-4931-a6ec-e7d681dda930"
   },
   "outputs": [
    {
     "data": {
      "text/plain": [
       "age                          float64\n",
       "sex                           object\n",
       "on_thyroxine                    bool\n",
       "query_on_thyroxine              bool\n",
       "on_antithyroid_medication       bool\n",
       "sick                            bool\n",
       "pregnant                        bool\n",
       "thyroid_surgery                 bool\n",
       "I131_treatment                  bool\n",
       "query_hypothyroid               bool\n",
       "query_hyperthyroid              bool\n",
       "lithium                         bool\n",
       "goitre                          bool\n",
       "tumor                           bool\n",
       "hypopituitary                   bool\n",
       "psych                           bool\n",
       "TSH                          float64\n",
       "T3                           float64\n",
       "TT4                          float64\n",
       "T4U                          float64\n",
       "FTI                          float64\n",
       "TBG                          float64\n",
       "referral_source               object\n",
       "Class                         object\n",
       "dtype: object"
      ]
     },
     "execution_count": 112,
     "metadata": {},
     "output_type": "execute_result"
    }
   ],
   "source": [
    "data.dtypes"
   ]
  },
  {
   "cell_type": "code",
   "execution_count": 113,
   "metadata": {
    "colab": {
     "base_uri": "https://localhost:8080/",
     "height": 121
    },
    "colab_type": "code",
    "id": "EdT1yfsE4aj6",
    "outputId": "c73bcf4d-0470-4ec3-e105-a4dbb2a0e4b8"
   },
   "outputs": [
    {
     "name": "stdout",
     "output_type": "stream",
     "text": [
      "False    3625\n",
      "True      147\n",
      "Name: sick, dtype: int64\n",
      "negative    3541\n",
      "sick         231\n",
      "Name: Class, dtype: int64\n"
     ]
    }
   ],
   "source": [
    "print(data.sick.value_counts())\n",
    "\n",
    "print(data.Class.value_counts())"
   ]
  },
  {
   "cell_type": "code",
   "execution_count": 114,
   "metadata": {
    "colab": {},
    "colab_type": "code",
    "id": "QJg0go3b7e_g"
   },
   "outputs": [],
   "source": [
    "data[\"Class\"]=df[\"Class\"]==\"sick\"\n",
    "data=data.rename(columns={\"Class\":\"Thyroid_disease\"})"
   ]
  },
  {
   "cell_type": "code",
   "execution_count": 115,
   "metadata": {
    "colab": {
     "base_uri": "https://localhost:8080/",
     "height": 34
    },
    "colab_type": "code",
    "id": "ofiZUMpL5LIq",
    "outputId": "8e37dc30-6c33-4bda-b45f-441ea7b84f83"
   },
   "outputs": [
    {
     "data": {
      "text/plain": [
       "array(['SVHC', 'other', 'SVI', 'STMW', 'SVHD'], dtype=object)"
      ]
     },
     "execution_count": 115,
     "metadata": {},
     "output_type": "execute_result"
    }
   ],
   "source": [
    "pd.unique(data.referral_source)\n",
    "#ewentualnie można zamienić tę kolumnę na 0,1,2,3,4"
   ]
  },
  {
   "cell_type": "code",
   "execution_count": 116,
   "metadata": {
    "colab": {
     "base_uri": "https://localhost:8080/",
     "height": 226
    },
    "colab_type": "code",
    "id": "esRJ-mZfCnSj",
    "outputId": "bed0705a-06a9-44a1-e343-02a882df9b68"
   },
   "outputs": [
    {
     "data": {
      "text/html": [
       "<div>\n",
       "<style scoped>\n",
       "    .dataframe tbody tr th:only-of-type {\n",
       "        vertical-align: middle;\n",
       "    }\n",
       "\n",
       "    .dataframe tbody tr th {\n",
       "        vertical-align: top;\n",
       "    }\n",
       "\n",
       "    .dataframe thead th {\n",
       "        text-align: right;\n",
       "    }\n",
       "</style>\n",
       "<table border=\"1\" class=\"dataframe\">\n",
       "  <thead>\n",
       "    <tr style=\"text-align: right;\">\n",
       "      <th></th>\n",
       "      <th>age</th>\n",
       "      <th>sex</th>\n",
       "      <th>on_thyroxine</th>\n",
       "      <th>query_on_thyroxine</th>\n",
       "      <th>on_antithyroid_medication</th>\n",
       "      <th>sick</th>\n",
       "      <th>pregnant</th>\n",
       "      <th>thyroid_surgery</th>\n",
       "      <th>I131_treatment</th>\n",
       "      <th>query_hypothyroid</th>\n",
       "      <th>...</th>\n",
       "      <th>hypopituitary</th>\n",
       "      <th>psych</th>\n",
       "      <th>TSH</th>\n",
       "      <th>T3</th>\n",
       "      <th>TT4</th>\n",
       "      <th>T4U</th>\n",
       "      <th>FTI</th>\n",
       "      <th>TBG</th>\n",
       "      <th>referral_source</th>\n",
       "      <th>Thyroid_disease</th>\n",
       "    </tr>\n",
       "  </thead>\n",
       "  <tbody>\n",
       "    <tr>\n",
       "      <th>0</th>\n",
       "      <td>41.0</td>\n",
       "      <td>F</td>\n",
       "      <td>False</td>\n",
       "      <td>False</td>\n",
       "      <td>False</td>\n",
       "      <td>False</td>\n",
       "      <td>False</td>\n",
       "      <td>False</td>\n",
       "      <td>False</td>\n",
       "      <td>False</td>\n",
       "      <td>...</td>\n",
       "      <td>False</td>\n",
       "      <td>False</td>\n",
       "      <td>1.30</td>\n",
       "      <td>2.5</td>\n",
       "      <td>125.0</td>\n",
       "      <td>1.14</td>\n",
       "      <td>109.0</td>\n",
       "      <td>NaN</td>\n",
       "      <td>SVHC</td>\n",
       "      <td>False</td>\n",
       "    </tr>\n",
       "    <tr>\n",
       "      <th>1</th>\n",
       "      <td>23.0</td>\n",
       "      <td>F</td>\n",
       "      <td>False</td>\n",
       "      <td>False</td>\n",
       "      <td>False</td>\n",
       "      <td>False</td>\n",
       "      <td>False</td>\n",
       "      <td>False</td>\n",
       "      <td>False</td>\n",
       "      <td>False</td>\n",
       "      <td>...</td>\n",
       "      <td>False</td>\n",
       "      <td>False</td>\n",
       "      <td>4.10</td>\n",
       "      <td>2.0</td>\n",
       "      <td>102.0</td>\n",
       "      <td>NaN</td>\n",
       "      <td>NaN</td>\n",
       "      <td>NaN</td>\n",
       "      <td>other</td>\n",
       "      <td>False</td>\n",
       "    </tr>\n",
       "    <tr>\n",
       "      <th>2</th>\n",
       "      <td>46.0</td>\n",
       "      <td>M</td>\n",
       "      <td>False</td>\n",
       "      <td>False</td>\n",
       "      <td>False</td>\n",
       "      <td>False</td>\n",
       "      <td>False</td>\n",
       "      <td>False</td>\n",
       "      <td>False</td>\n",
       "      <td>False</td>\n",
       "      <td>...</td>\n",
       "      <td>False</td>\n",
       "      <td>False</td>\n",
       "      <td>0.98</td>\n",
       "      <td>NaN</td>\n",
       "      <td>109.0</td>\n",
       "      <td>0.91</td>\n",
       "      <td>120.0</td>\n",
       "      <td>NaN</td>\n",
       "      <td>other</td>\n",
       "      <td>False</td>\n",
       "    </tr>\n",
       "    <tr>\n",
       "      <th>3</th>\n",
       "      <td>70.0</td>\n",
       "      <td>F</td>\n",
       "      <td>True</td>\n",
       "      <td>False</td>\n",
       "      <td>False</td>\n",
       "      <td>False</td>\n",
       "      <td>False</td>\n",
       "      <td>False</td>\n",
       "      <td>False</td>\n",
       "      <td>False</td>\n",
       "      <td>...</td>\n",
       "      <td>False</td>\n",
       "      <td>False</td>\n",
       "      <td>0.16</td>\n",
       "      <td>1.9</td>\n",
       "      <td>175.0</td>\n",
       "      <td>NaN</td>\n",
       "      <td>NaN</td>\n",
       "      <td>NaN</td>\n",
       "      <td>other</td>\n",
       "      <td>False</td>\n",
       "    </tr>\n",
       "    <tr>\n",
       "      <th>4</th>\n",
       "      <td>70.0</td>\n",
       "      <td>F</td>\n",
       "      <td>False</td>\n",
       "      <td>False</td>\n",
       "      <td>False</td>\n",
       "      <td>False</td>\n",
       "      <td>False</td>\n",
       "      <td>False</td>\n",
       "      <td>False</td>\n",
       "      <td>False</td>\n",
       "      <td>...</td>\n",
       "      <td>False</td>\n",
       "      <td>False</td>\n",
       "      <td>0.72</td>\n",
       "      <td>1.2</td>\n",
       "      <td>61.0</td>\n",
       "      <td>0.87</td>\n",
       "      <td>70.0</td>\n",
       "      <td>NaN</td>\n",
       "      <td>SVI</td>\n",
       "      <td>False</td>\n",
       "    </tr>\n",
       "  </tbody>\n",
       "</table>\n",
       "<p>5 rows × 24 columns</p>\n",
       "</div>"
      ],
      "text/plain": [
       "    age sex  on_thyroxine  query_on_thyroxine  on_antithyroid_medication  \\\n",
       "0  41.0   F         False               False                      False   \n",
       "1  23.0   F         False               False                      False   \n",
       "2  46.0   M         False               False                      False   \n",
       "3  70.0   F          True               False                      False   \n",
       "4  70.0   F         False               False                      False   \n",
       "\n",
       "    sick  pregnant  thyroid_surgery  I131_treatment  query_hypothyroid  ...  \\\n",
       "0  False     False            False           False              False  ...   \n",
       "1  False     False            False           False              False  ...   \n",
       "2  False     False            False           False              False  ...   \n",
       "3  False     False            False           False              False  ...   \n",
       "4  False     False            False           False              False  ...   \n",
       "\n",
       "   hypopituitary  psych   TSH   T3    TT4   T4U    FTI  TBG  referral_source  \\\n",
       "0          False  False  1.30  2.5  125.0  1.14  109.0  NaN             SVHC   \n",
       "1          False  False  4.10  2.0  102.0   NaN    NaN  NaN            other   \n",
       "2          False  False  0.98  NaN  109.0  0.91  120.0  NaN            other   \n",
       "3          False  False  0.16  1.9  175.0   NaN    NaN  NaN            other   \n",
       "4          False  False  0.72  1.2   61.0  0.87   70.0  NaN              SVI   \n",
       "\n",
       "   Thyroid_disease  \n",
       "0            False  \n",
       "1            False  \n",
       "2            False  \n",
       "3            False  \n",
       "4            False  \n",
       "\n",
       "[5 rows x 24 columns]"
      ]
     },
     "execution_count": 116,
     "metadata": {},
     "output_type": "execute_result"
    }
   ],
   "source": [
    "data.head()"
   ]
  },
  {
   "cell_type": "markdown",
   "metadata": {},
   "source": [
    "### PK: Sprawdźmy jaki jest odsetek osób oznaczonych jako chore wśród oznaczonych przez kolejne pola:"
   ]
  },
  {
   "cell_type": "code",
   "execution_count": 117,
   "metadata": {},
   "outputs": [
    {
     "name": "stdout",
     "output_type": "stream",
     "text": [
      "Odsetek osób chorych na tarczycę wśród będących na tyroksynie: 0.026\n",
      "Odsetek osób chorych na tarczycę wśród będących na tyreostatykach: 0.0\n",
      "Odsetek osób chorych na tarczycę wśród będących chorymi: 0.17\n",
      "Odsetek osób chorych na tarczycę wśród będących w ciąży: 0.0\n",
      "Odsetek osób chorych na tarczycę wśród będących po operacji wycięcia tarczycy: 0.0\n",
      "Odsetek osób chorych na tarczycę wśród będących leczonych jodem-131: 0.017\n",
      "Odsetek osób chorych na tarczycę wśród będących z niedoczynnością tarczycy: 0.12\n",
      "Odsetek osób chorych na tarczycę wśród będących z nadczynnością tarczycy: 0.034\n",
      "Odsetek osób chorych na tarczycę wśród będących chorymi na Chorobę Glińskiego-Simmondsa: 1.0\n"
     ]
    }
   ],
   "source": [
    "def ods_chorych(stri, column):\n",
    "    print(\"Odsetek osób chorych na tarczycę wśród będących \" + stri + \": {}\".format(\n",
    "    round(np.mean(data[column][\"Thyroid_disease\"]), 3)))\n",
    "    \n",
    "ods_chorych(\"na tyroksynie\", data.on_thyroxine)\n",
    "ods_chorych(\"na tyreostatykach\", data.on_antithyroid_medication)\n",
    "ods_chorych(\"chorymi\", data.sick)\n",
    "ods_chorych(\"w ciąży\", data.pregnant)\n",
    "ods_chorych(\"po operacji wycięcia tarczycy\", data.thyroid_surgery)\n",
    "ods_chorych(\"leczonych jodem-131\", data.I131_treatment)\n",
    "ods_chorych(\"z niedoczynnością tarczycy\", data.query_hypothyroid)\n",
    "ods_chorych(\"z nadczynnością tarczycy\", data.query_hyperthyroid)\n",
    "ods_chorych(\"chorymi na Chorobę Glińskiego-Simmondsa\", data.hypopituitary)"
   ]
  },
  {
   "cell_type": "code",
   "execution_count": 119,
   "metadata": {},
   "outputs": [
    {
     "data": {
      "text/html": [
       "<div>\n",
       "<style scoped>\n",
       "    .dataframe tbody tr th:only-of-type {\n",
       "        vertical-align: middle;\n",
       "    }\n",
       "\n",
       "    .dataframe tbody tr th {\n",
       "        vertical-align: top;\n",
       "    }\n",
       "\n",
       "    .dataframe thead th {\n",
       "        text-align: right;\n",
       "    }\n",
       "</style>\n",
       "<table border=\"1\" class=\"dataframe\">\n",
       "  <thead>\n",
       "    <tr style=\"text-align: right;\">\n",
       "      <th></th>\n",
       "      <th>age</th>\n",
       "      <th>sex</th>\n",
       "      <th>on_thyroxine</th>\n",
       "      <th>query_on_thyroxine</th>\n",
       "      <th>on_antithyroid_medication</th>\n",
       "      <th>sick</th>\n",
       "      <th>pregnant</th>\n",
       "      <th>thyroid_surgery</th>\n",
       "      <th>I131_treatment</th>\n",
       "      <th>query_hypothyroid</th>\n",
       "      <th>...</th>\n",
       "      <th>hypopituitary</th>\n",
       "      <th>psych</th>\n",
       "      <th>TSH</th>\n",
       "      <th>T3</th>\n",
       "      <th>TT4</th>\n",
       "      <th>T4U</th>\n",
       "      <th>FTI</th>\n",
       "      <th>TBG</th>\n",
       "      <th>referral_source</th>\n",
       "      <th>Thyroid_disease</th>\n",
       "    </tr>\n",
       "  </thead>\n",
       "  <tbody>\n",
       "    <tr>\n",
       "      <th>273</th>\n",
       "      <td>21.0</td>\n",
       "      <td>M</td>\n",
       "      <td>False</td>\n",
       "      <td>True</td>\n",
       "      <td>False</td>\n",
       "      <td>False</td>\n",
       "      <td>False</td>\n",
       "      <td>False</td>\n",
       "      <td>False</td>\n",
       "      <td>False</td>\n",
       "      <td>...</td>\n",
       "      <td>True</td>\n",
       "      <td>False</td>\n",
       "      <td>0.25</td>\n",
       "      <td>1.3</td>\n",
       "      <td>54.0</td>\n",
       "      <td>1.07</td>\n",
       "      <td>51.0</td>\n",
       "      <td>NaN</td>\n",
       "      <td>SVI</td>\n",
       "      <td>True</td>\n",
       "    </tr>\n",
       "  </tbody>\n",
       "</table>\n",
       "<p>1 rows × 24 columns</p>\n",
       "</div>"
      ],
      "text/plain": [
       "      age sex  on_thyroxine  query_on_thyroxine  on_antithyroid_medication  \\\n",
       "273  21.0   M         False                True                      False   \n",
       "\n",
       "      sick  pregnant  thyroid_surgery  I131_treatment  query_hypothyroid  ...  \\\n",
       "273  False     False            False           False              False  ...   \n",
       "\n",
       "     hypopituitary  psych   TSH   T3   TT4   T4U   FTI  TBG  referral_source  \\\n",
       "273           True  False  0.25  1.3  54.0  1.07  51.0  NaN              SVI   \n",
       "\n",
       "     Thyroid_disease  \n",
       "273             True  \n",
       "\n",
       "[1 rows x 24 columns]"
      ]
     },
     "execution_count": 119,
     "metadata": {},
     "output_type": "execute_result"
    }
   ],
   "source": [
    "data[data.hypopituitary]\n",
    "# tylko jedna obserwacja z chorobą Glińskiego-Simmondsa\n"
   ]
  },
  {
   "cell_type": "code",
   "execution_count": 152,
   "metadata": {},
   "outputs": [
    {
     "data": {
      "text/plain": [
       "147"
      ]
     },
     "execution_count": 152,
     "metadata": {},
     "output_type": "execute_result"
    }
   ],
   "source": [
    "data[data.sick].age.count()"
   ]
  },
  {
   "cell_type": "markdown",
   "metadata": {},
   "source": [
    "### PK: Tu już ciekawiej - 147 obserwacji, a odsetek pozytynych wartości w zmiennej objaśnianej około trzykrotnie wyższy"
   ]
  },
  {
   "cell_type": "code",
   "execution_count": 153,
   "metadata": {
    "colab": {
     "base_uri": "https://localhost:8080/",
     "height": 69
    },
    "colab_type": "code",
    "id": "Td_PI-3k2u1u",
    "outputId": "653cd7da-ca71-44b1-ddbc-51f63da33da2"
   },
   "outputs": [
    {
     "data": {
      "text/plain": [
       "False    94\n",
       "True      2\n",
       "Name: Thyroid_disease, dtype: int64"
      ]
     },
     "execution_count": 153,
     "metadata": {},
     "output_type": "execute_result"
    }
   ],
   "source": [
    "data.Thyroid_disease[data.tumor].value_counts()"
   ]
  },
  {
   "cell_type": "markdown",
   "metadata": {},
   "source": [
    "### PK: Co ciekawe - wśród osób z guzem, jedynie 2/94 osoby oznaczone jako chore"
   ]
  },
  {
   "cell_type": "code",
   "execution_count": 121,
   "metadata": {
    "colab": {
     "base_uri": "https://localhost:8080/",
     "height": 34
    },
    "colab_type": "code",
    "id": "9YIG8BeT7NRX",
    "outputId": "e6677df6-2342-4691-caeb-6333aacf39dd"
   },
   "outputs": [
    {
     "data": {
      "text/plain": [
       "array(['F', 'M', 'Missing'], dtype=object)"
      ]
     },
     "execution_count": 121,
     "metadata": {},
     "output_type": "execute_result"
    }
   ],
   "source": [
    "data[\"sex\"]=data[\"sex\"].replace(np.nan, \"Missing\", regex=True)\n",
    "pd.unique(data.sex)"
   ]
  },
  {
   "cell_type": "markdown",
   "metadata": {},
   "source": [
    "### PP: Wizualizacja liczby osób z podziałem na płeć (powyżej było to w liczbach, więc wiemy, że kobiet będzie więcej, sprawdźmy jak to wygląda na wykresie)\n"
   ]
  },
  {
   "cell_type": "code",
   "execution_count": 124,
   "metadata": {
    "colab": {
     "base_uri": "https://localhost:8080/",
     "height": 348
    },
    "colab_type": "code",
    "id": "ukAT6Q-GU53-",
    "outputId": "b95987c8-6445-44ab-88cf-c836e0acdfe3"
   },
   "outputs": [
    {
     "data": {
      "text/plain": [
       "[Text(0,0.5,'Licznosc'),\n",
       " [Text(0,0,'Kobiety'), Text(0,0,'Mezczyzni'), Text(0,0,'Brak danych')],\n",
       " Text(0.5,0,'Plec')]"
      ]
     },
     "execution_count": 124,
     "metadata": {},
     "output_type": "execute_result"
    },
    {
     "data": {
      "image/png": "[encoded data removed]",
      "text/plain": [
       "<Figure size 432x288 with 1 Axes>"
      ]
     },
     "metadata": {
      "needs_background": "light"
     },
     "output_type": "display_data"
    }
   ],
   "source": [
    "plot=sns.countplot(data.sex, dodge=False)\n",
    "plot.set_title(\"Plec badanych osob\")\n",
    "plot.set(xticklabels=[\"Kobiety\", \"Mezczyzni\", \"Brak danych\"], xlabel=\"Plec\", ylabel=\"Licznosc\")"
   ]
  },
  {
   "cell_type": "code",
   "execution_count": 125,
   "metadata": {
    "colab": {
     "base_uri": "https://localhost:8080/",
     "height": 282
    },
    "colab_type": "code",
    "id": "0QsHUgNg_qYg",
    "outputId": "68adfbd8-4fa6-4775-9e33-9774e0809eaa"
   },
   "outputs": [
    {
     "data": {
      "text/plain": [
       "[<matplotlib.lines.Line2D at 0x7f5263575950>]"
      ]
     },
     "execution_count": 125,
     "metadata": {},
     "output_type": "execute_result"
    },
    {
     "data": {
      "image/png": "[encoded data removed]",
      "text/plain": [
       "<Figure size 432x288 with 1 Axes>"
      ]
     },
     "metadata": {
      "needs_background": "light"
     },
     "output_type": "display_data"
    }
   ],
   "source": [
    "plt.plot(data.age, 'o')\n",
    "#PP: Dziwna wartość danych "
   ]
  },
  {
   "cell_type": "code",
   "execution_count": 126,
   "metadata": {
    "colab": {
     "base_uri": "https://localhost:8080/",
     "height": 300
    },
    "colab_type": "code",
    "id": "Rt4I-vvWAcdW",
    "outputId": "2fdc9e48-8fea-443a-c163-946ee1062302"
   },
   "outputs": [
    {
     "data": {
      "text/html": [
       "<div>\n",
       "<style scoped>\n",
       "    .dataframe tbody tr th:only-of-type {\n",
       "        vertical-align: middle;\n",
       "    }\n",
       "\n",
       "    .dataframe tbody tr th {\n",
       "        vertical-align: top;\n",
       "    }\n",
       "\n",
       "    .dataframe thead th {\n",
       "        text-align: right;\n",
       "    }\n",
       "</style>\n",
       "<table border=\"1\" class=\"dataframe\">\n",
       "  <thead>\n",
       "    <tr style=\"text-align: right;\">\n",
       "      <th></th>\n",
       "      <th>age</th>\n",
       "      <th>TSH</th>\n",
       "      <th>T3</th>\n",
       "      <th>TT4</th>\n",
       "      <th>T4U</th>\n",
       "      <th>FTI</th>\n",
       "      <th>TBG</th>\n",
       "    </tr>\n",
       "  </thead>\n",
       "  <tbody>\n",
       "    <tr>\n",
       "      <th>count</th>\n",
       "      <td>3771.000000</td>\n",
       "      <td>3403.000000</td>\n",
       "      <td>3003.000000</td>\n",
       "      <td>3541.000000</td>\n",
       "      <td>3385.000000</td>\n",
       "      <td>3387.000000</td>\n",
       "      <td>0.0</td>\n",
       "    </tr>\n",
       "    <tr>\n",
       "      <th>mean</th>\n",
       "      <td>51.735879</td>\n",
       "      <td>5.086766</td>\n",
       "      <td>2.013500</td>\n",
       "      <td>108.319345</td>\n",
       "      <td>0.995000</td>\n",
       "      <td>110.469649</td>\n",
       "      <td>NaN</td>\n",
       "    </tr>\n",
       "    <tr>\n",
       "      <th>std</th>\n",
       "      <td>20.084958</td>\n",
       "      <td>24.521470</td>\n",
       "      <td>0.827434</td>\n",
       "      <td>35.604248</td>\n",
       "      <td>0.195457</td>\n",
       "      <td>33.089698</td>\n",
       "      <td>NaN</td>\n",
       "    </tr>\n",
       "    <tr>\n",
       "      <th>min</th>\n",
       "      <td>1.000000</td>\n",
       "      <td>0.005000</td>\n",
       "      <td>0.050000</td>\n",
       "      <td>2.000000</td>\n",
       "      <td>0.250000</td>\n",
       "      <td>2.000000</td>\n",
       "      <td>NaN</td>\n",
       "    </tr>\n",
       "    <tr>\n",
       "      <th>25%</th>\n",
       "      <td>36.000000</td>\n",
       "      <td>0.500000</td>\n",
       "      <td>1.600000</td>\n",
       "      <td>88.000000</td>\n",
       "      <td>0.880000</td>\n",
       "      <td>93.000000</td>\n",
       "      <td>NaN</td>\n",
       "    </tr>\n",
       "    <tr>\n",
       "      <th>50%</th>\n",
       "      <td>54.000000</td>\n",
       "      <td>1.400000</td>\n",
       "      <td>2.000000</td>\n",
       "      <td>103.000000</td>\n",
       "      <td>0.980000</td>\n",
       "      <td>107.000000</td>\n",
       "      <td>NaN</td>\n",
       "    </tr>\n",
       "    <tr>\n",
       "      <th>75%</th>\n",
       "      <td>67.000000</td>\n",
       "      <td>2.700000</td>\n",
       "      <td>2.400000</td>\n",
       "      <td>124.000000</td>\n",
       "      <td>1.080000</td>\n",
       "      <td>124.000000</td>\n",
       "      <td>NaN</td>\n",
       "    </tr>\n",
       "    <tr>\n",
       "      <th>max</th>\n",
       "      <td>455.000000</td>\n",
       "      <td>530.000000</td>\n",
       "      <td>10.600000</td>\n",
       "      <td>430.000000</td>\n",
       "      <td>2.320000</td>\n",
       "      <td>395.000000</td>\n",
       "      <td>NaN</td>\n",
       "    </tr>\n",
       "  </tbody>\n",
       "</table>\n",
       "</div>"
      ],
      "text/plain": [
       "               age          TSH           T3          TT4          T4U  \\\n",
       "count  3771.000000  3403.000000  3003.000000  3541.000000  3385.000000   \n",
       "mean     51.735879     5.086766     2.013500   108.319345     0.995000   \n",
       "std      20.084958    24.521470     0.827434    35.604248     0.195457   \n",
       "min       1.000000     0.005000     0.050000     2.000000     0.250000   \n",
       "25%      36.000000     0.500000     1.600000    88.000000     0.880000   \n",
       "50%      54.000000     1.400000     2.000000   103.000000     0.980000   \n",
       "75%      67.000000     2.700000     2.400000   124.000000     1.080000   \n",
       "max     455.000000   530.000000    10.600000   430.000000     2.320000   \n",
       "\n",
       "               FTI  TBG  \n",
       "count  3387.000000  0.0  \n",
       "mean    110.469649  NaN  \n",
       "std      33.089698  NaN  \n",
       "min       2.000000  NaN  \n",
       "25%      93.000000  NaN  \n",
       "50%     107.000000  NaN  \n",
       "75%     124.000000  NaN  \n",
       "max     395.000000  NaN  "
      ]
     },
     "execution_count": 126,
     "metadata": {},
     "output_type": "execute_result"
    }
   ],
   "source": [
    "data.describe()"
   ]
  },
  {
   "cell_type": "markdown",
   "metadata": {},
   "source": [
    "### PP: Maksymalny wiek to 455?\n"
   ]
  },
  {
   "cell_type": "code",
   "execution_count": 128,
   "metadata": {
    "colab": {
     "base_uri": "https://localhost:8080/",
     "height": 101
    },
    "colab_type": "code",
    "id": "JC4uD5sAA2Y0",
    "outputId": "2f980ece-e380-4a73-97d6-93880239cfce"
   },
   "outputs": [
    {
     "data": {
      "text/html": [
       "<div>\n",
       "<style scoped>\n",
       "    .dataframe tbody tr th:only-of-type {\n",
       "        vertical-align: middle;\n",
       "    }\n",
       "\n",
       "    .dataframe tbody tr th {\n",
       "        vertical-align: top;\n",
       "    }\n",
       "\n",
       "    .dataframe thead th {\n",
       "        text-align: right;\n",
       "    }\n",
       "</style>\n",
       "<table border=\"1\" class=\"dataframe\">\n",
       "  <thead>\n",
       "    <tr style=\"text-align: right;\">\n",
       "      <th></th>\n",
       "      <th>age</th>\n",
       "      <th>sex</th>\n",
       "      <th>on_thyroxine</th>\n",
       "      <th>query_on_thyroxine</th>\n",
       "      <th>on_antithyroid_medication</th>\n",
       "      <th>sick</th>\n",
       "      <th>pregnant</th>\n",
       "      <th>thyroid_surgery</th>\n",
       "      <th>I131_treatment</th>\n",
       "      <th>query_hypothyroid</th>\n",
       "      <th>...</th>\n",
       "      <th>hypopituitary</th>\n",
       "      <th>psych</th>\n",
       "      <th>TSH</th>\n",
       "      <th>T3</th>\n",
       "      <th>TT4</th>\n",
       "      <th>T4U</th>\n",
       "      <th>FTI</th>\n",
       "      <th>TBG</th>\n",
       "      <th>referral_source</th>\n",
       "      <th>Thyroid_disease</th>\n",
       "    </tr>\n",
       "  </thead>\n",
       "  <tbody>\n",
       "    <tr>\n",
       "      <th>1364</th>\n",
       "      <td>455.0</td>\n",
       "      <td>F</td>\n",
       "      <td>False</td>\n",
       "      <td>False</td>\n",
       "      <td>False</td>\n",
       "      <td>False</td>\n",
       "      <td>False</td>\n",
       "      <td>False</td>\n",
       "      <td>False</td>\n",
       "      <td>False</td>\n",
       "      <td>...</td>\n",
       "      <td>False</td>\n",
       "      <td>False</td>\n",
       "      <td>1.1</td>\n",
       "      <td>2.0</td>\n",
       "      <td>118.0</td>\n",
       "      <td>1.13</td>\n",
       "      <td>104.0</td>\n",
       "      <td>NaN</td>\n",
       "      <td>SVI</td>\n",
       "      <td>False</td>\n",
       "    </tr>\n",
       "  </tbody>\n",
       "</table>\n",
       "<p>1 rows × 24 columns</p>\n",
       "</div>"
      ],
      "text/plain": [
       "        age sex  on_thyroxine  query_on_thyroxine  on_antithyroid_medication  \\\n",
       "1364  455.0   F         False               False                      False   \n",
       "\n",
       "       sick  pregnant  thyroid_surgery  I131_treatment  query_hypothyroid  \\\n",
       "1364  False     False            False           False              False   \n",
       "\n",
       "      ...  hypopituitary  psych  TSH   T3    TT4   T4U    FTI  TBG  \\\n",
       "1364  ...          False  False  1.1  2.0  118.0  1.13  104.0  NaN   \n",
       "\n",
       "      referral_source  Thyroid_disease  \n",
       "1364              SVI            False  \n",
       "\n",
       "[1 rows x 24 columns]"
      ]
     },
     "execution_count": 128,
     "metadata": {},
     "output_type": "execute_result"
    }
   ],
   "source": [
    "data[data.age == 455]"
   ]
  },
  {
   "cell_type": "markdown",
   "metadata": {},
   "source": [
    "### PP: Wiemy, że w kolumnie age jest jedna wartość NA\n"
   ]
  },
  {
   "cell_type": "code",
   "execution_count": 129,
   "metadata": {
    "colab": {
     "base_uri": "https://localhost:8080/",
     "height": 101
    },
    "colab_type": "code",
    "id": "nMIgD2zyBTYC",
    "outputId": "537c7c9e-d0dd-4804-c005-20087c97dac5"
   },
   "outputs": [
    {
     "data": {
      "text/html": [
       "<div>\n",
       "<style scoped>\n",
       "    .dataframe tbody tr th:only-of-type {\n",
       "        vertical-align: middle;\n",
       "    }\n",
       "\n",
       "    .dataframe tbody tr th {\n",
       "        vertical-align: top;\n",
       "    }\n",
       "\n",
       "    .dataframe thead th {\n",
       "        text-align: right;\n",
       "    }\n",
       "</style>\n",
       "<table border=\"1\" class=\"dataframe\">\n",
       "  <thead>\n",
       "    <tr style=\"text-align: right;\">\n",
       "      <th></th>\n",
       "      <th>age</th>\n",
       "      <th>sex</th>\n",
       "      <th>on_thyroxine</th>\n",
       "      <th>query_on_thyroxine</th>\n",
       "      <th>on_antithyroid_medication</th>\n",
       "      <th>sick</th>\n",
       "      <th>pregnant</th>\n",
       "      <th>thyroid_surgery</th>\n",
       "      <th>I131_treatment</th>\n",
       "      <th>query_hypothyroid</th>\n",
       "      <th>...</th>\n",
       "      <th>hypopituitary</th>\n",
       "      <th>psych</th>\n",
       "      <th>TSH</th>\n",
       "      <th>T3</th>\n",
       "      <th>TT4</th>\n",
       "      <th>T4U</th>\n",
       "      <th>FTI</th>\n",
       "      <th>TBG</th>\n",
       "      <th>referral_source</th>\n",
       "      <th>Thyroid_disease</th>\n",
       "    </tr>\n",
       "  </thead>\n",
       "  <tbody>\n",
       "    <tr>\n",
       "      <th>1985</th>\n",
       "      <td>NaN</td>\n",
       "      <td>F</td>\n",
       "      <td>True</td>\n",
       "      <td>False</td>\n",
       "      <td>False</td>\n",
       "      <td>False</td>\n",
       "      <td>False</td>\n",
       "      <td>False</td>\n",
       "      <td>True</td>\n",
       "      <td>False</td>\n",
       "      <td>...</td>\n",
       "      <td>False</td>\n",
       "      <td>False</td>\n",
       "      <td>0.6</td>\n",
       "      <td>1.5</td>\n",
       "      <td>120.0</td>\n",
       "      <td>0.82</td>\n",
       "      <td>146.0</td>\n",
       "      <td>NaN</td>\n",
       "      <td>other</td>\n",
       "      <td>False</td>\n",
       "    </tr>\n",
       "  </tbody>\n",
       "</table>\n",
       "<p>1 rows × 24 columns</p>\n",
       "</div>"
      ],
      "text/plain": [
       "      age sex  on_thyroxine  query_on_thyroxine  on_antithyroid_medication  \\\n",
       "1985  NaN   F          True               False                      False   \n",
       "\n",
       "       sick  pregnant  thyroid_surgery  I131_treatment  query_hypothyroid  \\\n",
       "1985  False     False            False            True              False   \n",
       "\n",
       "      ...  hypopituitary  psych  TSH   T3    TT4   T4U    FTI  TBG  \\\n",
       "1985  ...          False  False  0.6  1.5  120.0  0.82  146.0  NaN   \n",
       "\n",
       "      referral_source  Thyroid_disease  \n",
       "1985            other            False  \n",
       "\n",
       "[1 rows x 24 columns]"
      ]
     },
     "execution_count": 129,
     "metadata": {},
     "output_type": "execute_result"
    }
   ],
   "source": [
    "data[data.age.isna()]"
   ]
  },
  {
   "cell_type": "markdown",
   "metadata": {},
   "source": [
    "### PP: Skoro są braki danych w wieku i wartości równe 455, czy to znaczy, że wiek uzupełniali sami pacjenci? \n"
   ]
  },
  {
   "cell_type": "code",
   "execution_count": 131,
   "metadata": {
    "colab": {
     "base_uri": "https://localhost:8080/",
     "height": 300
    },
    "colab_type": "code",
    "id": "xru9xE3WB4tX",
    "outputId": "f509d704-edb9-466c-c232-ccb700298cfe"
   },
   "outputs": [
    {
     "data": {
      "text/html": [
       "<div>\n",
       "<style scoped>\n",
       "    .dataframe tbody tr th:only-of-type {\n",
       "        vertical-align: middle;\n",
       "    }\n",
       "\n",
       "    .dataframe tbody tr th {\n",
       "        vertical-align: top;\n",
       "    }\n",
       "\n",
       "    .dataframe thead th {\n",
       "        text-align: right;\n",
       "    }\n",
       "</style>\n",
       "<table border=\"1\" class=\"dataframe\">\n",
       "  <thead>\n",
       "    <tr style=\"text-align: right;\">\n",
       "      <th></th>\n",
       "      <th>age</th>\n",
       "      <th>TSH</th>\n",
       "      <th>T3</th>\n",
       "      <th>TT4</th>\n",
       "      <th>T4U</th>\n",
       "      <th>FTI</th>\n",
       "      <th>TBG</th>\n",
       "    </tr>\n",
       "  </thead>\n",
       "  <tbody>\n",
       "    <tr>\n",
       "      <th>count</th>\n",
       "      <td>3770.000000</td>\n",
       "      <td>3401.000000</td>\n",
       "      <td>3001.000000</td>\n",
       "      <td>3539.000000</td>\n",
       "      <td>3383.000000</td>\n",
       "      <td>3385.000000</td>\n",
       "      <td>0.0</td>\n",
       "    </tr>\n",
       "    <tr>\n",
       "      <th>mean</th>\n",
       "      <td>51.628912</td>\n",
       "      <td>5.089258</td>\n",
       "      <td>2.013675</td>\n",
       "      <td>108.313309</td>\n",
       "      <td>0.995012</td>\n",
       "      <td>110.461064</td>\n",
       "      <td>NaN</td>\n",
       "    </tr>\n",
       "    <tr>\n",
       "      <th>std</th>\n",
       "      <td>18.982990</td>\n",
       "      <td>24.528465</td>\n",
       "      <td>0.827657</td>\n",
       "      <td>35.613396</td>\n",
       "      <td>0.195478</td>\n",
       "      <td>33.093651</td>\n",
       "      <td>NaN</td>\n",
       "    </tr>\n",
       "    <tr>\n",
       "      <th>min</th>\n",
       "      <td>1.000000</td>\n",
       "      <td>0.005000</td>\n",
       "      <td>0.050000</td>\n",
       "      <td>2.000000</td>\n",
       "      <td>0.250000</td>\n",
       "      <td>2.000000</td>\n",
       "      <td>NaN</td>\n",
       "    </tr>\n",
       "    <tr>\n",
       "      <th>25%</th>\n",
       "      <td>36.000000</td>\n",
       "      <td>0.500000</td>\n",
       "      <td>1.600000</td>\n",
       "      <td>87.500000</td>\n",
       "      <td>0.880000</td>\n",
       "      <td>93.000000</td>\n",
       "      <td>NaN</td>\n",
       "    </tr>\n",
       "    <tr>\n",
       "      <th>50%</th>\n",
       "      <td>54.000000</td>\n",
       "      <td>1.400000</td>\n",
       "      <td>2.000000</td>\n",
       "      <td>103.000000</td>\n",
       "      <td>0.980000</td>\n",
       "      <td>107.000000</td>\n",
       "      <td>NaN</td>\n",
       "    </tr>\n",
       "    <tr>\n",
       "      <th>75%</th>\n",
       "      <td>67.000000</td>\n",
       "      <td>2.700000</td>\n",
       "      <td>2.400000</td>\n",
       "      <td>124.000000</td>\n",
       "      <td>1.080000</td>\n",
       "      <td>124.000000</td>\n",
       "      <td>NaN</td>\n",
       "    </tr>\n",
       "    <tr>\n",
       "      <th>max</th>\n",
       "      <td>94.000000</td>\n",
       "      <td>530.000000</td>\n",
       "      <td>10.600000</td>\n",
       "      <td>430.000000</td>\n",
       "      <td>2.320000</td>\n",
       "      <td>395.000000</td>\n",
       "      <td>NaN</td>\n",
       "    </tr>\n",
       "  </tbody>\n",
       "</table>\n",
       "</div>"
      ],
      "text/plain": [
       "               age          TSH           T3          TT4          T4U  \\\n",
       "count  3770.000000  3401.000000  3001.000000  3539.000000  3383.000000   \n",
       "mean     51.628912     5.089258     2.013675   108.313309     0.995012   \n",
       "std      18.982990    24.528465     0.827657    35.613396     0.195478   \n",
       "min       1.000000     0.005000     0.050000     2.000000     0.250000   \n",
       "25%      36.000000     0.500000     1.600000    87.500000     0.880000   \n",
       "50%      54.000000     1.400000     2.000000   103.000000     0.980000   \n",
       "75%      67.000000     2.700000     2.400000   124.000000     1.080000   \n",
       "max      94.000000   530.000000    10.600000   430.000000     2.320000   \n",
       "\n",
       "               FTI  TBG  \n",
       "count  3385.000000  0.0  \n",
       "mean    110.461064  NaN  \n",
       "std      33.093651  NaN  \n",
       "min       2.000000  NaN  \n",
       "25%      93.000000  NaN  \n",
       "50%     107.000000  NaN  \n",
       "75%     124.000000  NaN  \n",
       "max     395.000000  NaN  "
      ]
     },
     "execution_count": 131,
     "metadata": {},
     "output_type": "execute_result"
    }
   ],
   "source": [
    "data2 = data[data[\"age\"]<455]\n",
    "data2.describe()"
   ]
  },
  {
   "cell_type": "markdown",
   "metadata": {},
   "source": [
    "### PP: Bez wartości 455, max wiek jest realny do osiągnięcia, zobaczmy wykres tego"
   ]
  },
  {
   "cell_type": "code",
   "execution_count": 133,
   "metadata": {
    "colab": {
     "base_uri": "https://localhost:8080/",
     "height": 312
    },
    "colab_type": "code",
    "id": "yZaSSHZ1YbcM",
    "outputId": "06c45d09-d3b6-42d2-b7a0-e9f134917a9a"
   },
   "outputs": [
    {
     "data": {
      "text/plain": [
       "[Text(0.5,0,'Wiek')]"
      ]
     },
     "execution_count": 133,
     "metadata": {},
     "output_type": "execute_result"
    },
    {
     "data": {
      "image/png": "[encoded data removed]",
      "text/plain": [
       "<Figure size 432x288 with 1 Axes>"
      ]
     },
     "metadata": {
      "needs_background": "light"
     },
     "output_type": "display_data"
    }
   ],
   "source": [
    "age_dens = sns.distplot(data2.age, hist = True, color='red')\n",
    "age_dens.set_title('Rozklad wieku')\n",
    "age_dens.set(xlabel=\"Wiek\")"
   ]
  },
  {
   "cell_type": "code",
   "execution_count": 134,
   "metadata": {
    "colab": {},
    "colab_type": "code",
    "id": "JBwuLMvSEliX"
   },
   "outputs": [],
   "source": [
    "female = data2[data2.sex==\"F\"]\n",
    "female_age=female[\"age\"]\n",
    "male = data2[data2.sex==\"M\"]\n",
    "male_age = male[\"age\"]"
   ]
  },
  {
   "cell_type": "code",
   "execution_count": 136,
   "metadata": {
    "colab": {
     "base_uri": "https://localhost:8080/",
     "height": 281
    },
    "colab_type": "code",
    "id": "yOEouQU8ZJ2D",
    "outputId": "61071ac9-b9c5-49a2-df3d-7c09997a4a69"
   },
   "outputs": [
    {
     "data": {
      "image/png": "[encoded data removed]",
      "text/plain": [
       "<Figure size 432x288 with 1 Axes>"
      ]
     },
     "metadata": {
      "needs_background": "light"
     },
     "output_type": "display_data"
    }
   ],
   "source": [
    "plt.hist([female.age, male.age], bins = 30)\n",
    "plt.title(\"Histogram wieku z podzialem na plec\")\n",
    "plt.show()"
   ]
  },
  {
   "cell_type": "markdown",
   "metadata": {},
   "source": [
    "### PP: Średnia wieku to 54,dzięki wykresowi wiemy, że najwięcej jest osób koło 60\n",
    "### Skoro pojawiła się dziwna wartość wieku to warto spojrzeć raz jeszcze na zbiór i sprawdzić czy w innych kolumnach nie ma takich zakłamań\n"
   ]
  },
  {
   "cell_type": "code",
   "execution_count": 138,
   "metadata": {
    "colab": {
     "base_uri": "https://localhost:8080/",
     "height": 300
    },
    "colab_type": "code",
    "id": "NzEtUVNAY5Zs",
    "outputId": "1ae2c84e-3e9a-4140-a4fe-df36d4a7b2a5",
    "scrolled": true
   },
   "outputs": [
    {
     "data": {
      "text/html": [
       "<div>\n",
       "<style scoped>\n",
       "    .dataframe tbody tr th:only-of-type {\n",
       "        vertical-align: middle;\n",
       "    }\n",
       "\n",
       "    .dataframe tbody tr th {\n",
       "        vertical-align: top;\n",
       "    }\n",
       "\n",
       "    .dataframe thead th {\n",
       "        text-align: right;\n",
       "    }\n",
       "</style>\n",
       "<table border=\"1\" class=\"dataframe\">\n",
       "  <thead>\n",
       "    <tr style=\"text-align: right;\">\n",
       "      <th></th>\n",
       "      <th>age</th>\n",
       "      <th>TSH</th>\n",
       "      <th>T3</th>\n",
       "      <th>TT4</th>\n",
       "      <th>T4U</th>\n",
       "      <th>FTI</th>\n",
       "      <th>TBG</th>\n",
       "    </tr>\n",
       "  </thead>\n",
       "  <tbody>\n",
       "    <tr>\n",
       "      <th>count</th>\n",
       "      <td>3771.000000</td>\n",
       "      <td>3403.000000</td>\n",
       "      <td>3003.000000</td>\n",
       "      <td>3541.000000</td>\n",
       "      <td>3385.000000</td>\n",
       "      <td>3387.000000</td>\n",
       "      <td>0.0</td>\n",
       "    </tr>\n",
       "    <tr>\n",
       "      <th>mean</th>\n",
       "      <td>51.735879</td>\n",
       "      <td>5.086766</td>\n",
       "      <td>2.013500</td>\n",
       "      <td>108.319345</td>\n",
       "      <td>0.995000</td>\n",
       "      <td>110.469649</td>\n",
       "      <td>NaN</td>\n",
       "    </tr>\n",
       "    <tr>\n",
       "      <th>std</th>\n",
       "      <td>20.084958</td>\n",
       "      <td>24.521470</td>\n",
       "      <td>0.827434</td>\n",
       "      <td>35.604248</td>\n",
       "      <td>0.195457</td>\n",
       "      <td>33.089698</td>\n",
       "      <td>NaN</td>\n",
       "    </tr>\n",
       "    <tr>\n",
       "      <th>min</th>\n",
       "      <td>1.000000</td>\n",
       "      <td>0.005000</td>\n",
       "      <td>0.050000</td>\n",
       "      <td>2.000000</td>\n",
       "      <td>0.250000</td>\n",
       "      <td>2.000000</td>\n",
       "      <td>NaN</td>\n",
       "    </tr>\n",
       "    <tr>\n",
       "      <th>25%</th>\n",
       "      <td>36.000000</td>\n",
       "      <td>0.500000</td>\n",
       "      <td>1.600000</td>\n",
       "      <td>88.000000</td>\n",
       "      <td>0.880000</td>\n",
       "      <td>93.000000</td>\n",
       "      <td>NaN</td>\n",
       "    </tr>\n",
       "    <tr>\n",
       "      <th>50%</th>\n",
       "      <td>54.000000</td>\n",
       "      <td>1.400000</td>\n",
       "      <td>2.000000</td>\n",
       "      <td>103.000000</td>\n",
       "      <td>0.980000</td>\n",
       "      <td>107.000000</td>\n",
       "      <td>NaN</td>\n",
       "    </tr>\n",
       "    <tr>\n",
       "      <th>75%</th>\n",
       "      <td>67.000000</td>\n",
       "      <td>2.700000</td>\n",
       "      <td>2.400000</td>\n",
       "      <td>124.000000</td>\n",
       "      <td>1.080000</td>\n",
       "      <td>124.000000</td>\n",
       "      <td>NaN</td>\n",
       "    </tr>\n",
       "    <tr>\n",
       "      <th>max</th>\n",
       "      <td>455.000000</td>\n",
       "      <td>530.000000</td>\n",
       "      <td>10.600000</td>\n",
       "      <td>430.000000</td>\n",
       "      <td>2.320000</td>\n",
       "      <td>395.000000</td>\n",
       "      <td>NaN</td>\n",
       "    </tr>\n",
       "  </tbody>\n",
       "</table>\n",
       "</div>"
      ],
      "text/plain": [
       "               age          TSH           T3          TT4          T4U  \\\n",
       "count  3771.000000  3403.000000  3003.000000  3541.000000  3385.000000   \n",
       "mean     51.735879     5.086766     2.013500   108.319345     0.995000   \n",
       "std      20.084958    24.521470     0.827434    35.604248     0.195457   \n",
       "min       1.000000     0.005000     0.050000     2.000000     0.250000   \n",
       "25%      36.000000     0.500000     1.600000    88.000000     0.880000   \n",
       "50%      54.000000     1.400000     2.000000   103.000000     0.980000   \n",
       "75%      67.000000     2.700000     2.400000   124.000000     1.080000   \n",
       "max     455.000000   530.000000    10.600000   430.000000     2.320000   \n",
       "\n",
       "               FTI  TBG  \n",
       "count  3387.000000  0.0  \n",
       "mean    110.469649  NaN  \n",
       "std      33.089698  NaN  \n",
       "min       2.000000  NaN  \n",
       "25%      93.000000  NaN  \n",
       "50%     107.000000  NaN  \n",
       "75%     124.000000  NaN  \n",
       "max     395.000000  NaN  "
      ]
     },
     "execution_count": 138,
     "metadata": {},
     "output_type": "execute_result"
    }
   ],
   "source": [
    "data.describe()"
   ]
  },
  {
   "cell_type": "markdown",
   "metadata": {
    "colab": {},
    "colab_type": "code",
    "id": "ybgB3HPVE9A0"
   },
   "source": [
    "## Sprawdzanie wartości w kolumnach continous - trochę biologii\n",
    "\n",
    "Zacznijmy od TSH (tyreotropiny), wedle internetu norma wynosi od 0,32 do 4 albo 5 mIU/I\n",
    "(nie wliczając dzieci i kobiet w ciąży, u nich są inne), ale przeczytałam, że jakiś facet miał 400, więc zakładam, że mozliwe są wyższe\n",
    "\n",
    "T3 - (trijodotyronina) T3 całkowita (TT3) norma 1,3–3,1 nmol/l, T3 wolna (FT3) norma 4,0–7,8 pmol/l, zakładam, że\n",
    "może chodzić o wolne T3, bo całkowite T4 jest podpisane dokładnie tym co znaczy, tutaj niezbyt\n",
    "\n",
    "TT4 - (tyroksyna) czyli T4 całkowita, norma 58–154 nmol/l\n",
    "\n",
    "###  TSH pobudza tarczycę do produkcji T4 i T3, może warto sprawdzić korelacje !!!!!!!!!!\n",
    "\n",
    "T4U - Wykorszystanie tyroksyny przez organizm (eksploatacja, pobór)\n",
    "\n",
    "FTI - wolny testosteron, wiarygodny indeks do oceniania stanu tarczycy, FTI = Thyroxine (T4)/Thyroid Binding Capacity\n",
    "\n",
    "TBG - stężenie globuliny wiążącej tyroksynę, nie mamy danych, więc nie doszukuję więcej informacji"
   ]
  },
  {
   "cell_type": "markdown",
   "metadata": {
    "colab_type": "text",
    "id": "rZw909NuVBP2"
   },
   "source": [
    "## Braki danych - znalezienie ich (bez robienia z nimi czegokolwiek)"
   ]
  },
  {
   "cell_type": "markdown",
   "metadata": {},
   "source": [
    "### PP: Hormony mogą mieć różne wartości, nawet abstrakcyjnie duże, więc załóżmy, że dane są w porządku\n",
    "### W takim razie pora na braki danych\n"
   ]
  },
  {
   "cell_type": "code",
   "execution_count": 139,
   "metadata": {
    "colab": {
     "base_uri": "https://localhost:8080/",
     "height": 451
    },
    "colab_type": "code",
    "id": "oioaXoPyIK-m",
    "outputId": "8201cb5e-b5c7-49d5-bbcc-e106ab1a8089"
   },
   "outputs": [
    {
     "data": {
      "text/plain": [
       "age                            0.03\n",
       "sex                            0.00\n",
       "on_thyroxine                   0.00\n",
       "query_on_thyroxine             0.00\n",
       "on_antithyroid_medication      0.00\n",
       "sick                           0.00\n",
       "pregnant                       0.00\n",
       "thyroid_surgery                0.00\n",
       "I131_treatment                 0.00\n",
       "query_hypothyroid              0.00\n",
       "query_hyperthyroid             0.00\n",
       "lithium                        0.00\n",
       "goitre                         0.00\n",
       "tumor                          0.00\n",
       "hypopituitary                  0.00\n",
       "psych                          0.00\n",
       "TSH                            9.78\n",
       "T3                            20.39\n",
       "TT4                            6.12\n",
       "T4U                           10.26\n",
       "FTI                           10.21\n",
       "TBG                          100.00\n",
       "referral_source                0.00\n",
       "Thyroid_disease                0.00\n",
       "dtype: float64"
      ]
     },
     "execution_count": 139,
     "metadata": {},
     "output_type": "execute_result"
    }
   ],
   "source": [
    "NA_ratio_columns = data.isnull().mean()\n",
    "NA_ratio_columns.round(4) * 100"
   ]
  },
  {
   "cell_type": "code",
   "execution_count": 140,
   "metadata": {
    "colab": {
     "base_uri": "https://localhost:8080/",
     "height": 34
    },
    "colab_type": "code",
    "id": "htfsKndTUqiS",
    "outputId": "2e7d2ee8-5ead-4e0f-c1e8-7d58b589e19f"
   },
   "outputs": [
    {
     "data": {
      "text/plain": [
       "150"
      ]
     },
     "execution_count": 140,
     "metadata": {},
     "output_type": "execute_result"
    }
   ],
   "source": [
    "data[data.sex == \"Missing\"].sex.count()"
   ]
  },
  {
   "cell_type": "markdown",
   "metadata": {
    "colab": {},
    "colab_type": "code",
    "id": "IKBMrgFiPcBL"
   },
   "source": [
    "## PP: Krótkie podsumowanko:\n",
    "* age ma dwie wartości dziwne - NaN i 455, co zrobić z nimi?\n",
    "* sex ma 150 wartości NaN, tylko zostały zamienione na \"Missing\", uwaga przy pracy nad nimi!\n",
    "* TBG ma same NaN, proponuję usunąć, nic z niego nie wyciągniemy\n",
    "* reszta wartości w porządku, NaN pojawiają się w wartościach continous, można uzupełnić (imputacja braków danych)\n",
    "* dwie kolumny o typach object, reszta bool albo float\n",
    "\n",
    "* data z usuniętymi brakami przy age i kolumną TBG to data2!!!"
   ]
  },
  {
   "cell_type": "markdown",
   "metadata": {
    "colab_type": "text",
    "id": "peJet5O2erFS"
   },
   "source": [
    "## Korelacje zmiennych"
   ]
  },
  {
   "cell_type": "markdown",
   "metadata": {},
   "source": [
    "### PP: hormony mogą mieć jakieś korelacje, więc spójrzmy na to\n"
   ]
  },
  {
   "cell_type": "code",
   "execution_count": 141,
   "metadata": {
    "colab": {
     "base_uri": "https://localhost:8080/",
     "height": 352
    },
    "colab_type": "code",
    "id": "OJo8wJH_UCHJ",
    "outputId": "9fd9f795-feea-4730-a44d-43bcd5f84ba0"
   },
   "outputs": [
    {
     "data": {
      "image/png": "[encoded data removed]",
      "text/plain": [
       "<Figure size 432x288 with 2 Axes>"
      ]
     },
     "metadata": {
      "needs_background": "light"
     },
     "output_type": "display_data"
    }
   ],
   "source": [
    "correlation = data.iloc[:, np.r_[0, 16:21, 23]].corr()\n",
    "#Korelacja dla tylko zmiennych ciągłych + target (za dużo wszystkich zmiennych aby można było odczytać coś)\n",
    "ax=sns.heatmap(correlation, \n",
    "            xticklabels=correlation.columns,\n",
    "            yticklabels=correlation.columns, annot=True)\n",
    "bottom, top = ax.get_ylim()\n",
    "ax.set_ylim(bottom, top)\n",
    "ax.set_title('Korelacja zmiennych')\n",
    "\n",
    "plt.show()"
   ]
  },
  {
   "cell_type": "markdown",
   "metadata": {
    "colab": {},
    "colab_type": "code",
    "id": "kGutGYCvchuk"
   },
   "source": [
    "### PP: Przykładowe wnioski z wykresu korelacji:\n",
    "* wysoka korelacja zachodzi między TT4 a FTI, ale wiemy już daleczego, wskaźnik FTI wylicza się z TT4\n",
    "* spadek T3 wpływa na niedoczynność tarczycy, w sumie to wszystkie hormony mają ujemną korelację, a wzrost wieku sprzyja chorobom tarczyc\n",
    "* TT4 i T3 mają dodatnią korelację i to całkiem dużą (ciekawa zależność między nimi a TSH, wszystkie są w jakiejś zależności od siebie - szczegóły w internecie)\n",
    "* T4U korelacja dodatnia, dość spora z powyższymi\n",
    "* powyższe dwa punkty, to hormony wytwarzane przez tarczyce, niż zależności mogły być do przewidzenia\n",
    "\n",
    "## Rozkłady zmiennych - także parami:"
   ]
  },
  {
   "cell_type": "code",
   "execution_count": 142,
   "metadata": {
    "colab": {
     "base_uri": "https://localhost:8080/",
     "height": 686
    },
    "colab_type": "code",
    "id": "ynuXTYaOen2X",
    "outputId": "b3aad7ff-3dfe-4b16-bc53-5037d03ca72a"
   },
   "outputs": [
    {
     "data": {
      "image/png": "[encoded data removed]",
      "text/plain": [
       "<Figure size 1280x800 with 3 Axes>"
      ]
     },
     "metadata": {
      "needs_background": "light"
     },
     "output_type": "display_data"
    }
   ],
   "source": [
    "fig = plt.figure(figsize=(16, 10), dpi= 80)\n",
    "grid = plt.GridSpec(4, 4, hspace=0.5, wspace=0.2)\n",
    "ax_main = fig.add_subplot(grid[:-1, :-1])\n",
    "ax_right = fig.add_subplot(grid[:-1, -1], xticklabels=[], yticklabels=[])\n",
    "ax_bottom = fig.add_subplot(grid[-1, 0:-1], xticklabels=[], yticklabels=[])\n",
    "ax_main.scatter('TT4', 'TSH', alpha=.9, data=data, cmap=\"Set1\", edgecolors='black', linewidths=.5)\n",
    "sns.boxplot(data.TSH, ax=ax_right, orient=\"v\")\n",
    "sns.boxplot(data.TT4, ax=ax_bottom, orient=\"h\")\n",
    "ax_bottom.set(xlabel='')\n",
    "ax_right.set(ylabel='')\n",
    "ax_main.set(title='Wykres punktowy i histogramy \\n dla TT4 i TSH', xlabel='TT4', ylabel='TSH')\n",
    "ax_main.title.set_fontsize(20)\n",
    "for item in ([ax_main.xaxis.label, ax_main.yaxis.label] + ax_main.get_xticklabels() + ax_main.get_yticklabels()):\n",
    "    item.set_fontsize(10)\n",
    "plt.show()"
   ]
  },
  {
   "cell_type": "code",
   "execution_count": 143,
   "metadata": {
    "colab": {
     "base_uri": "https://localhost:8080/",
     "height": 386
    },
    "colab_type": "code",
    "id": "cZDkUYEdhknS",
    "outputId": "1cccb8d0-47f8-47e9-f75a-1114c4e94560"
   },
   "outputs": [
    {
     "data": {
      "text/plain": [
       "<seaborn.axisgrid.FacetGrid at 0x7f52644bd810>"
      ]
     },
     "execution_count": 143,
     "metadata": {},
     "output_type": "execute_result"
    },
    {
     "data": {
      "image/png": "[encoded data removed]",
      "text/plain": [
       "<Figure size 360x360 with 1 Axes>"
      ]
     },
     "metadata": {
      "needs_background": "light"
     },
     "output_type": "display_data"
    }
   ],
   "source": [
    "sns.lmplot(x='TT4', y='T3', data=data)"
   ]
  },
  {
   "cell_type": "code",
   "execution_count": 144,
   "metadata": {
    "colab": {
     "base_uri": "https://localhost:8080/",
     "height": 383
    },
    "colab_type": "code",
    "id": "eJftSbGodjPV",
    "outputId": "52e6c04d-6ddd-45f8-cef5-1ccb00589bd8"
   },
   "outputs": [
    {
     "data": {
      "text/plain": [
       "[None,\n",
       " Text(0,0.5,'TSH '),\n",
       " [Text(0,0,'kobiety'), Text(0,0,'mezczyzni'), Text(0,0,'brak danych o plci')]]"
      ]
     },
     "execution_count": 144,
     "metadata": {},
     "output_type": "execute_result"
    },
    {
     "data": {
      "image/png": "[encoded data removed]",
      "text/plain": [
       "<Figure size 432x288 with 1 Axes>"
      ]
     },
     "metadata": {
      "needs_background": "light"
     },
     "output_type": "display_data"
    }
   ],
   "source": [
    "plot = sns.boxplot(data.sex, data.TSH)\n",
    "plot.set_title('Zaleznosc pomiedzy plcia a poziomem TSH')\n",
    "plot.set(xticklabels=[\"kobiety\",\"mezczyzni\",\"brak danych o plci\"], yscale=\"log\", ylabel=\"TSH \")"
   ]
  },
  {
   "cell_type": "markdown",
   "metadata": {
    "colab_type": "text",
    "id": "UXZi0u-XhE6K"
   },
   "source": [
    "### AG: Skalowanie logarytmiczne dodane z powodu dużego zróżnicowania poziomu TSH (zazwyczaj jest on bardzo niski, ale zdarzają się wyniki ok.400).\n",
    "### Rozkład dosyć podobny niezależnie od płci. Wydaje się, że kobiety mają częściej wyższy poziom ale może to wynikać z faktu że więcej kobiet było badanych. \n",
    "### PK: Ciekawe jak to sie ma wobec testorenu:\n"
   ]
  },
  {
   "cell_type": "code",
   "execution_count": 145,
   "metadata": {
    "colab": {
     "base_uri": "https://localhost:8080/",
     "height": 348
    },
    "colab_type": "code",
    "id": "8Ye9R17fht3M",
    "outputId": "66530cdb-e33f-4b05-ad73-64fc641d6ed3"
   },
   "outputs": [
    {
     "data": {
      "text/plain": [
       "[[Text(0,0,'kobiety'), Text(0,0,'mezczyzni'), Text(0,0,'brak danych o plci')]]"
      ]
     },
     "execution_count": 145,
     "metadata": {},
     "output_type": "execute_result"
    },
    {
     "data": {
      "image/png": "[encoded data removed]",
      "text/plain": [
       "<Figure size 432x288 with 1 Axes>"
      ]
     },
     "metadata": {
      "needs_background": "light"
     },
     "output_type": "display_data"
    }
   ],
   "source": [
    "plot = sns.boxplot(data.sex, data.FTI)\n",
    "plot.set_title('Zaleznosc pomiedzy plcia a poziomem FTI')\n",
    "plot.set(xticklabels=[\"kobiety\",\"mezczyzni\",\"brak danych o plci\"])"
   ]
  },
  {
   "cell_type": "code",
   "execution_count": 146,
   "metadata": {
    "colab": {
     "base_uri": "https://localhost:8080/",
     "height": 348
    },
    "colab_type": "code",
    "id": "KyIf7yEmrl_7",
    "outputId": "038cc97d-9478-43a9-c263-6a2113c64be0"
   },
   "outputs": [
    {
     "data": {
      "text/plain": [
       "[[Text(0,0,'kobiety'), Text(0,0,'mezczyzni'), Text(0,0,'brak danych o plci')]]"
      ]
     },
     "execution_count": 146,
     "metadata": {},
     "output_type": "execute_result"
    },
    {
     "data": {
      "image/png": "[encoded data removed]",
      "text/plain": [
       "<Figure size 432x288 with 1 Axes>"
      ]
     },
     "metadata": {
      "needs_background": "light"
     },
     "output_type": "display_data"
    }
   ],
   "source": [
    "plot = sns.boxplot(data.sex, data.T3)\n",
    "plot.set_title('Zaleznosc pomiedzy plcia a poziomem T3')\n",
    "plot.set(xticklabels=[\"kobiety\",\"mezczyzni\",\"brak danych o plci\"])"
   ]
  },
  {
   "cell_type": "code",
   "execution_count": 147,
   "metadata": {
    "colab": {
     "base_uri": "https://localhost:8080/",
     "height": 346
    },
    "colab_type": "code",
    "id": "D_SeWeHD7ktq",
    "outputId": "5349beec-00b9-4c62-e88f-4536640f88fd"
   },
   "outputs": [
    {
     "data": {
      "text/plain": [
       "[[Text(0,0,'kobiety'), Text(0,0,'mezczyzni'), Text(0,0,'brak danych o plci')]]"
      ]
     },
     "execution_count": 147,
     "metadata": {},
     "output_type": "execute_result"
    },
    {
     "data": {
      "image/png": "[encoded data removed]",
      "text/plain": [
       "<Figure size 432x288 with 1 Axes>"
      ]
     },
     "metadata": {
      "needs_background": "light"
     },
     "output_type": "display_data"
    }
   ],
   "source": [
    "plot = sns.boxplot(data.sex, data.T4U)\n",
    "plot.set_title('Zaleznosc pomiedzy plcia a poziomem T4U')\n",
    "plot.set(xticklabels=[\"kobiety\",\"mezczyzni\",\"brak danych o plci\"])"
   ]
  },
  {
   "cell_type": "code",
   "execution_count": 148,
   "metadata": {
    "colab": {
     "base_uri": "https://localhost:8080/",
     "height": 346
    },
    "colab_type": "code",
    "id": "qT9vi1UN7yIa",
    "outputId": "f30789af-cb39-483c-c92a-1445f7dd2c08"
   },
   "outputs": [
    {
     "data": {
      "text/plain": [
       "[[Text(0,0,'kobiety'), Text(0,0,'mezczyzni'), Text(0,0,'brak danych o plci')]]"
      ]
     },
     "execution_count": 148,
     "metadata": {},
     "output_type": "execute_result"
    },
    {
     "data": {
      "image/png": "[encoded data removed]",
      "text/plain": [
       "<Figure size 432x288 with 1 Axes>"
      ]
     },
     "metadata": {
      "needs_background": "light"
     },
     "output_type": "display_data"
    }
   ],
   "source": [
    "plot = sns.boxplot(data.sex, data.TT4)\n",
    "plot.set_title('Zaleznosc pomiedzy plcia a poziomem TT4')\n",
    "plot.set(xticklabels=[\"kobiety\",\"mezczyzni\",\"brak danych o plci\"])"
   ]
  },
  {
   "cell_type": "markdown",
   "metadata": {
    "colab": {},
    "colab_type": "code",
    "id": "Bk9KlvEx73sB"
   },
   "source": [
    "### AG: Wydaje się, że na poziom większości hormonów płec nie ma większego wpływu"
   ]
  },
  {
   "cell_type": "code",
   "execution_count": 149,
   "metadata": {
    "colab": {
     "base_uri": "https://localhost:8080/",
     "height": 281
    },
    "colab_type": "code",
    "id": "cUeLtBlImeMa",
    "outputId": "9f6fa326-38b7-40b0-9fe5-dd810ff3f404"
   },
   "outputs": [
    {
     "data": {
      "image/png": "[encoded data removed]",
      "text/plain": [
       "<Figure size 432x288 with 1 Axes>"
      ]
     },
     "metadata": {
      "needs_background": "light"
     },
     "output_type": "display_data"
    }
   ],
   "source": [
    "TSH_log = np.log1p(data.TSH)\n",
    "TSH_log = TSH_log[~np.isnan(TSH_log)]\n",
    "plt.hist(TSH_log, bins = 80)\n",
    "plt.title(\"Rozklad logarytmu wartosci TSH\")\n",
    "plt.show()"
   ]
  }
 ],
 "metadata": {
  "colab": {
   "collapsed_sections": [],
   "name": "EDA_Sick_GassowskaPrzybylekKozminski.ipynb",
   "provenance": [],
   "toc_visible": true
  },
  "kernelspec": {
   "display_name": "Python 3",
   "language": "python",
   "name": "python3"
  },
  "language_info": {
   "codemirror_mode": {
    "name": "ipython",
    "version": 2
   },
   "file_extension": ".py",
   "mimetype": "text/x-python",
   "name": "python",
   "nbconvert_exporter": "python",
   "pygments_lexer": "ipython2",
   "version": "2.7.17"
  }
 },
 "nbformat": 4,
 "nbformat_minor": 1
}
