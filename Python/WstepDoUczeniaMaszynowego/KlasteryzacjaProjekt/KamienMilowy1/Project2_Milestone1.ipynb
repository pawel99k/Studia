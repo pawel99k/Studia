{
 "cells": [
  {
   "cell_type": "code",
   "execution_count": 0,
   "metadata": {
    "colab": {
     "base_uri": "https://localhost:8080/",
     "height": 111
    },
    "colab_type": "code",
    "id": "SxbPjo1kjQG8",
    "outputId": "dba22567-09ed-443e-e838-71c20651d0bc"
   },
   "outputs": [
    {
     "name": "stdout",
     "output_type": "stream",
     "text": [
      "[nltk_data] Downloading package wordnet to /root/nltk_data...\n",
      "[nltk_data]   Package wordnet is already up-to-date!\n",
      "[nltk_data] Downloading package averaged_perceptron_tagger to\n",
      "[nltk_data]     /root/nltk_data...\n",
      "[nltk_data]   Unzipping taggers/averaged_perceptron_tagger.zip.\n"
     ]
    },
    {
     "data": {
      "text/plain": [
       "True"
      ]
     },
     "execution_count": 35,
     "metadata": {
      "tags": []
     },
     "output_type": "execute_result"
    }
   ],
   "source": [
    "import pandas as pd\n",
    "import numpy as np\n",
    "import matplotlib.pyplot as plt\n",
    "import seaborn as sns\n",
    "import math\n",
    "import nltk\n",
    "from nltk.stem.wordnet import WordNetLemmatizer\n",
    "from collections import Counter\n",
    "from textblob import TextBlob\n",
    "nltk.download('wordnet')\n",
    "nltk.download('averaged_perceptron_tagger')"
   ]
  },
  {
   "cell_type": "markdown",
   "metadata": {
    "colab_type": "text",
    "id": "LXilktAtOj2y"
   },
   "source": [
    "# Etap I - EDA\n",
    "\n",
    "Zbiór danych zawiera 8265 słów występujących w księgach religijnych przygotowanych jako mini-korpus tych ksiąg (gdyż nie są to wszystkie słowa, a wybrane przez twórców). Większość świętych tekstów w tym zbiorze danych zebrano z projektu Gutenberg. W tym etapie zajmiemy się analizą tych słów i ksiąg, zawierających je.\n",
    "\n",
    "## Wczytanie zbioru"
   ]
  },
  {
   "cell_type": "code",
   "execution_count": 0,
   "metadata": {
    "colab": {},
    "colab_type": "code",
    "id": "kT92ZDn5jsgY"
   },
   "outputs": [],
   "source": [
    "data  = pd.read_csv('/content/drive/My Drive/AllBooks_baseline_DTM_Labelled.csv')"
   ]
  },
  {
   "cell_type": "code",
   "execution_count": 0,
   "metadata": {
    "colab": {
     "base_uri": "https://localhost:8080/",
     "height": 235
    },
    "colab_type": "code",
    "id": "4M_tHqhdkQFQ",
    "outputId": "5672b5f9-1a59-495f-caf6-7ec921d36cf4"
   },
   "outputs": [
    {
     "data": {
      "text/html": [
       "<div>\n",
       "<style scoped>\n",
       "    .dataframe tbody tr th:only-of-type {\n",
       "        vertical-align: middle;\n",
       "    }\n",
       "\n",
       "    .dataframe tbody tr th {\n",
       "        vertical-align: top;\n",
       "    }\n",
       "\n",
       "    .dataframe thead th {\n",
       "        text-align: right;\n",
       "    }\n",
       "</style>\n",
       "<table border=\"1\" class=\"dataframe\">\n",
       "  <thead>\n",
       "    <tr style=\"text-align: right;\">\n",
       "      <th></th>\n",
       "      <th>Unnamed: 0</th>\n",
       "      <th>foolishness</th>\n",
       "      <th>hath</th>\n",
       "      <th>wholesome</th>\n",
       "      <th>takest</th>\n",
       "      <th>feelings</th>\n",
       "      <th>anger</th>\n",
       "      <th>vaivaswata</th>\n",
       "      <th>matrix</th>\n",
       "      <th>kindled</th>\n",
       "      <th>convict</th>\n",
       "      <th>diadem</th>\n",
       "      <th>rushed</th>\n",
       "      <th>saliva</th>\n",
       "      <th>revelation</th>\n",
       "      <th>indirectly</th>\n",
       "      <th>open</th>\n",
       "      <th>distortions</th>\n",
       "      <th>expecteth</th>\n",
       "      <th>perishing</th>\n",
       "      <th>rage</th>\n",
       "      <th>unbridled</th>\n",
       "      <th>looketh</th>\n",
       "      <th>washed</th>\n",
       "      <th>nursingmother</th>\n",
       "      <th>caper</th>\n",
       "      <th>prosperous</th>\n",
       "      <th>lightmindedness</th>\n",
       "      <th>imprisonment</th>\n",
       "      <th>maghavan</th>\n",
       "      <th>supported</th>\n",
       "      <th>distinctions</th>\n",
       "      <th>lambs</th>\n",
       "      <th>illumination</th>\n",
       "      <th>mercury</th>\n",
       "      <th>partakers</th>\n",
       "      <th>tell</th>\n",
       "      <th>build</th>\n",
       "      <th>neither</th>\n",
       "      <th>soft</th>\n",
       "      <th>...</th>\n",
       "      <th>budding</th>\n",
       "      <th>enjoyer</th>\n",
       "      <th>needs</th>\n",
       "      <th>sittest</th>\n",
       "      <th>eclipsed</th>\n",
       "      <th>engagement</th>\n",
       "      <th>exuberant</th>\n",
       "      <th>abandons</th>\n",
       "      <th>well</th>\n",
       "      <th>cheerfulness</th>\n",
       "      <th>hatest</th>\n",
       "      <th>state</th>\n",
       "      <th>stained</th>\n",
       "      <th>production</th>\n",
       "      <th>whitened</th>\n",
       "      <th>revered</th>\n",
       "      <th>developed</th>\n",
       "      <th>regarded</th>\n",
       "      <th>enactments</th>\n",
       "      <th>aromatical</th>\n",
       "      <th>admireth</th>\n",
       "      <th>foothold</th>\n",
       "      <th>shots</th>\n",
       "      <th>turner</th>\n",
       "      <th>inversion</th>\n",
       "      <th>lifeless</th>\n",
       "      <th>postponement</th>\n",
       "      <th>stout</th>\n",
       "      <th>taketh</th>\n",
       "      <th>kettle</th>\n",
       "      <th>erred</th>\n",
       "      <th>thinkest</th>\n",
       "      <th>modern</th>\n",
       "      <th>reigned</th>\n",
       "      <th>sparingly</th>\n",
       "      <th>visual</th>\n",
       "      <th>thoughts</th>\n",
       "      <th>illumines</th>\n",
       "      <th>attire</th>\n",
       "      <th>explains</th>\n",
       "    </tr>\n",
       "  </thead>\n",
       "  <tbody>\n",
       "    <tr>\n",
       "      <th>0</th>\n",
       "      <td>Buddhism_Ch1</td>\n",
       "      <td>0</td>\n",
       "      <td>0</td>\n",
       "      <td>0</td>\n",
       "      <td>0</td>\n",
       "      <td>0</td>\n",
       "      <td>0</td>\n",
       "      <td>0</td>\n",
       "      <td>0</td>\n",
       "      <td>0</td>\n",
       "      <td>0</td>\n",
       "      <td>0</td>\n",
       "      <td>0</td>\n",
       "      <td>0</td>\n",
       "      <td>0</td>\n",
       "      <td>0</td>\n",
       "      <td>1</td>\n",
       "      <td>0</td>\n",
       "      <td>0</td>\n",
       "      <td>0</td>\n",
       "      <td>0</td>\n",
       "      <td>0</td>\n",
       "      <td>0</td>\n",
       "      <td>0</td>\n",
       "      <td>0</td>\n",
       "      <td>0</td>\n",
       "      <td>0</td>\n",
       "      <td>0</td>\n",
       "      <td>0</td>\n",
       "      <td>0</td>\n",
       "      <td>0</td>\n",
       "      <td>0</td>\n",
       "      <td>0</td>\n",
       "      <td>0</td>\n",
       "      <td>0</td>\n",
       "      <td>0</td>\n",
       "      <td>0</td>\n",
       "      <td>0</td>\n",
       "      <td>0</td>\n",
       "      <td>0</td>\n",
       "      <td>...</td>\n",
       "      <td>0</td>\n",
       "      <td>0</td>\n",
       "      <td>0</td>\n",
       "      <td>0</td>\n",
       "      <td>0</td>\n",
       "      <td>0</td>\n",
       "      <td>0</td>\n",
       "      <td>0</td>\n",
       "      <td>0</td>\n",
       "      <td>0</td>\n",
       "      <td>0</td>\n",
       "      <td>0</td>\n",
       "      <td>0</td>\n",
       "      <td>0</td>\n",
       "      <td>0</td>\n",
       "      <td>0</td>\n",
       "      <td>0</td>\n",
       "      <td>0</td>\n",
       "      <td>0</td>\n",
       "      <td>0</td>\n",
       "      <td>0</td>\n",
       "      <td>0</td>\n",
       "      <td>0</td>\n",
       "      <td>0</td>\n",
       "      <td>0</td>\n",
       "      <td>0</td>\n",
       "      <td>0</td>\n",
       "      <td>0</td>\n",
       "      <td>0</td>\n",
       "      <td>0</td>\n",
       "      <td>0</td>\n",
       "      <td>0</td>\n",
       "      <td>0</td>\n",
       "      <td>0</td>\n",
       "      <td>0</td>\n",
       "      <td>0</td>\n",
       "      <td>0</td>\n",
       "      <td>0</td>\n",
       "      <td>0</td>\n",
       "      <td>0</td>\n",
       "    </tr>\n",
       "    <tr>\n",
       "      <th>1</th>\n",
       "      <td>Buddhism_Ch2</td>\n",
       "      <td>0</td>\n",
       "      <td>0</td>\n",
       "      <td>0</td>\n",
       "      <td>0</td>\n",
       "      <td>0</td>\n",
       "      <td>0</td>\n",
       "      <td>0</td>\n",
       "      <td>0</td>\n",
       "      <td>0</td>\n",
       "      <td>0</td>\n",
       "      <td>0</td>\n",
       "      <td>0</td>\n",
       "      <td>0</td>\n",
       "      <td>0</td>\n",
       "      <td>0</td>\n",
       "      <td>0</td>\n",
       "      <td>0</td>\n",
       "      <td>0</td>\n",
       "      <td>0</td>\n",
       "      <td>0</td>\n",
       "      <td>0</td>\n",
       "      <td>0</td>\n",
       "      <td>0</td>\n",
       "      <td>0</td>\n",
       "      <td>0</td>\n",
       "      <td>0</td>\n",
       "      <td>0</td>\n",
       "      <td>0</td>\n",
       "      <td>0</td>\n",
       "      <td>0</td>\n",
       "      <td>0</td>\n",
       "      <td>0</td>\n",
       "      <td>0</td>\n",
       "      <td>0</td>\n",
       "      <td>0</td>\n",
       "      <td>0</td>\n",
       "      <td>0</td>\n",
       "      <td>0</td>\n",
       "      <td>0</td>\n",
       "      <td>...</td>\n",
       "      <td>0</td>\n",
       "      <td>0</td>\n",
       "      <td>0</td>\n",
       "      <td>0</td>\n",
       "      <td>0</td>\n",
       "      <td>0</td>\n",
       "      <td>0</td>\n",
       "      <td>0</td>\n",
       "      <td>0</td>\n",
       "      <td>0</td>\n",
       "      <td>0</td>\n",
       "      <td>0</td>\n",
       "      <td>0</td>\n",
       "      <td>0</td>\n",
       "      <td>0</td>\n",
       "      <td>0</td>\n",
       "      <td>0</td>\n",
       "      <td>0</td>\n",
       "      <td>0</td>\n",
       "      <td>0</td>\n",
       "      <td>0</td>\n",
       "      <td>0</td>\n",
       "      <td>0</td>\n",
       "      <td>0</td>\n",
       "      <td>0</td>\n",
       "      <td>0</td>\n",
       "      <td>0</td>\n",
       "      <td>0</td>\n",
       "      <td>0</td>\n",
       "      <td>0</td>\n",
       "      <td>0</td>\n",
       "      <td>0</td>\n",
       "      <td>0</td>\n",
       "      <td>0</td>\n",
       "      <td>0</td>\n",
       "      <td>0</td>\n",
       "      <td>0</td>\n",
       "      <td>0</td>\n",
       "      <td>0</td>\n",
       "      <td>0</td>\n",
       "    </tr>\n",
       "    <tr>\n",
       "      <th>2</th>\n",
       "      <td>Buddhism_Ch3</td>\n",
       "      <td>0</td>\n",
       "      <td>0</td>\n",
       "      <td>0</td>\n",
       "      <td>0</td>\n",
       "      <td>0</td>\n",
       "      <td>0</td>\n",
       "      <td>0</td>\n",
       "      <td>0</td>\n",
       "      <td>0</td>\n",
       "      <td>0</td>\n",
       "      <td>0</td>\n",
       "      <td>0</td>\n",
       "      <td>0</td>\n",
       "      <td>0</td>\n",
       "      <td>0</td>\n",
       "      <td>0</td>\n",
       "      <td>0</td>\n",
       "      <td>0</td>\n",
       "      <td>0</td>\n",
       "      <td>0</td>\n",
       "      <td>0</td>\n",
       "      <td>0</td>\n",
       "      <td>0</td>\n",
       "      <td>0</td>\n",
       "      <td>0</td>\n",
       "      <td>0</td>\n",
       "      <td>0</td>\n",
       "      <td>0</td>\n",
       "      <td>0</td>\n",
       "      <td>0</td>\n",
       "      <td>0</td>\n",
       "      <td>0</td>\n",
       "      <td>0</td>\n",
       "      <td>0</td>\n",
       "      <td>0</td>\n",
       "      <td>1</td>\n",
       "      <td>0</td>\n",
       "      <td>0</td>\n",
       "      <td>0</td>\n",
       "      <td>...</td>\n",
       "      <td>0</td>\n",
       "      <td>0</td>\n",
       "      <td>0</td>\n",
       "      <td>0</td>\n",
       "      <td>0</td>\n",
       "      <td>0</td>\n",
       "      <td>0</td>\n",
       "      <td>0</td>\n",
       "      <td>0</td>\n",
       "      <td>0</td>\n",
       "      <td>0</td>\n",
       "      <td>0</td>\n",
       "      <td>0</td>\n",
       "      <td>0</td>\n",
       "      <td>0</td>\n",
       "      <td>0</td>\n",
       "      <td>0</td>\n",
       "      <td>0</td>\n",
       "      <td>0</td>\n",
       "      <td>0</td>\n",
       "      <td>0</td>\n",
       "      <td>0</td>\n",
       "      <td>0</td>\n",
       "      <td>0</td>\n",
       "      <td>0</td>\n",
       "      <td>0</td>\n",
       "      <td>0</td>\n",
       "      <td>0</td>\n",
       "      <td>0</td>\n",
       "      <td>0</td>\n",
       "      <td>0</td>\n",
       "      <td>0</td>\n",
       "      <td>0</td>\n",
       "      <td>0</td>\n",
       "      <td>0</td>\n",
       "      <td>0</td>\n",
       "      <td>0</td>\n",
       "      <td>0</td>\n",
       "      <td>0</td>\n",
       "      <td>0</td>\n",
       "    </tr>\n",
       "    <tr>\n",
       "      <th>3</th>\n",
       "      <td>Buddhism_Ch4</td>\n",
       "      <td>0</td>\n",
       "      <td>0</td>\n",
       "      <td>0</td>\n",
       "      <td>0</td>\n",
       "      <td>0</td>\n",
       "      <td>0</td>\n",
       "      <td>0</td>\n",
       "      <td>0</td>\n",
       "      <td>0</td>\n",
       "      <td>0</td>\n",
       "      <td>0</td>\n",
       "      <td>0</td>\n",
       "      <td>0</td>\n",
       "      <td>0</td>\n",
       "      <td>0</td>\n",
       "      <td>0</td>\n",
       "      <td>0</td>\n",
       "      <td>0</td>\n",
       "      <td>0</td>\n",
       "      <td>0</td>\n",
       "      <td>0</td>\n",
       "      <td>0</td>\n",
       "      <td>0</td>\n",
       "      <td>0</td>\n",
       "      <td>0</td>\n",
       "      <td>0</td>\n",
       "      <td>0</td>\n",
       "      <td>0</td>\n",
       "      <td>0</td>\n",
       "      <td>0</td>\n",
       "      <td>0</td>\n",
       "      <td>0</td>\n",
       "      <td>1</td>\n",
       "      <td>0</td>\n",
       "      <td>0</td>\n",
       "      <td>0</td>\n",
       "      <td>0</td>\n",
       "      <td>0</td>\n",
       "      <td>0</td>\n",
       "      <td>...</td>\n",
       "      <td>0</td>\n",
       "      <td>0</td>\n",
       "      <td>0</td>\n",
       "      <td>0</td>\n",
       "      <td>0</td>\n",
       "      <td>0</td>\n",
       "      <td>0</td>\n",
       "      <td>0</td>\n",
       "      <td>0</td>\n",
       "      <td>0</td>\n",
       "      <td>0</td>\n",
       "      <td>0</td>\n",
       "      <td>0</td>\n",
       "      <td>0</td>\n",
       "      <td>0</td>\n",
       "      <td>0</td>\n",
       "      <td>2</td>\n",
       "      <td>0</td>\n",
       "      <td>0</td>\n",
       "      <td>0</td>\n",
       "      <td>0</td>\n",
       "      <td>0</td>\n",
       "      <td>0</td>\n",
       "      <td>0</td>\n",
       "      <td>0</td>\n",
       "      <td>0</td>\n",
       "      <td>0</td>\n",
       "      <td>0</td>\n",
       "      <td>0</td>\n",
       "      <td>0</td>\n",
       "      <td>0</td>\n",
       "      <td>0</td>\n",
       "      <td>0</td>\n",
       "      <td>0</td>\n",
       "      <td>0</td>\n",
       "      <td>0</td>\n",
       "      <td>0</td>\n",
       "      <td>0</td>\n",
       "      <td>0</td>\n",
       "      <td>0</td>\n",
       "    </tr>\n",
       "    <tr>\n",
       "      <th>4</th>\n",
       "      <td>Buddhism_Ch5</td>\n",
       "      <td>0</td>\n",
       "      <td>0</td>\n",
       "      <td>0</td>\n",
       "      <td>0</td>\n",
       "      <td>0</td>\n",
       "      <td>0</td>\n",
       "      <td>0</td>\n",
       "      <td>0</td>\n",
       "      <td>0</td>\n",
       "      <td>0</td>\n",
       "      <td>0</td>\n",
       "      <td>0</td>\n",
       "      <td>0</td>\n",
       "      <td>0</td>\n",
       "      <td>0</td>\n",
       "      <td>0</td>\n",
       "      <td>0</td>\n",
       "      <td>0</td>\n",
       "      <td>0</td>\n",
       "      <td>0</td>\n",
       "      <td>0</td>\n",
       "      <td>0</td>\n",
       "      <td>0</td>\n",
       "      <td>0</td>\n",
       "      <td>0</td>\n",
       "      <td>0</td>\n",
       "      <td>0</td>\n",
       "      <td>0</td>\n",
       "      <td>0</td>\n",
       "      <td>0</td>\n",
       "      <td>0</td>\n",
       "      <td>0</td>\n",
       "      <td>0</td>\n",
       "      <td>0</td>\n",
       "      <td>0</td>\n",
       "      <td>0</td>\n",
       "      <td>0</td>\n",
       "      <td>0</td>\n",
       "      <td>0</td>\n",
       "      <td>...</td>\n",
       "      <td>0</td>\n",
       "      <td>0</td>\n",
       "      <td>0</td>\n",
       "      <td>0</td>\n",
       "      <td>0</td>\n",
       "      <td>0</td>\n",
       "      <td>0</td>\n",
       "      <td>0</td>\n",
       "      <td>0</td>\n",
       "      <td>0</td>\n",
       "      <td>0</td>\n",
       "      <td>0</td>\n",
       "      <td>0</td>\n",
       "      <td>0</td>\n",
       "      <td>0</td>\n",
       "      <td>0</td>\n",
       "      <td>0</td>\n",
       "      <td>0</td>\n",
       "      <td>0</td>\n",
       "      <td>0</td>\n",
       "      <td>0</td>\n",
       "      <td>0</td>\n",
       "      <td>0</td>\n",
       "      <td>0</td>\n",
       "      <td>0</td>\n",
       "      <td>0</td>\n",
       "      <td>0</td>\n",
       "      <td>0</td>\n",
       "      <td>0</td>\n",
       "      <td>0</td>\n",
       "      <td>0</td>\n",
       "      <td>0</td>\n",
       "      <td>0</td>\n",
       "      <td>0</td>\n",
       "      <td>0</td>\n",
       "      <td>0</td>\n",
       "      <td>0</td>\n",
       "      <td>0</td>\n",
       "      <td>0</td>\n",
       "      <td>0</td>\n",
       "    </tr>\n",
       "  </tbody>\n",
       "</table>\n",
       "<p>5 rows × 8267 columns</p>\n",
       "</div>"
      ],
      "text/plain": [
       "     Unnamed: 0  foolishness  hath  ...  illumines  attire  explains\n",
       "0  Buddhism_Ch1            0     0  ...          0       0         0\n",
       "1  Buddhism_Ch2            0     0  ...          0       0         0\n",
       "2  Buddhism_Ch3            0     0  ...          0       0         0\n",
       "3  Buddhism_Ch4            0     0  ...          0       0         0\n",
       "4  Buddhism_Ch5            0     0  ...          0       0         0\n",
       "\n",
       "[5 rows x 8267 columns]"
      ]
     },
     "execution_count": 4,
     "metadata": {
      "tags": []
     },
     "output_type": "execute_result"
    }
   ],
   "source": [
    "data.head()"
   ]
  },
  {
   "cell_type": "code",
   "execution_count": 0,
   "metadata": {
    "colab": {
     "base_uri": "https://localhost:8080/",
     "height": 33
    },
    "colab_type": "code",
    "id": "yHm0iO_67hJo",
    "outputId": "502fbe10-f891-49a9-96de-f077ade5eec0"
   },
   "outputs": [
    {
     "data": {
      "text/plain": [
       "(590, 8267)"
      ]
     },
     "execution_count": 5,
     "metadata": {
      "tags": []
     },
     "output_type": "execute_result"
    }
   ],
   "source": [
    "data.shape # bardzo dużo kolumn"
   ]
  },
  {
   "cell_type": "code",
   "execution_count": 0,
   "metadata": {
    "colab": {
     "base_uri": "https://localhost:8080/",
     "height": 33
    },
    "colab_type": "code",
    "id": "rmpRGlpdsGBj",
    "outputId": "934be699-bd11-4aff-9fd7-d4247675e382"
   },
   "outputs": [
    {
     "data": {
      "text/plain": [
       "False"
      ]
     },
     "execution_count": 6,
     "metadata": {
      "tags": []
     },
     "output_type": "execute_result"
    }
   ],
   "source": [
    "data.isnull().values.any() #sprawdzenie czy są braki"
   ]
  },
  {
   "cell_type": "markdown",
   "metadata": {
    "colab_type": "text",
    "id": "fmZchtNLsy-u"
   },
   "source": [
    "Zebrane dane zawierają o wiele więcej kolumn niż wierszy, a przygotowana ramka danych nie ma brakujących wartości.\n"
   ]
  },
  {
   "cell_type": "markdown",
   "metadata": {
    "colab_type": "text",
    "id": "N3nvOXEB9yIv"
   },
   "source": [
    "### Stworzenie kolumnny z nazwą księgi -  tylko do EDA\n",
    "\n",
    "Aby móc rozpoznawać księgi oraz je jakoś przeanalizować, zdecydowaliśmy się na stworzenie kolumny z nazwą księgi i pogrupowanie rozdziałów z ramki danych na całe księgi. W ten sposób przyjrzymy się temu o czym są całe księgi.\n"
   ]
  },
  {
   "cell_type": "code",
   "execution_count": 0,
   "metadata": {
    "colab": {},
    "colab_type": "code",
    "id": "E8zJVhp4kWiQ"
   },
   "outputs": [],
   "source": [
    "data['label']=data['Unnamed: 0'].str.split('_',expand=True)[0] #do jakiej księgi należy dany rozdział"
   ]
  },
  {
   "cell_type": "code",
   "execution_count": 0,
   "metadata": {
    "colab": {
     "base_uri": "https://localhost:8080/",
     "height": 64
    },
    "colab_type": "code",
    "id": "b8m0cLw9lYoE",
    "outputId": "d22cacfe-2dff-4218-9fdb-44caebbddc69"
   },
   "outputs": [
    {
     "data": {
      "text/plain": [
       "array(['BookOfEccleasiasticus', 'BookOfEcclesiastes', 'BookOfProverb',\n",
       "       'BookOfWisdom', 'Buddhism', 'TaoTeChing', 'Upanishad', 'YogaSutra'],\n",
       "      dtype=object)"
      ]
     },
     "execution_count": 9,
     "metadata": {
      "tags": []
     },
     "output_type": "execute_result"
    }
   ],
   "source": [
    "np.unique(data['label']) "
   ]
  },
  {
   "cell_type": "markdown",
   "metadata": {
    "colab_type": "text",
    "id": "j71RG7QLmbcv"
   },
   "source": [
    "Mamy 8 ksiąg - tak jak w było przedstawione w opisie zbioru, na początek zapoznajmy się z tym, jakie to są księgi.<br>\n",
    "## Tłumaczenia nazw i krótkie opisy ksiąg:\n",
    "* Book of Eccleasiasticus - Mądrość Syracha - jedna z ksiąg deuterookanonicznych Starego Testamentu (czyli takich, które są w Biblii chrześcijańskiej, ale nie w hebrajskiej. Napisana ok. 190 r.p.n.e. w Jerozolimie\n",
    "* Book Of Ecclesiastes - Księga Koheleta - znajduje sie w obu Bibliach. Datowanie księgi nie jest pewne, choć są znaki, aby określać je na III w.p.n.e.\n",
    "* Book of Proverb - Księga Przysłów - również w obu Bibliach, jest pracą zbiorową złożoną z różnych tekstów przez nieznanego autora ok. V w.p.n.e.\n",
    "* Book of Wisdom - Księga Mądrości - napisana prawdopodobnie w Aleksandrii (Egipt) - datowana na ok. 50 r.p.n.e.\n",
    "* Buddhism - oczywiście nazwa religii dalekiego wschodu - buddyzmu, który najczęściej jest wyznawany w kraja półwyspu indochińskiego, Malezji, Chinach i Monoglii.\n",
    "* Tao Te Ching - także: Lao Tsu - chińska księga najprawdopodobniej napisana w 6 wieku p.n.e. przez mędrca Laozi. Uważana jest za podstawowe dzieło taoizmu - jedną z najpopularniejszych chińskich religii. Badacze twierdzą także, że miała ona wpływ także na kształtowanie filozofii buddystów.\n",
    "* Upanishads - upaniszady - teksty (w liczbie ponad 200) religii hinduizmu należące do wedyjskiego objawienia o treści religijno - filozoficznej. Jedne z późniejszych tekstów należących do Wed (świętych ksiąg hinduizmu), napisane w VIII - III w.p.n.e. Są do dziś wykorzystywane nawet w naszej kulturze wśród osób praktykujących medytację.\n",
    "* Yoga Sutra - jogasutry (hinduizm) - najstarszy tekst klasycznej Jogi (w znaczeniu systemu filozofii indyjskiej, uznającego autorytet Wed), składający się ze 195 sutr - zwięzłych sentencji. Według hinduskich tradycji, ich autorem był żyjący w II w.p.n.e. Patañjāli.\n"
   ]
  },
  {
   "cell_type": "markdown",
   "metadata": {
    "colab_type": "text",
    "id": "lYX1XASF6-d0"
   },
   "source": [
    "Przejdźmy do analizowania ksiąg i ich słów.\n",
    "\n",
    "## Najczęściej występujące słowa ogółem\n"
   ]
  },
  {
   "cell_type": "code",
   "execution_count": 0,
   "metadata": {
    "colab": {
     "base_uri": "https://localhost:8080/",
     "height": 363
    },
    "colab_type": "code",
    "id": "JEHGKZ26p7u2",
    "outputId": "9512b246-16aa-436e-9d27-606b78208c41"
   },
   "outputs": [
    {
     "data": {
      "text/html": [
       "<div>\n",
       "<style scoped>\n",
       "    .dataframe tbody tr th:only-of-type {\n",
       "        vertical-align: middle;\n",
       "    }\n",
       "\n",
       "    .dataframe tbody tr th {\n",
       "        vertical-align: top;\n",
       "    }\n",
       "\n",
       "    .dataframe thead th {\n",
       "        text-align: right;\n",
       "    }\n",
       "</style>\n",
       "<table border=\"1\" class=\"dataframe\">\n",
       "  <thead>\n",
       "    <tr style=\"text-align: right;\">\n",
       "      <th></th>\n",
       "      <th>0</th>\n",
       "    </tr>\n",
       "  </thead>\n",
       "  <tbody>\n",
       "    <tr>\n",
       "      <th>shall</th>\n",
       "      <td>1168</td>\n",
       "    </tr>\n",
       "    <tr>\n",
       "      <th>man</th>\n",
       "      <td>846</td>\n",
       "    </tr>\n",
       "    <tr>\n",
       "      <th>thy</th>\n",
       "      <td>645</td>\n",
       "    </tr>\n",
       "    <tr>\n",
       "      <th>one</th>\n",
       "      <td>473</td>\n",
       "    </tr>\n",
       "    <tr>\n",
       "      <th>things</th>\n",
       "      <td>468</td>\n",
       "    </tr>\n",
       "    <tr>\n",
       "      <th>thou</th>\n",
       "      <td>449</td>\n",
       "    </tr>\n",
       "    <tr>\n",
       "      <th>god</th>\n",
       "      <td>385</td>\n",
       "    </tr>\n",
       "    <tr>\n",
       "      <th>life</th>\n",
       "      <td>357</td>\n",
       "    </tr>\n",
       "    <tr>\n",
       "      <th>hath</th>\n",
       "      <td>334</td>\n",
       "    </tr>\n",
       "    <tr>\n",
       "      <th>spiritual</th>\n",
       "      <td>309</td>\n",
       "    </tr>\n",
       "  </tbody>\n",
       "</table>\n",
       "</div>"
      ],
      "text/plain": [
       "              0\n",
       "shall      1168\n",
       "man         846\n",
       "thy         645\n",
       "one         473\n",
       "things      468\n",
       "thou        449\n",
       "god         385\n",
       "life        357\n",
       "hath        334\n",
       "spiritual   309"
      ]
     },
     "execution_count": 10,
     "metadata": {
      "tags": []
     },
     "output_type": "execute_result"
    }
   ],
   "source": [
    "words = pd.DataFrame(data.drop(['Unnamed: 0', 'label'], axis=1).sum())\n",
    "words_sorted = words.sort_values(by=0, ascending=False)\n",
    "words_sorted.head(10) #10 najczęściej używanych słów ogółem"
   ]
  },
  {
   "cell_type": "markdown",
   "metadata": {
    "colab_type": "text",
    "id": "WboU_cOVToTV"
   },
   "source": [
    "Najczęściej występuje słowo $shall$.\n",
    "\n",
    "Przyjrzyjmy się wykresowi wystąpień słów."
   ]
  },
  {
   "cell_type": "code",
   "execution_count": 0,
   "metadata": {
    "colab": {
     "base_uri": "https://localhost:8080/",
     "height": 343
    },
    "colab_type": "code",
    "id": "QDrmEzPc22D4",
    "outputId": "8ab99016-e020-4690-fc4e-2c8532cf34aa"
   },
   "outputs": [
    {
     "data": {
      "image/png": "[encoded data removed]",
      "text/plain": [
       "<Figure size 432x288 with 1 Axes>"
      ]
     },
     "metadata": {
      "needs_background": "light",
      "tags": []
     },
     "output_type": "display_data"
    }
   ],
   "source": [
    "plt.plot(words_sorted.head(50))\n",
    "plt.xticks(rotation = 90)\n",
    "plt.title('Najczęściej używane słowa we wszystkich księgach')\n",
    "plt.show()"
   ]
  },
  {
   "cell_type": "markdown",
   "metadata": {
    "colab_type": "text",
    "id": "UpV4C4JX3s5W"
   },
   "source": [
    "Jak widzimy po tabeli i wykresie dwa-trzy słowa się wyróżniają a potem mamy wyraźny spadek. Większość słów nie przekracza nawet 200 wystąpień."
   ]
  },
  {
   "cell_type": "markdown",
   "metadata": {
    "colab_type": "text",
    "id": "zFNYBUad6b1d"
   },
   "source": [
    "## Liczba użyć danego słowa w każdej z ksiąg\n"
   ]
  },
  {
   "cell_type": "markdown",
   "metadata": {
    "colab_type": "text",
    "id": "BpGclofUVWch"
   },
   "source": [
    "Przygotowaliśmy ramkę danych z liczbami wystapień słów dla każdej księgi. Można ją zobaczyć poniżej."
   ]
  },
  {
   "cell_type": "code",
   "execution_count": 0,
   "metadata": {
    "colab": {
     "base_uri": "https://localhost:8080/",
     "height": 348
    },
    "colab_type": "code",
    "id": "CT0dEPr3me1_",
    "outputId": "064eacee-a317-400b-90c4-112c5d43dcea"
   },
   "outputs": [
    {
     "data": {
      "text/html": [
       "<div>\n",
       "<style scoped>\n",
       "    .dataframe tbody tr th:only-of-type {\n",
       "        vertical-align: middle;\n",
       "    }\n",
       "\n",
       "    .dataframe tbody tr th {\n",
       "        vertical-align: top;\n",
       "    }\n",
       "\n",
       "    .dataframe thead th {\n",
       "        text-align: right;\n",
       "    }\n",
       "</style>\n",
       "<table border=\"1\" class=\"dataframe\">\n",
       "  <thead>\n",
       "    <tr style=\"text-align: right;\">\n",
       "      <th></th>\n",
       "      <th>shall</th>\n",
       "      <th>man</th>\n",
       "      <th>thy</th>\n",
       "      <th>one</th>\n",
       "      <th>things</th>\n",
       "      <th>thou</th>\n",
       "      <th>god</th>\n",
       "      <th>life</th>\n",
       "      <th>hath</th>\n",
       "      <th>spiritual</th>\n",
       "      <th>lord</th>\n",
       "      <th>mind</th>\n",
       "      <th>thee</th>\n",
       "      <th>heart</th>\n",
       "      <th>soul</th>\n",
       "      <th>wisdom</th>\n",
       "      <th>men</th>\n",
       "      <th>upon</th>\n",
       "      <th>good</th>\n",
       "      <th>way</th>\n",
       "      <th>great</th>\n",
       "      <th>knowledge</th>\n",
       "      <th>wise</th>\n",
       "      <th>power</th>\n",
       "      <th>may</th>\n",
       "      <th>right</th>\n",
       "      <th>made</th>\n",
       "      <th>death</th>\n",
       "      <th>know</th>\n",
       "      <th>consciousness</th>\n",
       "      <th>time</th>\n",
       "      <th>like</th>\n",
       "      <th>body</th>\n",
       "      <th>away</th>\n",
       "      <th>self</th>\n",
       "      <th>wicked</th>\n",
       "      <th>without</th>\n",
       "      <th>therefore</th>\n",
       "      <th>also</th>\n",
       "      <th>s</th>\n",
       "      <th>...</th>\n",
       "      <th>directing</th>\n",
       "      <th>breathed</th>\n",
       "      <th>inductive</th>\n",
       "      <th>consolation</th>\n",
       "      <th>flits</th>\n",
       "      <th>threedimensional</th>\n",
       "      <th>sedition</th>\n",
       "      <th>xii</th>\n",
       "      <th>goad</th>\n",
       "      <th>disentangled</th>\n",
       "      <th>presuming</th>\n",
       "      <th>instanced</th>\n",
       "      <th>cain</th>\n",
       "      <th>irregularity</th>\n",
       "      <th>despoil</th>\n",
       "      <th>impudently</th>\n",
       "      <th>widely</th>\n",
       "      <th>inaccurate</th>\n",
       "      <th>sannyasin</th>\n",
       "      <th>agent</th>\n",
       "      <th>approacheth</th>\n",
       "      <th>represents</th>\n",
       "      <th>beautifully</th>\n",
       "      <th>satan</th>\n",
       "      <th>humbly</th>\n",
       "      <th>enlargeth</th>\n",
       "      <th>aids</th>\n",
       "      <th>lean</th>\n",
       "      <th>inhabit</th>\n",
       "      <th>types</th>\n",
       "      <th>vividly</th>\n",
       "      <th>separates</th>\n",
       "      <th>saveth</th>\n",
       "      <th>insects</th>\n",
       "      <th>toughness</th>\n",
       "      <th>inert</th>\n",
       "      <th>allconscious</th>\n",
       "      <th>principal</th>\n",
       "      <th>diversities</th>\n",
       "      <th>occurs</th>\n",
       "    </tr>\n",
       "    <tr>\n",
       "      <th>label</th>\n",
       "      <th></th>\n",
       "      <th></th>\n",
       "      <th></th>\n",
       "      <th></th>\n",
       "      <th></th>\n",
       "      <th></th>\n",
       "      <th></th>\n",
       "      <th></th>\n",
       "      <th></th>\n",
       "      <th></th>\n",
       "      <th></th>\n",
       "      <th></th>\n",
       "      <th></th>\n",
       "      <th></th>\n",
       "      <th></th>\n",
       "      <th></th>\n",
       "      <th></th>\n",
       "      <th></th>\n",
       "      <th></th>\n",
       "      <th></th>\n",
       "      <th></th>\n",
       "      <th></th>\n",
       "      <th></th>\n",
       "      <th></th>\n",
       "      <th></th>\n",
       "      <th></th>\n",
       "      <th></th>\n",
       "      <th></th>\n",
       "      <th></th>\n",
       "      <th></th>\n",
       "      <th></th>\n",
       "      <th></th>\n",
       "      <th></th>\n",
       "      <th></th>\n",
       "      <th></th>\n",
       "      <th></th>\n",
       "      <th></th>\n",
       "      <th></th>\n",
       "      <th></th>\n",
       "      <th></th>\n",
       "      <th></th>\n",
       "      <th></th>\n",
       "      <th></th>\n",
       "      <th></th>\n",
       "      <th></th>\n",
       "      <th></th>\n",
       "      <th></th>\n",
       "      <th></th>\n",
       "      <th></th>\n",
       "      <th></th>\n",
       "      <th></th>\n",
       "      <th></th>\n",
       "      <th></th>\n",
       "      <th></th>\n",
       "      <th></th>\n",
       "      <th></th>\n",
       "      <th></th>\n",
       "      <th></th>\n",
       "      <th></th>\n",
       "      <th></th>\n",
       "      <th></th>\n",
       "      <th></th>\n",
       "      <th></th>\n",
       "      <th></th>\n",
       "      <th></th>\n",
       "      <th></th>\n",
       "      <th></th>\n",
       "      <th></th>\n",
       "      <th></th>\n",
       "      <th></th>\n",
       "      <th></th>\n",
       "      <th></th>\n",
       "      <th></th>\n",
       "      <th></th>\n",
       "      <th></th>\n",
       "      <th></th>\n",
       "      <th></th>\n",
       "      <th></th>\n",
       "      <th></th>\n",
       "      <th></th>\n",
       "      <th></th>\n",
       "    </tr>\n",
       "  </thead>\n",
       "  <tbody>\n",
       "    <tr>\n",
       "      <th>BookOfEccleasiasticus</th>\n",
       "      <td>508</td>\n",
       "      <td>232</td>\n",
       "      <td>330</td>\n",
       "      <td>77</td>\n",
       "      <td>120</td>\n",
       "      <td>230</td>\n",
       "      <td>193</td>\n",
       "      <td>65</td>\n",
       "      <td>189</td>\n",
       "      <td>0</td>\n",
       "      <td>152</td>\n",
       "      <td>20</td>\n",
       "      <td>170</td>\n",
       "      <td>96</td>\n",
       "      <td>80</td>\n",
       "      <td>97</td>\n",
       "      <td>82</td>\n",
       "      <td>115</td>\n",
       "      <td>95</td>\n",
       "      <td>26</td>\n",
       "      <td>58</td>\n",
       "      <td>28</td>\n",
       "      <td>58</td>\n",
       "      <td>36</td>\n",
       "      <td>35</td>\n",
       "      <td>11</td>\n",
       "      <td>64</td>\n",
       "      <td>45</td>\n",
       "      <td>17</td>\n",
       "      <td>0</td>\n",
       "      <td>61</td>\n",
       "      <td>56</td>\n",
       "      <td>11</td>\n",
       "      <td>54</td>\n",
       "      <td>1</td>\n",
       "      <td>42</td>\n",
       "      <td>30</td>\n",
       "      <td>14</td>\n",
       "      <td>35</td>\n",
       "      <td>29</td>\n",
       "      <td>...</td>\n",
       "      <td>0</td>\n",
       "      <td>0</td>\n",
       "      <td>0</td>\n",
       "      <td>0</td>\n",
       "      <td>0</td>\n",
       "      <td>0</td>\n",
       "      <td>0</td>\n",
       "      <td>0</td>\n",
       "      <td>1</td>\n",
       "      <td>0</td>\n",
       "      <td>0</td>\n",
       "      <td>0</td>\n",
       "      <td>0</td>\n",
       "      <td>0</td>\n",
       "      <td>0</td>\n",
       "      <td>0</td>\n",
       "      <td>0</td>\n",
       "      <td>0</td>\n",
       "      <td>0</td>\n",
       "      <td>0</td>\n",
       "      <td>1</td>\n",
       "      <td>0</td>\n",
       "      <td>0</td>\n",
       "      <td>1</td>\n",
       "      <td>0</td>\n",
       "      <td>0</td>\n",
       "      <td>0</td>\n",
       "      <td>0</td>\n",
       "      <td>0</td>\n",
       "      <td>0</td>\n",
       "      <td>0</td>\n",
       "      <td>0</td>\n",
       "      <td>1</td>\n",
       "      <td>0</td>\n",
       "      <td>0</td>\n",
       "      <td>0</td>\n",
       "      <td>0</td>\n",
       "      <td>1</td>\n",
       "      <td>0</td>\n",
       "      <td>0</td>\n",
       "    </tr>\n",
       "    <tr>\n",
       "      <th>BookOfEcclesiastes</th>\n",
       "      <td>89</td>\n",
       "      <td>71</td>\n",
       "      <td>43</td>\n",
       "      <td>19</td>\n",
       "      <td>46</td>\n",
       "      <td>26</td>\n",
       "      <td>46</td>\n",
       "      <td>16</td>\n",
       "      <td>46</td>\n",
       "      <td>0</td>\n",
       "      <td>1</td>\n",
       "      <td>11</td>\n",
       "      <td>6</td>\n",
       "      <td>27</td>\n",
       "      <td>9</td>\n",
       "      <td>26</td>\n",
       "      <td>22</td>\n",
       "      <td>12</td>\n",
       "      <td>22</td>\n",
       "      <td>3</td>\n",
       "      <td>14</td>\n",
       "      <td>5</td>\n",
       "      <td>22</td>\n",
       "      <td>7</td>\n",
       "      <td>6</td>\n",
       "      <td>3</td>\n",
       "      <td>14</td>\n",
       "      <td>8</td>\n",
       "      <td>16</td>\n",
       "      <td>0</td>\n",
       "      <td>42</td>\n",
       "      <td>4</td>\n",
       "      <td>1</td>\n",
       "      <td>8</td>\n",
       "      <td>0</td>\n",
       "      <td>11</td>\n",
       "      <td>3</td>\n",
       "      <td>8</td>\n",
       "      <td>31</td>\n",
       "      <td>5</td>\n",
       "      <td>...</td>\n",
       "      <td>0</td>\n",
       "      <td>0</td>\n",
       "      <td>0</td>\n",
       "      <td>0</td>\n",
       "      <td>0</td>\n",
       "      <td>0</td>\n",
       "      <td>0</td>\n",
       "      <td>0</td>\n",
       "      <td>0</td>\n",
       "      <td>0</td>\n",
       "      <td>0</td>\n",
       "      <td>0</td>\n",
       "      <td>0</td>\n",
       "      <td>0</td>\n",
       "      <td>0</td>\n",
       "      <td>0</td>\n",
       "      <td>0</td>\n",
       "      <td>0</td>\n",
       "      <td>0</td>\n",
       "      <td>0</td>\n",
       "      <td>0</td>\n",
       "      <td>0</td>\n",
       "      <td>0</td>\n",
       "      <td>0</td>\n",
       "      <td>0</td>\n",
       "      <td>0</td>\n",
       "      <td>0</td>\n",
       "      <td>0</td>\n",
       "      <td>0</td>\n",
       "      <td>0</td>\n",
       "      <td>0</td>\n",
       "      <td>0</td>\n",
       "      <td>0</td>\n",
       "      <td>0</td>\n",
       "      <td>0</td>\n",
       "      <td>0</td>\n",
       "      <td>0</td>\n",
       "      <td>0</td>\n",
       "      <td>0</td>\n",
       "      <td>0</td>\n",
       "    </tr>\n",
       "    <tr>\n",
       "      <th>BookOfProverb</th>\n",
       "      <td>389</td>\n",
       "      <td>176</td>\n",
       "      <td>165</td>\n",
       "      <td>23</td>\n",
       "      <td>45</td>\n",
       "      <td>93</td>\n",
       "      <td>19</td>\n",
       "      <td>37</td>\n",
       "      <td>65</td>\n",
       "      <td>0</td>\n",
       "      <td>85</td>\n",
       "      <td>15</td>\n",
       "      <td>59</td>\n",
       "      <td>64</td>\n",
       "      <td>47</td>\n",
       "      <td>53</td>\n",
       "      <td>32</td>\n",
       "      <td>27</td>\n",
       "      <td>46</td>\n",
       "      <td>56</td>\n",
       "      <td>10</td>\n",
       "      <td>26</td>\n",
       "      <td>71</td>\n",
       "      <td>4</td>\n",
       "      <td>17</td>\n",
       "      <td>18</td>\n",
       "      <td>13</td>\n",
       "      <td>19</td>\n",
       "      <td>6</td>\n",
       "      <td>0</td>\n",
       "      <td>7</td>\n",
       "      <td>25</td>\n",
       "      <td>1</td>\n",
       "      <td>29</td>\n",
       "      <td>0</td>\n",
       "      <td>92</td>\n",
       "      <td>17</td>\n",
       "      <td>7</td>\n",
       "      <td>17</td>\n",
       "      <td>17</td>\n",
       "      <td>...</td>\n",
       "      <td>0</td>\n",
       "      <td>0</td>\n",
       "      <td>0</td>\n",
       "      <td>0</td>\n",
       "      <td>0</td>\n",
       "      <td>0</td>\n",
       "      <td>0</td>\n",
       "      <td>0</td>\n",
       "      <td>0</td>\n",
       "      <td>0</td>\n",
       "      <td>0</td>\n",
       "      <td>0</td>\n",
       "      <td>0</td>\n",
       "      <td>0</td>\n",
       "      <td>0</td>\n",
       "      <td>1</td>\n",
       "      <td>0</td>\n",
       "      <td>0</td>\n",
       "      <td>0</td>\n",
       "      <td>0</td>\n",
       "      <td>0</td>\n",
       "      <td>0</td>\n",
       "      <td>0</td>\n",
       "      <td>0</td>\n",
       "      <td>0</td>\n",
       "      <td>1</td>\n",
       "      <td>0</td>\n",
       "      <td>1</td>\n",
       "      <td>0</td>\n",
       "      <td>0</td>\n",
       "      <td>0</td>\n",
       "      <td>0</td>\n",
       "      <td>0</td>\n",
       "      <td>0</td>\n",
       "      <td>0</td>\n",
       "      <td>0</td>\n",
       "      <td>0</td>\n",
       "      <td>0</td>\n",
       "      <td>0</td>\n",
       "      <td>0</td>\n",
       "    </tr>\n",
       "    <tr>\n",
       "      <th>BookOfWisdom</th>\n",
       "      <td>120</td>\n",
       "      <td>38</td>\n",
       "      <td>86</td>\n",
       "      <td>20</td>\n",
       "      <td>89</td>\n",
       "      <td>61</td>\n",
       "      <td>67</td>\n",
       "      <td>26</td>\n",
       "      <td>32</td>\n",
       "      <td>0</td>\n",
       "      <td>28</td>\n",
       "      <td>3</td>\n",
       "      <td>30</td>\n",
       "      <td>7</td>\n",
       "      <td>12</td>\n",
       "      <td>38</td>\n",
       "      <td>30</td>\n",
       "      <td>37</td>\n",
       "      <td>26</td>\n",
       "      <td>11</td>\n",
       "      <td>17</td>\n",
       "      <td>10</td>\n",
       "      <td>5</td>\n",
       "      <td>22</td>\n",
       "      <td>13</td>\n",
       "      <td>4</td>\n",
       "      <td>35</td>\n",
       "      <td>15</td>\n",
       "      <td>19</td>\n",
       "      <td>0</td>\n",
       "      <td>21</td>\n",
       "      <td>12</td>\n",
       "      <td>5</td>\n",
       "      <td>18</td>\n",
       "      <td>0</td>\n",
       "      <td>25</td>\n",
       "      <td>21</td>\n",
       "      <td>26</td>\n",
       "      <td>18</td>\n",
       "      <td>9</td>\n",
       "      <td>...</td>\n",
       "      <td>1</td>\n",
       "      <td>1</td>\n",
       "      <td>0</td>\n",
       "      <td>0</td>\n",
       "      <td>0</td>\n",
       "      <td>0</td>\n",
       "      <td>1</td>\n",
       "      <td>0</td>\n",
       "      <td>0</td>\n",
       "      <td>0</td>\n",
       "      <td>0</td>\n",
       "      <td>0</td>\n",
       "      <td>1</td>\n",
       "      <td>1</td>\n",
       "      <td>0</td>\n",
       "      <td>0</td>\n",
       "      <td>0</td>\n",
       "      <td>0</td>\n",
       "      <td>0</td>\n",
       "      <td>0</td>\n",
       "      <td>0</td>\n",
       "      <td>0</td>\n",
       "      <td>0</td>\n",
       "      <td>0</td>\n",
       "      <td>0</td>\n",
       "      <td>0</td>\n",
       "      <td>0</td>\n",
       "      <td>0</td>\n",
       "      <td>0</td>\n",
       "      <td>0</td>\n",
       "      <td>0</td>\n",
       "      <td>0</td>\n",
       "      <td>0</td>\n",
       "      <td>0</td>\n",
       "      <td>0</td>\n",
       "      <td>0</td>\n",
       "      <td>0</td>\n",
       "      <td>0</td>\n",
       "      <td>1</td>\n",
       "      <td>0</td>\n",
       "    </tr>\n",
       "    <tr>\n",
       "      <th>Buddhism</th>\n",
       "      <td>0</td>\n",
       "      <td>11</td>\n",
       "      <td>0</td>\n",
       "      <td>75</td>\n",
       "      <td>8</td>\n",
       "      <td>0</td>\n",
       "      <td>0</td>\n",
       "      <td>22</td>\n",
       "      <td>0</td>\n",
       "      <td>0</td>\n",
       "      <td>9</td>\n",
       "      <td>71</td>\n",
       "      <td>0</td>\n",
       "      <td>4</td>\n",
       "      <td>0</td>\n",
       "      <td>0</td>\n",
       "      <td>0</td>\n",
       "      <td>0</td>\n",
       "      <td>5</td>\n",
       "      <td>55</td>\n",
       "      <td>6</td>\n",
       "      <td>33</td>\n",
       "      <td>0</td>\n",
       "      <td>0</td>\n",
       "      <td>12</td>\n",
       "      <td>128</td>\n",
       "      <td>26</td>\n",
       "      <td>13</td>\n",
       "      <td>19</td>\n",
       "      <td>47</td>\n",
       "      <td>1</td>\n",
       "      <td>4</td>\n",
       "      <td>73</td>\n",
       "      <td>26</td>\n",
       "      <td>6</td>\n",
       "      <td>0</td>\n",
       "      <td>16</td>\n",
       "      <td>4</td>\n",
       "      <td>2</td>\n",
       "      <td>10</td>\n",
       "      <td>...</td>\n",
       "      <td>0</td>\n",
       "      <td>0</td>\n",
       "      <td>0</td>\n",
       "      <td>0</td>\n",
       "      <td>0</td>\n",
       "      <td>0</td>\n",
       "      <td>0</td>\n",
       "      <td>0</td>\n",
       "      <td>0</td>\n",
       "      <td>0</td>\n",
       "      <td>0</td>\n",
       "      <td>0</td>\n",
       "      <td>0</td>\n",
       "      <td>0</td>\n",
       "      <td>0</td>\n",
       "      <td>0</td>\n",
       "      <td>0</td>\n",
       "      <td>0</td>\n",
       "      <td>0</td>\n",
       "      <td>0</td>\n",
       "      <td>0</td>\n",
       "      <td>0</td>\n",
       "      <td>0</td>\n",
       "      <td>0</td>\n",
       "      <td>0</td>\n",
       "      <td>0</td>\n",
       "      <td>0</td>\n",
       "      <td>0</td>\n",
       "      <td>0</td>\n",
       "      <td>0</td>\n",
       "      <td>0</td>\n",
       "      <td>0</td>\n",
       "      <td>0</td>\n",
       "      <td>0</td>\n",
       "      <td>0</td>\n",
       "      <td>0</td>\n",
       "      <td>0</td>\n",
       "      <td>0</td>\n",
       "      <td>0</td>\n",
       "      <td>0</td>\n",
       "    </tr>\n",
       "    <tr>\n",
       "      <th>TaoTeChing</th>\n",
       "      <td>17</td>\n",
       "      <td>16</td>\n",
       "      <td>1</td>\n",
       "      <td>51</td>\n",
       "      <td>56</td>\n",
       "      <td>1</td>\n",
       "      <td>1</td>\n",
       "      <td>16</td>\n",
       "      <td>0</td>\n",
       "      <td>2</td>\n",
       "      <td>4</td>\n",
       "      <td>9</td>\n",
       "      <td>0</td>\n",
       "      <td>0</td>\n",
       "      <td>0</td>\n",
       "      <td>4</td>\n",
       "      <td>45</td>\n",
       "      <td>1</td>\n",
       "      <td>16</td>\n",
       "      <td>24</td>\n",
       "      <td>42</td>\n",
       "      <td>11</td>\n",
       "      <td>1</td>\n",
       "      <td>3</td>\n",
       "      <td>23</td>\n",
       "      <td>7</td>\n",
       "      <td>8</td>\n",
       "      <td>17</td>\n",
       "      <td>31</td>\n",
       "      <td>0</td>\n",
       "      <td>4</td>\n",
       "      <td>24</td>\n",
       "      <td>4</td>\n",
       "      <td>10</td>\n",
       "      <td>3</td>\n",
       "      <td>0</td>\n",
       "      <td>32</td>\n",
       "      <td>40</td>\n",
       "      <td>10</td>\n",
       "      <td>23</td>\n",
       "      <td>...</td>\n",
       "      <td>0</td>\n",
       "      <td>0</td>\n",
       "      <td>0</td>\n",
       "      <td>0</td>\n",
       "      <td>0</td>\n",
       "      <td>0</td>\n",
       "      <td>0</td>\n",
       "      <td>0</td>\n",
       "      <td>0</td>\n",
       "      <td>0</td>\n",
       "      <td>1</td>\n",
       "      <td>0</td>\n",
       "      <td>0</td>\n",
       "      <td>0</td>\n",
       "      <td>1</td>\n",
       "      <td>0</td>\n",
       "      <td>0</td>\n",
       "      <td>0</td>\n",
       "      <td>0</td>\n",
       "      <td>0</td>\n",
       "      <td>0</td>\n",
       "      <td>0</td>\n",
       "      <td>0</td>\n",
       "      <td>0</td>\n",
       "      <td>1</td>\n",
       "      <td>0</td>\n",
       "      <td>0</td>\n",
       "      <td>0</td>\n",
       "      <td>0</td>\n",
       "      <td>0</td>\n",
       "      <td>0</td>\n",
       "      <td>0</td>\n",
       "      <td>0</td>\n",
       "      <td>1</td>\n",
       "      <td>0</td>\n",
       "      <td>0</td>\n",
       "      <td>0</td>\n",
       "      <td>0</td>\n",
       "      <td>0</td>\n",
       "      <td>0</td>\n",
       "    </tr>\n",
       "    <tr>\n",
       "      <th>Upanishad</th>\n",
       "      <td>10</td>\n",
       "      <td>63</td>\n",
       "      <td>15</td>\n",
       "      <td>100</td>\n",
       "      <td>16</td>\n",
       "      <td>28</td>\n",
       "      <td>31</td>\n",
       "      <td>27</td>\n",
       "      <td>0</td>\n",
       "      <td>7</td>\n",
       "      <td>12</td>\n",
       "      <td>71</td>\n",
       "      <td>29</td>\n",
       "      <td>31</td>\n",
       "      <td>19</td>\n",
       "      <td>14</td>\n",
       "      <td>9</td>\n",
       "      <td>8</td>\n",
       "      <td>11</td>\n",
       "      <td>6</td>\n",
       "      <td>23</td>\n",
       "      <td>51</td>\n",
       "      <td>30</td>\n",
       "      <td>12</td>\n",
       "      <td>22</td>\n",
       "      <td>6</td>\n",
       "      <td>6</td>\n",
       "      <td>56</td>\n",
       "      <td>50</td>\n",
       "      <td>13</td>\n",
       "      <td>7</td>\n",
       "      <td>22</td>\n",
       "      <td>30</td>\n",
       "      <td>14</td>\n",
       "      <td>79</td>\n",
       "      <td>0</td>\n",
       "      <td>22</td>\n",
       "      <td>32</td>\n",
       "      <td>23</td>\n",
       "      <td>19</td>\n",
       "      <td>...</td>\n",
       "      <td>0</td>\n",
       "      <td>0</td>\n",
       "      <td>0</td>\n",
       "      <td>0</td>\n",
       "      <td>0</td>\n",
       "      <td>0</td>\n",
       "      <td>0</td>\n",
       "      <td>1</td>\n",
       "      <td>0</td>\n",
       "      <td>0</td>\n",
       "      <td>0</td>\n",
       "      <td>0</td>\n",
       "      <td>0</td>\n",
       "      <td>0</td>\n",
       "      <td>0</td>\n",
       "      <td>0</td>\n",
       "      <td>0</td>\n",
       "      <td>0</td>\n",
       "      <td>1</td>\n",
       "      <td>1</td>\n",
       "      <td>0</td>\n",
       "      <td>1</td>\n",
       "      <td>0</td>\n",
       "      <td>0</td>\n",
       "      <td>0</td>\n",
       "      <td>0</td>\n",
       "      <td>0</td>\n",
       "      <td>0</td>\n",
       "      <td>0</td>\n",
       "      <td>0</td>\n",
       "      <td>0</td>\n",
       "      <td>1</td>\n",
       "      <td>0</td>\n",
       "      <td>0</td>\n",
       "      <td>0</td>\n",
       "      <td>0</td>\n",
       "      <td>0</td>\n",
       "      <td>0</td>\n",
       "      <td>0</td>\n",
       "      <td>0</td>\n",
       "    </tr>\n",
       "    <tr>\n",
       "      <th>YogaSutra</th>\n",
       "      <td>35</td>\n",
       "      <td>239</td>\n",
       "      <td>5</td>\n",
       "      <td>108</td>\n",
       "      <td>88</td>\n",
       "      <td>10</td>\n",
       "      <td>28</td>\n",
       "      <td>148</td>\n",
       "      <td>2</td>\n",
       "      <td>300</td>\n",
       "      <td>9</td>\n",
       "      <td>98</td>\n",
       "      <td>3</td>\n",
       "      <td>43</td>\n",
       "      <td>94</td>\n",
       "      <td>19</td>\n",
       "      <td>9</td>\n",
       "      <td>28</td>\n",
       "      <td>6</td>\n",
       "      <td>27</td>\n",
       "      <td>34</td>\n",
       "      <td>40</td>\n",
       "      <td>16</td>\n",
       "      <td>112</td>\n",
       "      <td>66</td>\n",
       "      <td>16</td>\n",
       "      <td>17</td>\n",
       "      <td>10</td>\n",
       "      <td>24</td>\n",
       "      <td>122</td>\n",
       "      <td>34</td>\n",
       "      <td>30</td>\n",
       "      <td>52</td>\n",
       "      <td>15</td>\n",
       "      <td>81</td>\n",
       "      <td>0</td>\n",
       "      <td>24</td>\n",
       "      <td>34</td>\n",
       "      <td>28</td>\n",
       "      <td>47</td>\n",
       "      <td>...</td>\n",
       "      <td>0</td>\n",
       "      <td>0</td>\n",
       "      <td>1</td>\n",
       "      <td>1</td>\n",
       "      <td>1</td>\n",
       "      <td>1</td>\n",
       "      <td>0</td>\n",
       "      <td>0</td>\n",
       "      <td>0</td>\n",
       "      <td>1</td>\n",
       "      <td>0</td>\n",
       "      <td>1</td>\n",
       "      <td>0</td>\n",
       "      <td>0</td>\n",
       "      <td>0</td>\n",
       "      <td>0</td>\n",
       "      <td>1</td>\n",
       "      <td>1</td>\n",
       "      <td>0</td>\n",
       "      <td>0</td>\n",
       "      <td>0</td>\n",
       "      <td>0</td>\n",
       "      <td>1</td>\n",
       "      <td>0</td>\n",
       "      <td>0</td>\n",
       "      <td>0</td>\n",
       "      <td>1</td>\n",
       "      <td>0</td>\n",
       "      <td>1</td>\n",
       "      <td>1</td>\n",
       "      <td>1</td>\n",
       "      <td>0</td>\n",
       "      <td>0</td>\n",
       "      <td>0</td>\n",
       "      <td>1</td>\n",
       "      <td>1</td>\n",
       "      <td>1</td>\n",
       "      <td>0</td>\n",
       "      <td>0</td>\n",
       "      <td>1</td>\n",
       "    </tr>\n",
       "  </tbody>\n",
       "</table>\n",
       "<p>8 rows × 8266 columns</p>\n",
       "</div>"
      ],
      "text/plain": [
       "                       shall  man  thy  ...  principal  diversities  occurs\n",
       "label                                   ...                                \n",
       "BookOfEccleasiasticus    508  232  330  ...          1            0       0\n",
       "BookOfEcclesiastes        89   71   43  ...          0            0       0\n",
       "BookOfProverb            389  176  165  ...          0            0       0\n",
       "BookOfWisdom             120   38   86  ...          0            1       0\n",
       "Buddhism                   0   11    0  ...          0            0       0\n",
       "TaoTeChing                17   16    1  ...          0            0       0\n",
       "Upanishad                 10   63   15  ...          0            0       0\n",
       "YogaSutra                 35  239    5  ...          0            0       1\n",
       "\n",
       "[8 rows x 8266 columns]"
      ]
     },
     "execution_count": 18,
     "metadata": {
      "tags": []
     },
     "output_type": "execute_result"
    }
   ],
   "source": [
    "grouped_data = data.groupby(['label']).sum()\n",
    "grouped_data[words_sorted.index.values]"
   ]
  },
  {
   "cell_type": "markdown",
   "metadata": {
    "colab_type": "text",
    "id": "eOM8MsAw9CRO"
   },
   "source": [
    "### Sprawdzenie czy istnieje kolumna z samymi zerami (słowo nie występujące nigdzie)\n"
   ]
  },
  {
   "cell_type": "code",
   "execution_count": 0,
   "metadata": {
    "colab": {
     "base_uri": "https://localhost:8080/",
     "height": 34
    },
    "colab_type": "code",
    "id": "eKMbSAq383zm",
    "outputId": "371f4ee2-2e61-446b-ebbc-d00e572d5dbf"
   },
   "outputs": [
    {
     "data": {
      "text/plain": [
       "False"
      ]
     },
     "execution_count": 19,
     "metadata": {
      "tags": []
     },
     "output_type": "execute_result"
    }
   ],
   "source": [
    "check = grouped_data==0\n",
    "check.all().any() "
   ]
  },
  {
   "cell_type": "markdown",
   "metadata": {
    "colab_type": "text",
    "id": "nkc9ibk8Q4qO"
   },
   "source": [
    "Tak więc twórcy danych zdecydowali się na wykorzystanie tylko tych słów, które występują w co najmniej jednej księdze. Wspominając o tym, sprawdźmy ile rzeczywiście słów występuje tylko w jednej księdze."
   ]
  },
  {
   "cell_type": "markdown",
   "metadata": {
    "colab_type": "text",
    "id": "gULd_ucfuAH9"
   },
   "source": [
    "## Najczęściej używane słowo dla każdej księgi\n"
   ]
  },
  {
   "cell_type": "markdown",
   "metadata": {
    "colab_type": "text",
    "id": "V1tHnTDPT-Ap"
   },
   "source": [
    "Skoro wiemy jakie słowa są najpopularniejsze ogólnie to przyjrzyjmy się jak to przekłada się na oddzielne księgi."
   ]
  },
  {
   "cell_type": "code",
   "execution_count": 0,
   "metadata": {
    "colab": {
     "base_uri": "https://localhost:8080/",
     "height": 332
    },
    "colab_type": "code",
    "id": "I4dU_ZbKtFI2",
    "outputId": "bcc9d71f-5c98-46a9-88cb-eb4f5ae9db13"
   },
   "outputs": [
    {
     "data": {
      "text/html": [
       "<div>\n",
       "<style scoped>\n",
       "    .dataframe tbody tr th:only-of-type {\n",
       "        vertical-align: middle;\n",
       "    }\n",
       "\n",
       "    .dataframe tbody tr th {\n",
       "        vertical-align: top;\n",
       "    }\n",
       "\n",
       "    .dataframe thead th {\n",
       "        text-align: right;\n",
       "    }\n",
       "</style>\n",
       "<table border=\"1\" class=\"dataframe\">\n",
       "  <thead>\n",
       "    <tr style=\"text-align: right;\">\n",
       "      <th></th>\n",
       "      <th>Najczęściej używany wyraz:</th>\n",
       "    </tr>\n",
       "    <tr>\n",
       "      <th>label</th>\n",
       "      <th></th>\n",
       "    </tr>\n",
       "  </thead>\n",
       "  <tbody>\n",
       "    <tr>\n",
       "      <th>BookOfEccleasiasticus</th>\n",
       "      <td>shall</td>\n",
       "    </tr>\n",
       "    <tr>\n",
       "      <th>BookOfEcclesiastes</th>\n",
       "      <td>shall</td>\n",
       "    </tr>\n",
       "    <tr>\n",
       "      <th>BookOfProverb</th>\n",
       "      <td>shall</td>\n",
       "    </tr>\n",
       "    <tr>\n",
       "      <th>BookOfWisdom</th>\n",
       "      <td>shall</td>\n",
       "    </tr>\n",
       "    <tr>\n",
       "      <th>Buddhism</th>\n",
       "      <td>right</td>\n",
       "    </tr>\n",
       "    <tr>\n",
       "      <th>TaoTeChing</th>\n",
       "      <td>tao</td>\n",
       "    </tr>\n",
       "    <tr>\n",
       "      <th>Upanishad</th>\n",
       "      <td>one</td>\n",
       "    </tr>\n",
       "    <tr>\n",
       "      <th>YogaSutra</th>\n",
       "      <td>spiritual</td>\n",
       "    </tr>\n",
       "  </tbody>\n",
       "</table>\n",
       "</div>"
      ],
      "text/plain": [
       "                      Najczęściej używany wyraz:\n",
       "label                                           \n",
       "BookOfEccleasiasticus                      shall\n",
       "BookOfEcclesiastes                         shall\n",
       "BookOfProverb                              shall\n",
       "BookOfWisdom                               shall\n",
       "Buddhism                                   right\n",
       "TaoTeChing                                   tao\n",
       "Upanishad                                    one\n",
       "YogaSutra                              spiritual"
      ]
     },
     "execution_count": 20,
     "metadata": {
      "tags": []
     },
     "output_type": "execute_result"
    }
   ],
   "source": [
    "pd.DataFrame(grouped_data.idxmax(axis=1), columns = ['Najczęściej używany wyraz:'])"
   ]
  },
  {
   "cell_type": "markdown",
   "metadata": {
    "colab_type": "text",
    "id": "QYGw0TkDUg-7"
   },
   "source": [
    "W czterech księgach powtórzyło się słowo $shall$, natomiast słowa z księgi Buddyjskiej i TaoTeChing nie znalazły się w 10 najpopularnijszych słowach dla ogółu, więc możlwie, że przejawiają się one w większośći właśnie tam (tao szczególnie)."
   ]
  },
  {
   "cell_type": "markdown",
   "metadata": {
    "colab_type": "text",
    "id": "vmM9TI_l6neG"
   },
   "source": [
    "## Ramka danych ze słowami, które występują tylko w jednej księdze\n"
   ]
  },
  {
   "cell_type": "markdown",
   "metadata": {
    "colab_type": "text",
    "id": "Psj-BHSHVgbu"
   },
   "source": [
    "Znamy już najpopularniejsze słowa to teraz przyjrzymy się unikatowym wyrazom, które skupiają się tylko w danej księdze. "
   ]
  },
  {
   "cell_type": "code",
   "execution_count": 0,
   "metadata": {
    "colab": {},
    "colab_type": "code",
    "id": "YvZ2oMz45qIX"
   },
   "outputs": [],
   "source": [
    "unique_words = grouped_data==grouped_data.sum()\n",
    "unique_words = grouped_data.columns[unique_words.any()]\n",
    "\n"
   ]
  },
  {
   "cell_type": "code",
   "execution_count": 0,
   "metadata": {
    "colab": {},
    "colab_type": "code",
    "id": "VzqmtKV22SxH"
   },
   "outputs": [],
   "source": [
    "unique_words_dataframe = pd.DataFrame()\n",
    "for word in unique_words:\n",
    "  idx = grouped_data[grouped_data[word]!=0].index[0]\n",
    "  unique_words_dataframe = unique_words_dataframe.append({'word':word, 'book':idx}, ignore_index=True)"
   ]
  },
  {
   "cell_type": "code",
   "execution_count": 0,
   "metadata": {
    "colab": {
     "base_uri": "https://localhost:8080/",
     "height": 384
    },
    "colab_type": "code",
    "id": "KU3abIW26BvV",
    "outputId": "8bd0324c-438a-4929-944e-8296bd877c68"
   },
   "outputs": [
    {
     "data": {
      "text/html": [
       "<div>\n",
       "<style scoped>\n",
       "    .dataframe tbody tr th:only-of-type {\n",
       "        vertical-align: middle;\n",
       "    }\n",
       "\n",
       "    .dataframe tbody tr th {\n",
       "        vertical-align: top;\n",
       "    }\n",
       "\n",
       "    .dataframe thead th {\n",
       "        text-align: right;\n",
       "    }\n",
       "</style>\n",
       "<table border=\"1\" class=\"dataframe\">\n",
       "  <thead>\n",
       "    <tr style=\"text-align: right;\">\n",
       "      <th></th>\n",
       "      <th>book</th>\n",
       "      <th>word</th>\n",
       "    </tr>\n",
       "  </thead>\n",
       "  <tbody>\n",
       "    <tr>\n",
       "      <th>0</th>\n",
       "      <td>BookOfProverb</td>\n",
       "      <td>foolishness</td>\n",
       "    </tr>\n",
       "    <tr>\n",
       "      <th>1</th>\n",
       "      <td>BookOfEccleasiasticus</td>\n",
       "      <td>takest</td>\n",
       "    </tr>\n",
       "    <tr>\n",
       "      <th>2</th>\n",
       "      <td>Buddhism</td>\n",
       "      <td>feelings</td>\n",
       "    </tr>\n",
       "    <tr>\n",
       "      <th>3</th>\n",
       "      <td>Upanishad</td>\n",
       "      <td>vaivaswata</td>\n",
       "    </tr>\n",
       "    <tr>\n",
       "      <th>4</th>\n",
       "      <td>YogaSutra</td>\n",
       "      <td>matrix</td>\n",
       "    </tr>\n",
       "    <tr>\n",
       "      <th>...</th>\n",
       "      <td>...</td>\n",
       "      <td>...</td>\n",
       "    </tr>\n",
       "    <tr>\n",
       "      <th>4883</th>\n",
       "      <td>BookOfWisdom</td>\n",
       "      <td>erred</td>\n",
       "    </tr>\n",
       "    <tr>\n",
       "      <th>4884</th>\n",
       "      <td>YogaSutra</td>\n",
       "      <td>modern</td>\n",
       "    </tr>\n",
       "    <tr>\n",
       "      <th>4885</th>\n",
       "      <td>BookOfEccleasiasticus</td>\n",
       "      <td>reigned</td>\n",
       "    </tr>\n",
       "    <tr>\n",
       "      <th>4886</th>\n",
       "      <td>BookOfEccleasiasticus</td>\n",
       "      <td>sparingly</td>\n",
       "    </tr>\n",
       "    <tr>\n",
       "      <th>4887</th>\n",
       "      <td>YogaSutra</td>\n",
       "      <td>visual</td>\n",
       "    </tr>\n",
       "  </tbody>\n",
       "</table>\n",
       "<p>4888 rows × 2 columns</p>\n",
       "</div>"
      ],
      "text/plain": [
       "                       book         word\n",
       "0             BookOfProverb  foolishness\n",
       "1     BookOfEccleasiasticus       takest\n",
       "2                  Buddhism     feelings\n",
       "3                 Upanishad   vaivaswata\n",
       "4                 YogaSutra       matrix\n",
       "...                     ...          ...\n",
       "4883           BookOfWisdom        erred\n",
       "4884              YogaSutra       modern\n",
       "4885  BookOfEccleasiasticus      reigned\n",
       "4886  BookOfEccleasiasticus    sparingly\n",
       "4887              YogaSutra       visual\n",
       "\n",
       "[4888 rows x 2 columns]"
      ]
     },
     "execution_count": 67,
     "metadata": {
      "tags": []
     },
     "output_type": "execute_result"
    }
   ],
   "source": [
    "unique_words_dataframe"
   ]
  },
  {
   "cell_type": "code",
   "execution_count": 0,
   "metadata": {
    "colab": {
     "base_uri": "https://localhost:8080/",
     "height": 81
    },
    "colab_type": "code",
    "id": "e0Tr2jknVqwQ",
    "outputId": "b05e75b5-f2df-4ef6-c98f-6812f31396f7"
   },
   "outputs": [
    {
     "data": {
      "text/html": [
       "<div>\n",
       "<style scoped>\n",
       "    .dataframe tbody tr th:only-of-type {\n",
       "        vertical-align: middle;\n",
       "    }\n",
       "\n",
       "    .dataframe tbody tr th {\n",
       "        vertical-align: top;\n",
       "    }\n",
       "\n",
       "    .dataframe thead th {\n",
       "        text-align: right;\n",
       "    }\n",
       "</style>\n",
       "<table border=\"1\" class=\"dataframe\">\n",
       "  <thead>\n",
       "    <tr style=\"text-align: right;\">\n",
       "      <th></th>\n",
       "      <th>book</th>\n",
       "      <th>word</th>\n",
       "    </tr>\n",
       "  </thead>\n",
       "  <tbody>\n",
       "    <tr>\n",
       "      <th>1786</th>\n",
       "      <td>TaoTeChing</td>\n",
       "      <td>tao</td>\n",
       "    </tr>\n",
       "  </tbody>\n",
       "</table>\n",
       "</div>"
      ],
      "text/plain": [
       "            book word\n",
       "1786  TaoTeChing  tao"
      ]
     },
     "execution_count": 68,
     "metadata": {
      "tags": []
     },
     "output_type": "execute_result"
    }
   ],
   "source": [
    "#z ciekawości sprawdziliśmy, czy tao występuje tylko w taoistycznej księdze\n",
    "unique_words_dataframe[unique_words_dataframe.word == 'tao']"
   ]
  },
  {
   "cell_type": "markdown",
   "metadata": {
    "colab_type": "text",
    "id": "1XVAfiZ07dEQ"
   },
   "source": [
    "4888 słowa są unikatowe, czyli ponad 50% słów wystepuje tylko w jednej z ośmiu ksiąg - może być przydatne przy klasteryzacji.<br>Sprawdźmy też, ile słów jest charakterystycznych dla danej księgi - to znaczy ponad 90% wystąpień zawiera się w jednym tekście oraz ile wystąpiło w każdej z ksiąg (zauważmy, że mogą wystąpić słowa w obydwu grupach).\n",
    "\n",
    "\n",
    "\n",
    "\n"
   ]
  },
  {
   "cell_type": "code",
   "execution_count": 0,
   "metadata": {
    "colab": {
     "base_uri": "https://localhost:8080/",
     "height": 48
    },
    "colab_type": "code",
    "id": "hLnQ7u_2XtIi",
    "outputId": "84aa5e0b-4be8-4418-af5b-a7a0ee69b494"
   },
   "outputs": [
    {
     "name": "stdout",
     "output_type": "stream",
     "text": [
      "Odsetek słów, których ponad 90% wystąpień jest w dokładnie jednej księdze: 59.63%\n",
      "Odsetek słów, które wystąpiły w każdej z ksiąg: 1.29%\n"
     ]
    }
   ],
   "source": [
    "print(f'Odsetek słów, których ponad 90% wystąpień jest w dokładnie jednej księdze: {round(100*np.mean(grouped_data.max(axis = 0)/grouped_data.sum() >0.9), 2)}%')\n",
    "print(f'Odsetek słów, które wystąpiły w każdej z ksiąg: {round(100*np.mean(np.mean((grouped_data>0)) == 1), 2)}%')"
   ]
  },
  {
   "cell_type": "markdown",
   "metadata": {
    "colab_type": "text",
    "id": "wji_HV81bAW6"
   },
   "source": [
    "Mamy prawie 60% słów, których 90% wystąpień skupiona jest w jednej księdze.\n",
    "\n",
    "Przyjrzyjmy się temu 1.29% słów we wszystkich księgach.\n",
    "\n",
    "## Wspólne słowa dla wszystkich ksiąg"
   ]
  },
  {
   "cell_type": "code",
   "execution_count": 0,
   "metadata": {
    "colab": {
     "base_uri": "https://localhost:8080/",
     "height": 267
    },
    "colab_type": "code",
    "id": "ljkhZktwaikL",
    "outputId": "b6aab996-6a73-4bec-be13-0e4f88442caa"
   },
   "outputs": [
    {
     "data": {
      "text/plain": [
       "array(['neither', 'let', 'great', 'reward', 'think', 'full', 'thing',\n",
       "       'good', 'day', 'whole', 'body', 'still', 'said', 'follow',\n",
       "       'brought', 'might', 'strong', 'become', 'fruit', 'long', 'death',\n",
       "       'mind', 'us', 'time', 'turn', 'done', 'cast', 'seeing', 'evil',\n",
       "       'never', 'therefore', 'come', 'away', 'go', 'things', 'age',\n",
       "       'always', 'truth', 'tree', 'whose', 'give', 'knowledge', 'seen',\n",
       "       'speech', 'end', 'called', 'sorrow', 'old', 'without', 'may',\n",
       "       'back', 'name', 'forth', 'light', 'others', 'earth', 'wind',\n",
       "       'filled', 'able', 'head', 'cause', 'also', 'say', 'strength',\n",
       "       'place', 'world', 'another', 'peace', 'know', 'heard', 'nothing',\n",
       "       'alone', 'far', 'together', 'person', 'speak', 'make', 'among',\n",
       "       'thought', 'yet', 'right', 'life', 'would', 'water', 'given',\n",
       "       'part', 'known', 'return', 'even', 'man', 'like', 'desire',\n",
       "       'subject', 'one', 'delight', 'words', 's', 'sweet', 'years',\n",
       "       'bring', 'lord', 'way', 'pure', 'made', 'see', 'set', 'well'],\n",
       "      dtype=object)"
      ]
     },
     "execution_count": 70,
     "metadata": {
      "tags": []
     },
     "output_type": "execute_result"
    }
   ],
   "source": [
    "common_words = np.array(grouped_data.columns[np.where(np.mean((grouped_data>0)) == 1)])\n",
    "common_words"
   ]
  },
  {
   "cell_type": "code",
   "execution_count": 0,
   "metadata": {
    "colab": {
     "base_uri": "https://localhost:8080/",
     "height": 33
    },
    "colab_type": "code",
    "id": "k360We_bSBa5",
    "outputId": "cdbb20ae-6260-4d65-9014-dbf63eea3cc1"
   },
   "outputs": [
    {
     "data": {
      "text/plain": [
       "107"
      ]
     },
     "execution_count": 71,
     "metadata": {
      "tags": []
     },
     "output_type": "execute_result"
    }
   ],
   "source": [
    "common_words.size"
   ]
  },
  {
   "cell_type": "markdown",
   "metadata": {
    "colab_type": "text",
    "id": "yxQu5VbJR01b"
   },
   "source": [
    "Mamy 107 wspólnych słów, jak było powiedziane wyżej - jest to 1.29% wszystkich słów. Przyjrzyjmy się, jakie części mowy pojawiają się najczęściej - sugestią byłyby orzeczenia/czasowniki, gdyż to słowa ogólne, które najbardziej powinny nie być bezpośrednio do jednej z ksiąg. Przekonajmy się.\n",
    "\n",
    "Uwaga: Można się przyjrzeć i zobaczyć, że kilka słów się powtarza, jednak w innej formie gramatycznej. W tym przypadku zastosujemy lematyzację, gdyż do sprawdzenia części mowy, nie stracimy cennych informacji."
   ]
  },
  {
   "cell_type": "code",
   "execution_count": 0,
   "metadata": {
    "colab": {},
    "colab_type": "code",
    "id": "27Ws6ubPZTqj"
   },
   "outputs": [],
   "source": [
    "def lemmatization(data):\n",
    "  '''\n",
    "  Podajemy numpy array list a zwracana jest numpy array list unikatowych słów po lematyzacji\n",
    "  '''\n",
    "  lem = WordNetLemmatizer()\n",
    "  A = []\n",
    "  for i in data.tolist():\n",
    "    a = lem.lemmatize(i)\n",
    "    a = lem.lemmatize(a, 'a')\n",
    "    a = lem.lemmatize(a, 'v')\n",
    "    A.append(a)\n",
    "  x = np.array(A)\n",
    "  A = np.unique(x)\n",
    "  return A"
   ]
  },
  {
   "cell_type": "code",
   "execution_count": 0,
   "metadata": {
    "colab": {
     "base_uri": "https://localhost:8080/",
     "height": 33
    },
    "colab_type": "code",
    "id": "Mop7W-jQZ1R7",
    "outputId": "77d7eec1-dd8e-43db-cfb4-3b81161e4cc3"
   },
   "outputs": [
    {
     "data": {
      "text/plain": [
       "98"
      ]
     },
     "execution_count": 73,
     "metadata": {
      "tags": []
     },
     "output_type": "execute_result"
    }
   ],
   "source": [
    "A = lemmatization(common_words)\n",
    "A.size"
   ]
  },
  {
   "cell_type": "markdown",
   "metadata": {
    "colab_type": "text",
    "id": "ldT9AEJGb807"
   },
   "source": [
    "Mamy mniej o 9 słów. (Lemmatyzacja to experyment, możliwe, że nadal niektóre słowa nie zmieniły formy)"
   ]
  },
  {
   "cell_type": "code",
   "execution_count": 0,
   "metadata": {
    "colab": {
     "base_uri": "https://localhost:8080/",
     "height": 1000
    },
    "colab_type": "code",
    "id": "0JlViMolS0v0",
    "outputId": "9df2be8b-37da-469e-aa4b-813da79337a9"
   },
   "outputs": [
    {
     "data": {
      "text/plain": [
       "[('able', 'JJ'),\n",
       " ('age', 'NN'),\n",
       " ('alone', 'RB'),\n",
       " ('also', 'RB'),\n",
       " ('always', 'RB'),\n",
       " ('among', 'IN'),\n",
       " ('another', 'DT'),\n",
       " ('away', 'RB'),\n",
       " ('back', 'RB'),\n",
       " ('become', 'JJ'),\n",
       " ('body', 'NN'),\n",
       " ('bring', 'VBG'),\n",
       " ('call', 'JJ'),\n",
       " ('cast', 'NN'),\n",
       " ('cause', 'NN'),\n",
       " ('come', 'VBN'),\n",
       " ('day', 'NN'),\n",
       " ('death', 'NN'),\n",
       " ('delight', 'NN'),\n",
       " ('desire', 'NN'),\n",
       " ('do', 'VBP'),\n",
       " ('earth', 'JJ'),\n",
       " ('end', 'VB'),\n",
       " ('even', 'RB'),\n",
       " ('evil', 'JJ'),\n",
       " ('far', 'RB'),\n",
       " ('fill', 'RB'),\n",
       " ('follow', 'JJ'),\n",
       " ('forth', 'NN'),\n",
       " ('fruit', 'NN'),\n",
       " ('full', 'JJ'),\n",
       " ('give', 'NN'),\n",
       " ('go', 'VB'),\n",
       " ('good', 'JJ'),\n",
       " ('great', 'JJ'),\n",
       " ('head', 'NN'),\n",
       " ('hear', 'VBP'),\n",
       " ('know', 'VBP'),\n",
       " ('knowledge', 'NN'),\n",
       " ('let', 'JJ'),\n",
       " ('life', 'NN'),\n",
       " ('light', 'NN'),\n",
       " ('like', 'IN'),\n",
       " ('long', 'JJ'),\n",
       " ('lord', 'NN'),\n",
       " ('make', 'VBP'),\n",
       " ('man', 'NN'),\n",
       " ('may', 'MD'),\n",
       " ('might', 'MD'),\n",
       " ('mind', 'VB'),\n",
       " ('name', 'NN'),\n",
       " ('neither', 'CC'),\n",
       " ('never', 'RB'),\n",
       " ('nothing', 'NN'),\n",
       " ('old', 'JJ'),\n",
       " ('one', 'CD'),\n",
       " ('others', 'NNS'),\n",
       " ('part', 'NN'),\n",
       " ('peace', 'NN'),\n",
       " ('person', 'NN'),\n",
       " ('place', 'NN'),\n",
       " ('pure', 'NN'),\n",
       " ('return', 'VBP'),\n",
       " ('reward', 'RB'),\n",
       " ('right', 'JJ'),\n",
       " ('s', 'NNS'),\n",
       " ('say', 'VBP'),\n",
       " ('see', 'VBP'),\n",
       " ('set', 'VBN'),\n",
       " ('sorrow', 'JJ'),\n",
       " ('speak', 'NN'),\n",
       " ('speech', 'NN'),\n",
       " ('still', 'RB'),\n",
       " ('strength', 'NN'),\n",
       " ('strong', 'JJ'),\n",
       " ('subject', 'JJ'),\n",
       " ('sweet', 'NN'),\n",
       " ('therefore', 'IN'),\n",
       " ('thing', 'NN'),\n",
       " ('think', 'VBP'),\n",
       " ('time', 'NN'),\n",
       " ('together', 'RB'),\n",
       " ('tree', 'JJ'),\n",
       " ('truth', 'NN'),\n",
       " ('turn', 'VBP'),\n",
       " ('u', 'JJ'),\n",
       " ('water', 'NN'),\n",
       " ('way', 'NN'),\n",
       " ('well', 'RB'),\n",
       " ('whole', 'JJ'),\n",
       " ('whose', 'WP$'),\n",
       " ('wind', 'NN'),\n",
       " ('without', 'IN'),\n",
       " ('word', 'NN'),\n",
       " ('world', 'NN'),\n",
       " ('would', 'MD'),\n",
       " ('year', 'NN'),\n",
       " ('yet', 'RB')]"
      ]
     },
     "execution_count": 74,
     "metadata": {
      "tags": []
     },
     "output_type": "execute_result"
    }
   ],
   "source": [
    "tag_words = nltk.pos_tag(A.tolist())\n",
    "tag_words"
   ]
  },
  {
   "cell_type": "markdown",
   "metadata": {
    "colab_type": "text",
    "id": "DkQa8JapfaSX"
   },
   "source": [
    "Policzmy teraz jakiej częsci mowy jest najwięcej."
   ]
  },
  {
   "cell_type": "code",
   "execution_count": 0,
   "metadata": {
    "colab": {},
    "colab_type": "code",
    "id": "rWyhulcPU6a-"
   },
   "outputs": [],
   "source": [
    "POS_list = []\n",
    "for i in tag_words:\n",
    "  POS_list.append(i[1])"
   ]
  },
  {
   "cell_type": "code",
   "execution_count": 0,
   "metadata": {
    "colab": {
     "base_uri": "https://localhost:8080/",
     "height": 236
    },
    "colab_type": "code",
    "id": "9bYrhMKulFpZ",
    "outputId": "3a1ba88b-352c-45d3-f757-174d2dbb65df"
   },
   "outputs": [
    {
     "data": {
      "text/plain": [
       "[('NN', 37),\n",
       " ('JJ', 19),\n",
       " ('RB', 14),\n",
       " ('VBP', 9),\n",
       " ('IN', 4),\n",
       " ('VB', 3),\n",
       " ('MD', 3),\n",
       " ('VBN', 2),\n",
       " ('NNS', 2),\n",
       " ('DT', 1),\n",
       " ('VBG', 1),\n",
       " ('CC', 1),\n",
       " ('CD', 1),\n",
       " ('WP$', 1)]"
      ]
     },
     "execution_count": 38,
     "metadata": {
      "tags": []
     },
     "output_type": "execute_result"
    }
   ],
   "source": [
    "Counter(POS_list).most_common()"
   ]
  },
  {
   "cell_type": "markdown",
   "metadata": {
    "colab_type": "text",
    "id": "cD58COVjl41B"
   },
   "source": [
    "Najwięcej jest rzeczowników - aż 37.76%, czyli założenie, że to będą czasowniki jest błędne. Dużo mamy też przymiotników (19), przysłówków (14). Jeśli chodzi o czasowniki to mamy ich 15, porozrzucanych na różne czasy. Wiąże się to z tym, iż become został uznany za przymiotnik, bring za czasownik kończący się na -ing, są też imiesłowy odczasownikowe.\n",
    "\n",
    "WAŻNE: Funkcja lematyzacji nie sprawdziła się idealnie, nie wolno jej wierzyć w 100%.\n",
    "\n",
    "[tutaj można znaleźć listę tagów: https://medium.com/@gianpaul.r/tokenization-and-parts-of-speech-pos-tagging-in-pythons-nltk-library-2d30f70af13b ]"
   ]
  },
  {
   "cell_type": "markdown",
   "metadata": {
    "colab_type": "text",
    "id": "1sa0sJwzbw76"
   },
   "source": [
    "## Unikatowe słowa znajdujące się w każdej z badanych ksiąg\n"
   ]
  },
  {
   "cell_type": "markdown",
   "metadata": {
    "colab_type": "text",
    "id": "CGB5E11pWsXL"
   },
   "source": [
    "Wiemy, że unikatowych słów jest ponad 50%. Zobaczmy to jeszcze w liczbach."
   ]
  },
  {
   "cell_type": "markdown",
   "metadata": {
    "colab_type": "text",
    "id": "i3gzYKt9-idX"
   },
   "source": [
    "### Liczba unikalnych słów"
   ]
  },
  {
   "cell_type": "markdown",
   "metadata": {
    "colab_type": "text",
    "id": "drB3JmNUXMF9"
   },
   "source": [
    "Poniżej mamy liczbę różnych słów (unikalnych) w każdej z badanych ksiąg."
   ]
  },
  {
   "cell_type": "code",
   "execution_count": 0,
   "metadata": {
    "colab": {
     "base_uri": "https://localhost:8080/",
     "height": 300
    },
    "colab_type": "code",
    "id": "IOJzkExlZ2xi",
    "outputId": "043ac7a1-16c8-48e7-b51e-0bc5fc90eb87"
   },
   "outputs": [
    {
     "data": {
      "text/html": [
       "<div>\n",
       "<style scoped>\n",
       "    .dataframe tbody tr th:only-of-type {\n",
       "        vertical-align: middle;\n",
       "    }\n",
       "\n",
       "    .dataframe tbody tr th {\n",
       "        vertical-align: top;\n",
       "    }\n",
       "\n",
       "    .dataframe thead th {\n",
       "        text-align: right;\n",
       "    }\n",
       "</style>\n",
       "<table border=\"1\" class=\"dataframe\">\n",
       "  <thead>\n",
       "    <tr style=\"text-align: right;\">\n",
       "      <th></th>\n",
       "      <th>Liczba różnych słów w badanym tekście:</th>\n",
       "    </tr>\n",
       "    <tr>\n",
       "      <th>label</th>\n",
       "      <th></th>\n",
       "    </tr>\n",
       "  </thead>\n",
       "  <tbody>\n",
       "    <tr>\n",
       "      <th>BookOfEccleasiasticus</th>\n",
       "      <td>2995</td>\n",
       "    </tr>\n",
       "    <tr>\n",
       "      <th>BookOfEcclesiastes</th>\n",
       "      <td>970</td>\n",
       "    </tr>\n",
       "    <tr>\n",
       "      <th>BookOfProverb</th>\n",
       "      <td>1956</td>\n",
       "    </tr>\n",
       "    <tr>\n",
       "      <th>BookOfWisdom</th>\n",
       "      <td>1801</td>\n",
       "    </tr>\n",
       "    <tr>\n",
       "      <th>Buddhism</th>\n",
       "      <td>1348</td>\n",
       "    </tr>\n",
       "    <tr>\n",
       "      <th>TaoTeChing</th>\n",
       "      <td>1809</td>\n",
       "    </tr>\n",
       "    <tr>\n",
       "      <th>Upanishad</th>\n",
       "      <td>1849</td>\n",
       "    </tr>\n",
       "    <tr>\n",
       "      <th>YogaSutra</th>\n",
       "      <td>3282</td>\n",
       "    </tr>\n",
       "  </tbody>\n",
       "</table>\n",
       "</div>"
      ],
      "text/plain": [
       "                       Liczba różnych słów w badanym tekście:\n",
       "label                                                        \n",
       "BookOfEccleasiasticus                                    2995\n",
       "BookOfEcclesiastes                                        970\n",
       "BookOfProverb                                            1956\n",
       "BookOfWisdom                                             1801\n",
       "Buddhism                                                 1348\n",
       "TaoTeChing                                               1809\n",
       "Upanishad                                                1849\n",
       "YogaSutra                                                3282"
      ]
     },
     "execution_count": 93,
     "metadata": {
      "tags": []
     },
     "output_type": "execute_result"
    }
   ],
   "source": [
    "data_len_unique_words = pd.DataFrame(np.sum(grouped_data>0, axis = 1), columns = ['Liczba różnych słów w badanym tekście:'])\n",
    "data_len_unique_words"
   ]
  },
  {
   "cell_type": "code",
   "execution_count": 0,
   "metadata": {
    "colab": {
     "base_uri": "https://localhost:8080/",
     "height": 272
    },
    "colab_type": "code",
    "id": "9LISVaKkXSDP",
    "outputId": "34d0f453-cb8d-449e-eae7-9dde01b59e61"
   },
   "outputs": [
    {
     "data": {
      "text/html": [
       "<div>\n",
       "<style scoped>\n",
       "    .dataframe tbody tr th:only-of-type {\n",
       "        vertical-align: middle;\n",
       "    }\n",
       "\n",
       "    .dataframe tbody tr th {\n",
       "        vertical-align: top;\n",
       "    }\n",
       "\n",
       "    .dataframe thead th {\n",
       "        text-align: right;\n",
       "    }\n",
       "</style>\n",
       "<table border=\"1\" class=\"dataframe\">\n",
       "  <thead>\n",
       "    <tr style=\"text-align: right;\">\n",
       "      <th></th>\n",
       "      <th>book</th>\n",
       "      <th>liczba unikatowych słów</th>\n",
       "    </tr>\n",
       "  </thead>\n",
       "  <tbody>\n",
       "    <tr>\n",
       "      <th>1</th>\n",
       "      <td>BookOfEccleasiasticus</td>\n",
       "      <td>920</td>\n",
       "    </tr>\n",
       "    <tr>\n",
       "      <th>7</th>\n",
       "      <td>BookOfEcclesiastes</td>\n",
       "      <td>124</td>\n",
       "    </tr>\n",
       "    <tr>\n",
       "      <th>0</th>\n",
       "      <td>BookOfProverb</td>\n",
       "      <td>449</td>\n",
       "    </tr>\n",
       "    <tr>\n",
       "      <th>5</th>\n",
       "      <td>BookOfWisdom</td>\n",
       "      <td>399</td>\n",
       "    </tr>\n",
       "    <tr>\n",
       "      <th>2</th>\n",
       "      <td>Buddhism</td>\n",
       "      <td>526</td>\n",
       "    </tr>\n",
       "    <tr>\n",
       "      <th>6</th>\n",
       "      <td>TaoTeChing</td>\n",
       "      <td>568</td>\n",
       "    </tr>\n",
       "    <tr>\n",
       "      <th>3</th>\n",
       "      <td>Upanishad</td>\n",
       "      <td>511</td>\n",
       "    </tr>\n",
       "    <tr>\n",
       "      <th>4</th>\n",
       "      <td>YogaSutra</td>\n",
       "      <td>1391</td>\n",
       "    </tr>\n",
       "  </tbody>\n",
       "</table>\n",
       "</div>"
      ],
      "text/plain": [
       "                    book  liczba unikatowych słów\n",
       "1  BookOfEccleasiasticus                      920\n",
       "7     BookOfEcclesiastes                      124\n",
       "0          BookOfProverb                      449\n",
       "5           BookOfWisdom                      399\n",
       "2               Buddhism                      526\n",
       "6             TaoTeChing                      568\n",
       "3              Upanishad                      511\n",
       "4              YogaSutra                     1391"
      ]
     },
     "execution_count": 96,
     "metadata": {
      "tags": []
     },
     "output_type": "execute_result"
    }
   ],
   "source": [
    "exceptional_words = pd.DataFrame.from_dict(Counter(unique_words_dataframe.book), orient='index').reset_index().rename(columns={'index':'book', 0:'liczba unikatowych słów'}).sort_values('book')\n",
    "exceptional_words"
   ]
  },
  {
   "cell_type": "markdown",
   "metadata": {
    "colab_type": "text",
    "id": "Gp1JDc0TXl0b"
   },
   "source": [
    "W powyższym kodzie mamy liczbę  unikatowych (czyli takich występujących tylko w danej księdze), bez ich liczby wystąpień. Widzimy, że najwięcej takich słów jest w YogaSutra, czyli hinduizmie."
   ]
  },
  {
   "cell_type": "markdown",
   "metadata": {
    "colab_type": "text",
    "id": "IWU20VaNb5IR"
   },
   "source": [
    "### Liczba wszystkich słów ogólnie w każdej z ksiąg\n"
   ]
  },
  {
   "cell_type": "code",
   "execution_count": 0,
   "metadata": {
    "colab": {
     "base_uri": "https://localhost:8080/",
     "height": 300
    },
    "colab_type": "code",
    "id": "7zeVcfsBbsKt",
    "outputId": "ffe5bf83-9685-437c-b709-552721f65eb9"
   },
   "outputs": [
    {
     "data": {
      "text/html": [
       "<div>\n",
       "<style scoped>\n",
       "    .dataframe tbody tr th:only-of-type {\n",
       "        vertical-align: middle;\n",
       "    }\n",
       "\n",
       "    .dataframe tbody tr th {\n",
       "        vertical-align: top;\n",
       "    }\n",
       "\n",
       "    .dataframe thead th {\n",
       "        text-align: right;\n",
       "    }\n",
       "</style>\n",
       "<table border=\"1\" class=\"dataframe\">\n",
       "  <thead>\n",
       "    <tr style=\"text-align: right;\">\n",
       "      <th></th>\n",
       "      <th>Liczba słów w badanym tekście:</th>\n",
       "    </tr>\n",
       "    <tr>\n",
       "      <th>label</th>\n",
       "      <th></th>\n",
       "    </tr>\n",
       "  </thead>\n",
       "  <tbody>\n",
       "    <tr>\n",
       "      <th>BookOfEccleasiasticus</th>\n",
       "      <td>14839</td>\n",
       "    </tr>\n",
       "    <tr>\n",
       "      <th>BookOfEcclesiastes</th>\n",
       "      <td>2773</td>\n",
       "    </tr>\n",
       "    <tr>\n",
       "      <th>BookOfProverb</th>\n",
       "      <td>7716</td>\n",
       "    </tr>\n",
       "    <tr>\n",
       "      <th>BookOfWisdom</th>\n",
       "      <td>5027</td>\n",
       "    </tr>\n",
       "    <tr>\n",
       "      <th>Buddhism</th>\n",
       "      <td>6624</td>\n",
       "    </tr>\n",
       "    <tr>\n",
       "      <th>TaoTeChing</th>\n",
       "      <td>4608</td>\n",
       "    </tr>\n",
       "    <tr>\n",
       "      <th>Upanishad</th>\n",
       "      <td>6579</td>\n",
       "    </tr>\n",
       "    <tr>\n",
       "      <th>YogaSutra</th>\n",
       "      <td>12443</td>\n",
       "    </tr>\n",
       "  </tbody>\n",
       "</table>\n",
       "</div>"
      ],
      "text/plain": [
       "                       Liczba słów w badanym tekście:\n",
       "label                                                \n",
       "BookOfEccleasiasticus                           14839\n",
       "BookOfEcclesiastes                               2773\n",
       "BookOfProverb                                    7716\n",
       "BookOfWisdom                                     5027\n",
       "Buddhism                                         6624\n",
       "TaoTeChing                                       4608\n",
       "Upanishad                                        6579\n",
       "YogaSutra                                       12443"
      ]
     },
     "execution_count": 97,
     "metadata": {
      "tags": []
     },
     "output_type": "execute_result"
    }
   ],
   "source": [
    "data_len_words = pd.DataFrame(np.sum(grouped_data, axis = 1), columns = ['Liczba słów w badanym tekście:'])\n",
    "data_len_words"
   ]
  },
  {
   "cell_type": "markdown",
   "metadata": {
    "colab_type": "text",
    "id": "caBzisnRKxcl"
   },
   "source": [
    "### Procent unikatowych słów\n",
    "\n",
    "Celem sprawdzenia jaką częścią słów w księdze są wyrazy występujące wyłącznie w niej."
   ]
  },
  {
   "cell_type": "code",
   "execution_count": 0,
   "metadata": {
    "colab": {},
    "colab_type": "code",
    "id": "86PEeQZT88QW"
   },
   "outputs": [],
   "source": [
    "exceptional_sum = grouped_data[unique_words].sum(axis = 1)"
   ]
  },
  {
   "cell_type": "code",
   "execution_count": 0,
   "metadata": {
    "colab": {},
    "colab_type": "code",
    "id": "ckiD7dyHK-Ya"
   },
   "outputs": [],
   "source": [
    "A = []\n",
    "for i in range(0,8):\n",
    "  x = exceptional_sum.values[i]\n",
    "  w = data_len_words.values[i][0]\n",
    "  A.append(f'{round(x/w*100, 2)}%')"
   ]
  },
  {
   "cell_type": "code",
   "execution_count": 0,
   "metadata": {
    "colab": {
     "base_uri": "https://localhost:8080/",
     "height": 272
    },
    "colab_type": "code",
    "id": "OktgvQnBMhac",
    "outputId": "12c7e0fb-2664-433b-bfab-d1a7207a4d95"
   },
   "outputs": [
    {
     "data": {
      "text/html": [
       "<div>\n",
       "<style scoped>\n",
       "    .dataframe tbody tr th:only-of-type {\n",
       "        vertical-align: middle;\n",
       "    }\n",
       "\n",
       "    .dataframe tbody tr th {\n",
       "        vertical-align: top;\n",
       "    }\n",
       "\n",
       "    .dataframe thead th {\n",
       "        text-align: right;\n",
       "    }\n",
       "</style>\n",
       "<table border=\"1\" class=\"dataframe\">\n",
       "  <thead>\n",
       "    <tr style=\"text-align: right;\">\n",
       "      <th></th>\n",
       "      <th>label</th>\n",
       "      <th>Procent unikatowych słów w księdze</th>\n",
       "    </tr>\n",
       "  </thead>\n",
       "  <tbody>\n",
       "    <tr>\n",
       "      <th>0</th>\n",
       "      <td>Madrosc Syracha</td>\n",
       "      <td>9.06%</td>\n",
       "    </tr>\n",
       "    <tr>\n",
       "      <th>1</th>\n",
       "      <td>Ksiega Koheleta</td>\n",
       "      <td>5.52%</td>\n",
       "    </tr>\n",
       "    <tr>\n",
       "      <th>2</th>\n",
       "      <td>Ksiega Przyslow</td>\n",
       "      <td>7.83%</td>\n",
       "    </tr>\n",
       "    <tr>\n",
       "      <th>3</th>\n",
       "      <td>Ksiega Madrosci</td>\n",
       "      <td>9.45%</td>\n",
       "    </tr>\n",
       "    <tr>\n",
       "      <th>4</th>\n",
       "      <td>Buddyzm</td>\n",
       "      <td>25.23%</td>\n",
       "    </tr>\n",
       "    <tr>\n",
       "      <th>5</th>\n",
       "      <td>Tao Te Ching</td>\n",
       "      <td>18.34%</td>\n",
       "    </tr>\n",
       "    <tr>\n",
       "      <th>6</th>\n",
       "      <td>Upaniszady</td>\n",
       "      <td>15.7%</td>\n",
       "    </tr>\n",
       "    <tr>\n",
       "      <th>7</th>\n",
       "      <td>JogaSutry</td>\n",
       "      <td>19.84%</td>\n",
       "    </tr>\n",
       "  </tbody>\n",
       "</table>\n",
       "</div>"
      ],
      "text/plain": [
       "             label Procent unikatowych słów w księdze\n",
       "0  Madrosc Syracha                              9.06%\n",
       "1  Ksiega Koheleta                              5.52%\n",
       "2  Ksiega Przyslow                              7.83%\n",
       "3  Ksiega Madrosci                              9.45%\n",
       "4          Buddyzm                             25.23%\n",
       "5     Tao Te Ching                             18.34%\n",
       "6       Upaniszady                              15.7%\n",
       "7        JogaSutry                             19.84%"
      ]
     },
     "execution_count": 102,
     "metadata": {
      "tags": []
     },
     "output_type": "execute_result"
    }
   ],
   "source": [
    "translations = ['Madrosc Syracha', 'Ksiega Koheleta', 'Ksiega Przyslow', 'Ksiega Madrosci', 'Buddyzm', 'Tao Te Ching', 'Upaniszady', 'JogaSutry']\n",
    "pd.DataFrame({'label': translations, 'Procent unikatowych słów w księdze': A})"
   ]
  },
  {
   "cell_type": "markdown",
   "metadata": {
    "colab_type": "text",
    "id": "AgiDXGvHYfKA"
   },
   "source": [
    "Względem swojej wielkości to buddyjska księga ma najwięcej wystąpień unikatowych słów."
   ]
  },
  {
   "cell_type": "markdown",
   "metadata": {
    "colab_type": "text",
    "id": "u9FVmex-gS9O"
   },
   "source": [
    "## Średnia liczba wystąpień wyrazu\n",
    "\n",
    "Zbadamy też średnią liczbę wystąpień wyrazu - niska wartość może oznaczać np. bogate słownictwo bądź szeroki zakres tematyczny księgi:"
   ]
  },
  {
   "cell_type": "code",
   "execution_count": 0,
   "metadata": {
    "colab": {
     "base_uri": "https://localhost:8080/",
     "height": 359
    },
    "colab_type": "code",
    "id": "vHcS-20QcDX8",
    "outputId": "b9e6c817-b476-4264-b3ef-6fffddf12a3a"
   },
   "outputs": [
    {
     "data": {
      "image/png": "[encoded data removed]",
      "text/plain": [
       "<Figure size 432x288 with 1 Axes>"
      ]
     },
     "metadata": {
      "needs_background": "light",
      "tags": []
     },
     "output_type": "display_data"
    }
   ],
   "source": [
    "def plot_bar(data1, data2, title):\n",
    "  plt.bar(data1, data2)\n",
    "  plt.xticks(rotation = 90)\n",
    "  plt.title(title)\n",
    "  plt.show()\n",
    "\n",
    "plot_bar(translations, np.sum(grouped_data, axis = 1)/np.sum(grouped_data>0, axis = 1), 'Średnia wystąpień danego wyrazu w tekście')"
   ]
  },
  {
   "cell_type": "markdown",
   "metadata": {
    "colab_type": "text",
    "id": "Gj27QYz2-54U"
   },
   "source": [
    "Największą średnią liczbę wystąpień wyrazów możemy zauważyć w Mądrościach Syracha oraz w Buddyźmie.\n",
    "\n",
    "Natomiast księgi o wartościach wystąpień poniżej trzech są najkrótszymi księgami z podanych."
   ]
  },
  {
   "cell_type": "markdown",
   "metadata": {
    "colab_type": "text",
    "id": "zMu3R6N-Ep3b"
   },
   "source": [
    "## Średnia długość słów w księdze"
   ]
  },
  {
   "cell_type": "code",
   "execution_count": 0,
   "metadata": {
    "colab": {},
    "colab_type": "code",
    "id": "56xWZOYLEoWP"
   },
   "outputs": [],
   "source": [
    "WordsLen = []\n",
    "for col in grouped_data.columns:\n",
    "  WordsLen.append(len(col))"
   ]
  },
  {
   "cell_type": "code",
   "execution_count": 0,
   "metadata": {
    "colab": {},
    "colab_type": "code",
    "id": "J_F3-5RgFtZg"
   },
   "outputs": [],
   "source": [
    "A = []\n",
    "j = 0\n",
    "for word in grouped_data.values:\n",
    "  i = 0\n",
    "  length = 0\n",
    "  for x in word:\n",
    "    length = length + x*WordsLen[i] # liczba wystąpień słowa razy długość słowa\n",
    "    i = i+1\n",
    "  A.append(length / data_len_words.values[j][0])\n",
    "  j = j+1"
   ]
  },
  {
   "cell_type": "code",
   "execution_count": 0,
   "metadata": {
    "colab": {
     "base_uri": "https://localhost:8080/",
     "height": 359
    },
    "colab_type": "code",
    "id": "7Rsc3f8lIyXn",
    "outputId": "ef92a327-a192-413c-96bb-d5efa997ab1e"
   },
   "outputs": [
    {
     "data": {
      "image/png": "[encoded data removed]",
      "text/plain": [
       "<Figure size 432x288 with 1 Axes>"
      ]
     },
     "metadata": {
      "needs_background": "light",
      "tags": []
     },
     "output_type": "display_data"
    }
   ],
   "source": [
    "plt.bar(translations, A)\n",
    "plt.xticks(rotation = 90)\n",
    "plt.title('Średnia długość słowa w danym tekście')\n",
    "plt.show()"
   ]
  },
  {
   "cell_type": "markdown",
   "metadata": {
    "colab_type": "text",
    "id": "CbHQd4HSApJZ"
   },
   "source": [
    "Średnia długość słów w księdze jest do siebie zbliżona dla wszystkich słów. Ciekawiej pewnie byłoby zająć się średnią długością zdań."
   ]
  },
  {
   "cell_type": "markdown",
   "metadata": {
    "colab_type": "text",
    "id": "8ls7gWdKl4M8"
   },
   "source": [
    "## Podobieństwa ksiąg\n",
    "\n",
    "#### Opis metodologii:\n",
    "Dla każdej z ksiąg możemy bez problemu zdobyć wektor liczności wystąpień poszczególnych słów. Dla każdej pary ksiąg można zatem obliczyć odległość euklidesową biorąc za współrzędne te właśnie liczności i porównać obliczone wartości dla różnych par.<br>Update: powyższa metoda jest wrażliwa na liczbę słów występujących w poszczególnych księgach, co nie powinno mieć miejsca. Celem zapobiegnięcia takiej czułości, znormalizujemy liczbę poszczególnych słów w księdze. Takie działanie ma sens, gdy porównujemy księgi o podobnym rzędzie liczby wyrazów. Dla poszczególnych tekstów, gdzie słów jest kilkadziesiąt, osiągane wyniki byłyby wyższe.\n"
   ]
  },
  {
   "cell_type": "code",
   "execution_count": 0,
   "metadata": {
    "colab": {
     "base_uri": "https://localhost:8080/",
     "height": 357
    },
    "colab_type": "code",
    "id": "yhfPIZWjcHEU",
    "outputId": "2728ce84-07ea-4c06-eb36-79caea11b262"
   },
   "outputs": [
    {
     "data": {
      "image/png": "[encoded data removed]",
      "text/plain": [
       "<Figure size 432x288 with 2 Axes>"
      ]
     },
     "metadata": {
      "needs_background": "light",
      "tags": []
     },
     "output_type": "display_data"
    }
   ],
   "source": [
    "def distance_plot(labels, df, ret_max = False, vmax = None):\n",
    "    data = df/(df.sum(axis = 1)[:, None])\n",
    "    A = [[0]*len(labels) for _ in range(len(labels))]\n",
    "    maxdist = 0\n",
    "    for i in range(len(labels)):\n",
    "        for j in range(i+1, len(labels)):\n",
    "            x = data.iloc[i,:]\n",
    "            y = data.iloc[j,:]\n",
    "            dist = math.sqrt(np.sum((x-y)**2))\n",
    "            A[i][j] = dist\n",
    "            A[j][i] = dist\n",
    "            if dist > maxdist: maxdist = dist\n",
    "    if ret_max: return maxdist\n",
    "    sns.heatmap(A, annot = True, fmt = '.3f', vmax = vmax, xticklabels = labels, yticklabels=labels).set_title('\"Ogległości\" między księgami - im mniej, tym bardziej podobne')\n",
    "    plt.show()\n",
    "distance_plot(translations, grouped_data)"
   ]
  },
  {
   "cell_type": "markdown",
   "metadata": {
    "colab_type": "text",
    "id": "t93XmjRo4zRn"
   },
   "source": [
    "Jeśli metodologia jest właściwa to najbardziej podobnymi księgami okazują się Księga Przysłów i Mądrość Syracha oraz Księga Mądrości i Mądrość Syracha. Podobne są też do siebie księgi biblijne po prostu.\n",
    "\n",
    "Oczywiście korzystamy tylko z części słów występujących w księgach."
   ]
  },
  {
   "cell_type": "markdown",
   "metadata": {
    "colab_type": "text",
    "id": "lflhcNcAKK3F"
   },
   "source": [
    "## Lematyzacja\n",
    "\n",
    "Na razie nie będziemy jej stosować, być może wrócimy z tym przy inżynierii cech.\n",
    "\n",
    "Przypominając, wykorzystalismy lematyzację przy słowach występujących dla wszystkich ksiąg. Nie mamy pewności czy zamienione zostały wszystkie słowa.\n",
    "\n",
    "Tutaj sprawdzimy, o ile słów zmniejszy się ramka danych po lematyzacji."
   ]
  },
  {
   "cell_type": "code",
   "execution_count": 0,
   "metadata": {
    "colab": {},
    "colab_type": "code",
    "id": "hnPmXPoDOgTD"
   },
   "outputs": [],
   "source": [
    "words_list = np.array(grouped_data.columns)\n",
    "words_after_lem = lemmatization(words_list)"
   ]
  },
  {
   "cell_type": "code",
   "execution_count": 0,
   "metadata": {
    "colab": {
     "base_uri": "https://localhost:8080/",
     "height": 52
    },
    "colab_type": "code",
    "id": "LiwXWuiiMnUw",
    "outputId": "28494e7e-70db-4604-a7a3-a62f68f8a421"
   },
   "outputs": [
    {
     "name": "stdout",
     "output_type": "stream",
     "text": [
      "Liczba słów po zabiegu lematyzacji:  6032\n",
      "Liczba słów w niezmienionej ramce danych:  8266\n"
     ]
    }
   ],
   "source": [
    "print(\"Liczba słów po zabiegu lematyzacji: \", len(words_after_lem.tolist()))\n",
    "print(\"Liczba słów w niezmienionej ramce danych: \", len(grouped_data.columns))"
   ]
  },
  {
   "cell_type": "markdown",
   "metadata": {
    "colab_type": "text",
    "id": "SPLXg0nXNqEl"
   },
   "source": [
    "Jak widzimy, po sprowadzeniu słów do podstawowej formy straciliśmy ponad 2 tys. słów z danych. W inżynierii cech może być ciekawe połączenie tych kolumn o tych samych słowach a innych formach w jedną i na tym przeprowadzenie klasteryzacji w celu porównania."
   ]
  },
  {
   "cell_type": "markdown",
   "metadata": {
    "colab_type": "text",
    "id": "miebjDx6N95K"
   },
   "source": [
    "## Analiza sentymentu\n",
    "\n",
    "Sprawdzimy czy księgi ogólnie są bardziej pozytywne, negatywne czy może neutralne. \n",
    "\n",
    "Dobrym podejściem jest wytrenowanie modelu oceniającego sentyment a potem przetestowanie go do danych, w naszym przypadku nie możemy tak zrobić, więc zastosujemy drugie, dużo prostrze podejście - mianowicie policzymy sentyment dla każdego słowa, potem zliczymy liczby wystąpień tych słów, liczba których wartości będzie większa określi nasz sentyment.\n",
    "\n",
    "Jest to słabe podejście, ale przynajmniej warto je przetestować."
   ]
  },
  {
   "cell_type": "code",
   "execution_count": 0,
   "metadata": {
    "colab": {},
    "colab_type": "code",
    "id": "PcNey8wqlcLg"
   },
   "outputs": [],
   "source": [
    "columns_names = data.columns.tolist()\n",
    "columns_names.pop(0) # pozbywamy się kolumny z nazwami ksiąg\n",
    "columns_sentiment = []\n",
    "for i in columns_names:\n",
    "  text = i\n",
    "  blob = TextBlob(text)\n",
    "  sentiment = blob.sentiment.polarity\n",
    "  if sentiment == 0.0:\n",
    "    sentiment = \"neutral\"\n",
    "  elif sentiment > 0:\n",
    "    sentiment = \"positive\"\n",
    "  else:\n",
    "    sentiment = \"negative\"\n",
    "  columns_sentiment.append(sentiment)"
   ]
  },
  {
   "cell_type": "code",
   "execution_count": 0,
   "metadata": {
    "colab": {},
    "colab_type": "code",
    "id": "nq2E1DXNoCX6"
   },
   "outputs": [],
   "source": [
    "def sentiment(data):\n",
    "  books_sentiment = []\n",
    "  for row in data.values:\n",
    "    i = 0\n",
    "    pos, neu, neg = 0,0,0\n",
    "    # zliczamy liczby sentymentów\n",
    "    for x in row:\n",
    "      if columns_sentiment[i] == \"positive\":\n",
    "        pos = pos + x\n",
    "      elif columns_sentiment[i] == \"negative\":\n",
    "        neg = neg + x\n",
    "      else:\n",
    "        neu = neu + x\n",
    "      i = i + 1\n",
    "    # wynik dla wiersza\n",
    "    if pos >= neg:\n",
    "      if pos < neu or pos == neg:\n",
    "        books_sentiment.append(\"neutral\")\n",
    "      else:\n",
    "        books_sentiment.append(\"positive\")\n",
    "    else:\n",
    "      if neg < neu:\n",
    "        books_sentiment.append(\"neutral\")\n",
    "      else:\n",
    "        books_sentiment.append(\"negative\")\n",
    "  return books_sentiment"
   ]
  },
  {
   "cell_type": "code",
   "execution_count": 0,
   "metadata": {
    "colab": {
     "base_uri": "https://localhost:8080/",
     "height": 156
    },
    "colab_type": "code",
    "id": "5Rm2y05asK6W",
    "outputId": "dab1804e-3eb8-4abd-ae28-8d693e9933f4"
   },
   "outputs": [
    {
     "data": {
      "text/plain": [
       "['neutral',\n",
       " 'neutral',\n",
       " 'neutral',\n",
       " 'neutral',\n",
       " 'neutral',\n",
       " 'neutral',\n",
       " 'neutral',\n",
       " 'neutral']"
      ]
     },
     "execution_count": 40,
     "metadata": {
      "tags": []
     },
     "output_type": "execute_result"
    }
   ],
   "source": [
    "sentiment(grouped_data)"
   ]
  },
  {
   "cell_type": "markdown",
   "metadata": {
    "colab_type": "text",
    "id": "o_hgjBgXsOO8"
   },
   "source": [
    "Jak się okazuje najwięcej jest słów neutralnych w każdej z ksiąg. Oczywiście, jest to naiwna metoda i trzeba o tym pamiętać, biorąc pod uwagę te wyniki.\n"
   ]
  },
  {
   "cell_type": "markdown",
   "metadata": {
    "colab_type": "text",
    "id": "gx88mxV0UpV_"
   },
   "source": [
    "## Wróćmy do niepogrupowanych rozdziałów"
   ]
  },
  {
   "cell_type": "markdown",
   "metadata": {
    "colab_type": "text",
    "id": "F-WZO-j3UtOO"
   },
   "source": [
    "### Ile rozdziałów ma dana księga?"
   ]
  },
  {
   "cell_type": "code",
   "execution_count": 0,
   "metadata": {
    "colab": {},
    "colab_type": "code",
    "id": "IL2miPGuUxQe"
   },
   "outputs": [],
   "source": [
    "all_rows_books = data.label.to_list()\n",
    "CH_sum = Counter(all_rows_books)"
   ]
  },
  {
   "cell_type": "code",
   "execution_count": 0,
   "metadata": {
    "colab": {},
    "colab_type": "code",
    "id": "jeYfCLwRzDqW"
   },
   "outputs": [],
   "source": [
    "data_CH_sum = pd.DataFrame.from_dict(CH_sum, orient='index').reset_index()\n",
    "data_CH_sum.rename(columns={'index': 'Księga', 0:'Rozdziały'}, inplace=True)"
   ]
  },
  {
   "cell_type": "code",
   "execution_count": 0,
   "metadata": {
    "colab": {
     "base_uri": "https://localhost:8080/",
     "height": 383
    },
    "colab_type": "code",
    "id": "HTUjeNT71pIj",
    "outputId": "3a7f8f0f-3b89-4a42-9231-6947060291db"
   },
   "outputs": [
    {
     "data": {
      "image/png": "[encoded data removed]",
      "text/plain": [
       "<Figure size 432x288 with 1 Axes>"
      ]
     },
     "metadata": {
      "needs_background": "light",
      "tags": []
     },
     "output_type": "display_data"
    }
   ],
   "source": [
    "plot_bar(data_CH_sum['Księga'], data_CH_sum['Rozdziały'], 'Liczba rozdziałów w księdze')"
   ]
  },
  {
   "cell_type": "markdown",
   "metadata": {
    "colab_type": "text",
    "id": "UVMY6CdmciQX"
   },
   "source": [
    "YogaSutra jest drugą największą księgą i ma najwięcej rozdziałów. Natomiast najdłuższa jest BookOfEccleasiasticus, a ma \"tylko\" 50 rozdziałów, więc prawdopodobnie to jej rozdziały są najdłuższe."
   ]
  },
  {
   "cell_type": "markdown",
   "metadata": {
    "colab_type": "text",
    "id": "KMWvIJoVdIH-"
   },
   "source": [
    "### W jakich księgach są najdłuższe rozdziały?"
   ]
  },
  {
   "cell_type": "code",
   "execution_count": 0,
   "metadata": {
    "colab": {
     "base_uri": "https://localhost:8080/",
     "height": 355
    },
    "colab_type": "code",
    "id": "P_Js5c35dOCP",
    "outputId": "54fc317e-c558-4813-e605-504b8b329d7b"
   },
   "outputs": [
    {
     "data": {
      "text/html": [
       "<div>\n",
       "<style scoped>\n",
       "    .dataframe tbody tr th:only-of-type {\n",
       "        vertical-align: middle;\n",
       "    }\n",
       "\n",
       "    .dataframe tbody tr th {\n",
       "        vertical-align: top;\n",
       "    }\n",
       "\n",
       "    .dataframe thead th {\n",
       "        text-align: right;\n",
       "    }\n",
       "</style>\n",
       "<table border=\"1\" class=\"dataframe\">\n",
       "  <thead>\n",
       "    <tr style=\"text-align: right;\">\n",
       "      <th></th>\n",
       "      <th>Unnamed: 0</th>\n",
       "      <th>Liczba słów w rozdziałach ksiąg:</th>\n",
       "    </tr>\n",
       "  </thead>\n",
       "  <tbody>\n",
       "    <tr>\n",
       "      <th>36</th>\n",
       "      <td>Buddhism_Ch37</td>\n",
       "      <td>1194</td>\n",
       "    </tr>\n",
       "    <tr>\n",
       "      <th>567</th>\n",
       "      <td>BookOfEccleasiasticus_Ch47</td>\n",
       "      <td>557</td>\n",
       "    </tr>\n",
       "    <tr>\n",
       "      <th>41</th>\n",
       "      <td>Buddhism_Ch42</td>\n",
       "      <td>522</td>\n",
       "    </tr>\n",
       "    <tr>\n",
       "      <th>543</th>\n",
       "      <td>BookOfEccleasiasticus_Ch23</td>\n",
       "      <td>414</td>\n",
       "    </tr>\n",
       "    <tr>\n",
       "      <th>544</th>\n",
       "      <td>BookOfEccleasiasticus_Ch24</td>\n",
       "      <td>400</td>\n",
       "    </tr>\n",
       "    <tr>\n",
       "      <th>558</th>\n",
       "      <td>BookOfEccleasiasticus_Ch38</td>\n",
       "      <td>390</td>\n",
       "    </tr>\n",
       "    <tr>\n",
       "      <th>527</th>\n",
       "      <td>BookOfEccleasiasticus_Ch7</td>\n",
       "      <td>387</td>\n",
       "    </tr>\n",
       "    <tr>\n",
       "      <th>586</th>\n",
       "      <td>BookOfWisdom_Ch16</td>\n",
       "      <td>378</td>\n",
       "    </tr>\n",
       "    <tr>\n",
       "      <th>526</th>\n",
       "      <td>BookOfEccleasiasticus_Ch6</td>\n",
       "      <td>376</td>\n",
       "    </tr>\n",
       "    <tr>\n",
       "      <th>582</th>\n",
       "      <td>BookOfWisdom_Ch12</td>\n",
       "      <td>373</td>\n",
       "    </tr>\n",
       "  </tbody>\n",
       "</table>\n",
       "</div>"
      ],
      "text/plain": [
       "                     Unnamed: 0  Liczba słów w rozdziałach ksiąg:\n",
       "36                Buddhism_Ch37                              1194\n",
       "567  BookOfEccleasiasticus_Ch47                               557\n",
       "41                Buddhism_Ch42                               522\n",
       "543  BookOfEccleasiasticus_Ch23                               414\n",
       "544  BookOfEccleasiasticus_Ch24                               400\n",
       "558  BookOfEccleasiasticus_Ch38                               390\n",
       "527   BookOfEccleasiasticus_Ch7                               387\n",
       "586           BookOfWisdom_Ch16                               378\n",
       "526   BookOfEccleasiasticus_Ch6                               376\n",
       "582           BookOfWisdom_Ch12                               373"
      ]
     },
     "execution_count": 44,
     "metadata": {
      "tags": []
     },
     "output_type": "execute_result"
    }
   ],
   "source": [
    "CH_sum = pd.DataFrame(np.sum(data, axis = 1), columns = ['Liczba słów w rozdziałach ksiąg:'])\n",
    "sorted_CH_sum = pd.concat([data['Unnamed: 0'], CH_sum], axis=1).sort_values(by=['Liczba słów w rozdziałach ksiąg:'], ascending=False)\n",
    "sorted_CH_sum.head(10)"
   ]
  },
  {
   "cell_type": "markdown",
   "metadata": {
    "colab_type": "text",
    "id": "zCe5PCivezG7"
   },
   "source": [
    "Najdłuższy jest rozdział należy do księgi Buddyzmu, jednak jak zakładalismy to właśnie BookOfEccleasiasticus, czyli Mądrość Syracha ma najdłusze rozdziały (6 z 10 wyświetlonych)."
   ]
  },
  {
   "cell_type": "markdown",
   "metadata": {
    "colab_type": "text",
    "id": "Kx8FaTmSfiiN"
   },
   "source": [
    "Przyjrzyjmy się jakie są najkrótsze rozdziały."
   ]
  },
  {
   "cell_type": "code",
   "execution_count": 0,
   "metadata": {
    "colab": {
     "base_uri": "https://localhost:8080/",
     "height": 355
    },
    "colab_type": "code",
    "id": "SyTwofrvfVgd",
    "outputId": "91f850ff-da26-4855-83ee-91b482661cd3"
   },
   "outputs": [
    {
     "data": {
      "text/html": [
       "<div>\n",
       "<style scoped>\n",
       "    .dataframe tbody tr th:only-of-type {\n",
       "        vertical-align: middle;\n",
       "    }\n",
       "\n",
       "    .dataframe tbody tr th {\n",
       "        vertical-align: top;\n",
       "    }\n",
       "\n",
       "    .dataframe thead th {\n",
       "        text-align: right;\n",
       "    }\n",
       "</style>\n",
       "<table border=\"1\" class=\"dataframe\">\n",
       "  <thead>\n",
       "    <tr style=\"text-align: right;\">\n",
       "      <th></th>\n",
       "      <th>Unnamed: 0</th>\n",
       "      <th>Liczba słów w rozdziałach ksiąg:</th>\n",
       "    </tr>\n",
       "  </thead>\n",
       "  <tbody>\n",
       "    <tr>\n",
       "      <th>13</th>\n",
       "      <td>Buddhism_Ch14</td>\n",
       "      <td>0</td>\n",
       "    </tr>\n",
       "    <tr>\n",
       "      <th>269</th>\n",
       "      <td>Upanishad_Ch143</td>\n",
       "      <td>6</td>\n",
       "    </tr>\n",
       "    <tr>\n",
       "      <th>251</th>\n",
       "      <td>Upanishad_Ch125</td>\n",
       "      <td>7</td>\n",
       "    </tr>\n",
       "    <tr>\n",
       "      <th>229</th>\n",
       "      <td>Upanishad_Ch103</td>\n",
       "      <td>7</td>\n",
       "    </tr>\n",
       "    <tr>\n",
       "      <th>19</th>\n",
       "      <td>Buddhism_Ch20</td>\n",
       "      <td>8</td>\n",
       "    </tr>\n",
       "    <tr>\n",
       "      <th>274</th>\n",
       "      <td>Upanishad_Ch148</td>\n",
       "      <td>8</td>\n",
       "    </tr>\n",
       "    <tr>\n",
       "      <th>254</th>\n",
       "      <td>Upanishad_Ch128</td>\n",
       "      <td>8</td>\n",
       "    </tr>\n",
       "    <tr>\n",
       "      <th>270</th>\n",
       "      <td>Upanishad_Ch144</td>\n",
       "      <td>9</td>\n",
       "    </tr>\n",
       "    <tr>\n",
       "      <th>132</th>\n",
       "      <td>Upanishad_Ch6</td>\n",
       "      <td>9</td>\n",
       "    </tr>\n",
       "    <tr>\n",
       "      <th>253</th>\n",
       "      <td>Upanishad_Ch127</td>\n",
       "      <td>9</td>\n",
       "    </tr>\n",
       "  </tbody>\n",
       "</table>\n",
       "</div>"
      ],
      "text/plain": [
       "          Unnamed: 0  Liczba słów w rozdziałach ksiąg:\n",
       "13     Buddhism_Ch14                                 0\n",
       "269  Upanishad_Ch143                                 6\n",
       "251  Upanishad_Ch125                                 7\n",
       "229  Upanishad_Ch103                                 7\n",
       "19     Buddhism_Ch20                                 8\n",
       "274  Upanishad_Ch148                                 8\n",
       "254  Upanishad_Ch128                                 8\n",
       "270  Upanishad_Ch144                                 9\n",
       "132    Upanishad_Ch6                                 9\n",
       "253  Upanishad_Ch127                                 9"
      ]
     },
     "execution_count": 45,
     "metadata": {
      "tags": []
     },
     "output_type": "execute_result"
    }
   ],
   "source": [
    "sorted_CH_sum.sort_values(by=['Liczba słów w rozdziałach ksiąg:']).head(10)"
   ]
  },
  {
   "cell_type": "markdown",
   "metadata": {
    "colab_type": "text",
    "id": "bsAFyNTNfrGg"
   },
   "source": [
    "Najkrótsze są rozdziały Upaniszady. \n",
    "\n",
    "Ciekawostka - spośród wybranych słów przez twórców ramki, rozdział 14 Buddyzmu nie zawiera żadnego."
   ]
  },
  {
   "cell_type": "markdown",
   "metadata": {
    "colab_type": "text",
    "id": "veJsRB6otVOz"
   },
   "source": [
    "### Analiza sentymentu dla rozdziałów ksiąg"
   ]
  },
  {
   "cell_type": "code",
   "execution_count": 0,
   "metadata": {
    "colab": {},
    "colab_type": "code",
    "id": "P4jIfbb5iMLK"
   },
   "outputs": [],
   "source": [
    "CH_data = data.drop(['Unnamed: 0', 'label'], axis = 1)\n",
    "CH_sent = sentiment(CH_data)"
   ]
  },
  {
   "cell_type": "code",
   "execution_count": 0,
   "metadata": {
    "colab": {
     "base_uri": "https://localhost:8080/",
     "height": 35
    },
    "colab_type": "code",
    "id": "-SZlB6A2toUD",
    "outputId": "dd631a41-e0e5-4f99-e440-0c2b375e9203"
   },
   "outputs": [
    {
     "data": {
      "text/plain": [
       "Counter({'neutral': 590})"
      ]
     },
     "execution_count": 47,
     "metadata": {
      "tags": []
     },
     "output_type": "execute_result"
    }
   ],
   "source": [
    "Counter(CH_sent)"
   ]
  },
  {
   "cell_type": "markdown",
   "metadata": {
    "colab_type": "text",
    "id": "UFC4h6B5t1A1"
   },
   "source": [
    "W tym przypadku też, żaden rozdział nie okazał się inny niż o neutralnym sentymencie."
   ]
  },
  {
   "cell_type": "markdown",
   "metadata": {
    "colab_type": "text",
    "id": "_doB6bPfqkDx"
   },
   "source": [
    "## Podsumowanie\n",
    "\n",
    "Kilka przykładowych wniosków, które mogą przydać się później:\n",
    "- po lematyzacji liczba słów zmniejsza się o ok. 2tys.\n",
    "- analiza sentymentu wykazała, że większość słów jest neutralna\n",
    "- najwięcej rozdziałów ma księga o hinduiźmie\n",
    "- najdłuższe rozdziały są w Mądrościach Syracha\n",
    "- ponad 50% słów jest unikatowane dla danej księgi, tylko 1.29% występuje w każdej z nich\n",
    "- jeden rozdział Buddyzmu jest pusty\n",
    "\n",
    "\n"
   ]
  }
 ],
 "metadata": {
  "colab": {
   "collapsed_sections": [],
   "name": "Project2_Milestone1.ipynb",
   "provenance": [],
   "toc_visible": true
  },
  "kernelspec": {
   "display_name": "Python 3",
   "language": "python",
   "name": "python3"
  }
 },
 "nbformat": 4,
 "nbformat_minor": 1
}
