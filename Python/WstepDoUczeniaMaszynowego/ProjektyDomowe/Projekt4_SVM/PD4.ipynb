{
 "cells": [
  {
   "cell_type": "code",
   "execution_count": 2,
   "metadata": {},
   "outputs": [],
   "source": [
    "import numpy as np\n",
    "import pandas as pd\n",
    "import matplotlib.pyplot as plt\n",
    "import cvxopt\n",
    "from sklearn.svm import *\n",
    "from sklearn.metrics import confusion_matrix, mean_squared_error\n",
    "import seaborn as sns\n",
    "from sklearn.pipeline import Pipeline\n",
    "from category_encoders.target_encoder import *\n",
    "from sklearn.model_selection import RandomizedSearchCV, train_test_split\n",
    "from scipy.stats import poisson, expon, uniform, randint\n",
    "from sklearn.compose import ColumnTransformer\n",
    "import random\n",
    "import math"
   ]
  },
  {
   "cell_type": "markdown",
   "metadata": {},
   "source": [
    "### Słowem wstępu:\n",
    "Pracę domową rozpocząłem w piątek, 24 kwietnia, zatem dane samodzielnie przetransferowałem z pakietu R-owego oraz postanowiłem się zająć zadaniem regresji zmiennej 'm2.price'. Ponadto, punkt 1. treści zadania domowego jest częścią punktu 3., zatem od razu zająłem się poszukiwaniem optymalnych hiperparametrów.\n",
    "#### Ponieważ oryginalnie w ramce danych 'apartments' znajduje się 1000 obserwacji, a w 'apartments_test' 9000 obserwacji, dla zwiększenia skuteczności algorytmu dokonamy zamiany zbiorów"
   ]
  },
  {
   "cell_type": "code",
   "execution_count": 3,
   "metadata": {},
   "outputs": [
    {
     "data": {
      "text/html": [
       "<div>\n",
       "<style scoped>\n",
       "    .dataframe tbody tr th:only-of-type {\n",
       "        vertical-align: middle;\n",
       "    }\n",
       "\n",
       "    .dataframe tbody tr th {\n",
       "        vertical-align: top;\n",
       "    }\n",
       "\n",
       "    .dataframe thead th {\n",
       "        text-align: right;\n",
       "    }\n",
       "</style>\n",
       "<table border=\"1\" class=\"dataframe\">\n",
       "  <thead>\n",
       "    <tr style=\"text-align: right;\">\n",
       "      <th></th>\n",
       "      <th>m2.price</th>\n",
       "      <th>construction.year</th>\n",
       "      <th>surface</th>\n",
       "      <th>floor</th>\n",
       "      <th>no.rooms</th>\n",
       "      <th>district</th>\n",
       "    </tr>\n",
       "  </thead>\n",
       "  <tbody>\n",
       "    <tr>\n",
       "      <th>0</th>\n",
       "      <td>4644</td>\n",
       "      <td>1976</td>\n",
       "      <td>131</td>\n",
       "      <td>3</td>\n",
       "      <td>5</td>\n",
       "      <td>Srodmiescie</td>\n",
       "    </tr>\n",
       "    <tr>\n",
       "      <th>1</th>\n",
       "      <td>3082</td>\n",
       "      <td>1978</td>\n",
       "      <td>112</td>\n",
       "      <td>9</td>\n",
       "      <td>4</td>\n",
       "      <td>Mokotow</td>\n",
       "    </tr>\n",
       "    <tr>\n",
       "      <th>2</th>\n",
       "      <td>2498</td>\n",
       "      <td>1958</td>\n",
       "      <td>100</td>\n",
       "      <td>7</td>\n",
       "      <td>4</td>\n",
       "      <td>Bielany</td>\n",
       "    </tr>\n",
       "    <tr>\n",
       "      <th>3</th>\n",
       "      <td>2735</td>\n",
       "      <td>1951</td>\n",
       "      <td>112</td>\n",
       "      <td>3</td>\n",
       "      <td>5</td>\n",
       "      <td>Wola</td>\n",
       "    </tr>\n",
       "    <tr>\n",
       "      <th>4</th>\n",
       "      <td>2781</td>\n",
       "      <td>1978</td>\n",
       "      <td>102</td>\n",
       "      <td>4</td>\n",
       "      <td>4</td>\n",
       "      <td>Bemowo</td>\n",
       "    </tr>\n",
       "  </tbody>\n",
       "</table>\n",
       "</div>"
      ],
      "text/plain": [
       "   m2.price  construction.year  surface  floor  no.rooms     district\n",
       "0      4644               1976      131      3         5  Srodmiescie\n",
       "1      3082               1978      112      9         4      Mokotow\n",
       "2      2498               1958      100      7         4      Bielany\n",
       "3      2735               1951      112      3         5         Wola\n",
       "4      2781               1978      102      4         4       Bemowo"
      ]
     },
     "execution_count": 3,
     "metadata": {},
     "output_type": "execute_result"
    }
   ],
   "source": [
    "apart_test = pd.read_csv('apartments.csv').drop('Unnamed: 0', axis = 1)\n",
    "apart = pd.read_csv('apartments_test.csv').drop('Unnamed: 0', axis = 1)\n",
    "apart.head()"
   ]
  },
  {
   "cell_type": "code",
   "execution_count": 4,
   "metadata": {},
   "outputs": [
    {
     "name": "stdout",
     "output_type": "stream",
     "text": [
      "<class 'pandas.core.frame.DataFrame'>\n",
      "RangeIndex: 9000 entries, 0 to 8999\n",
      "Data columns (total 6 columns):\n",
      " #   Column             Non-Null Count  Dtype \n",
      "---  ------             --------------  ----- \n",
      " 0   m2.price           9000 non-null   int64 \n",
      " 1   construction.year  9000 non-null   int64 \n",
      " 2   surface            9000 non-null   int64 \n",
      " 3   floor              9000 non-null   int64 \n",
      " 4   no.rooms           9000 non-null   int64 \n",
      " 5   district           9000 non-null   object\n",
      "dtypes: int64(5), object(1)\n",
      "memory usage: 422.0+ KB\n"
     ]
    }
   ],
   "source": [
    "apart.info()"
   ]
  },
  {
   "cell_type": "code",
   "execution_count": 5,
   "metadata": {},
   "outputs": [
    {
     "name": "stdout",
     "output_type": "stream",
     "text": [
      "<class 'pandas.core.frame.DataFrame'>\n",
      "RangeIndex: 1000 entries, 0 to 999\n",
      "Data columns (total 6 columns):\n",
      " #   Column             Non-Null Count  Dtype \n",
      "---  ------             --------------  ----- \n",
      " 0   m2.price           1000 non-null   int64 \n",
      " 1   construction.year  1000 non-null   int64 \n",
      " 2   surface            1000 non-null   int64 \n",
      " 3   floor              1000 non-null   int64 \n",
      " 4   no.rooms           1000 non-null   int64 \n",
      " 5   district           1000 non-null   object\n",
      "dtypes: int64(5), object(1)\n",
      "memory usage: 47.0+ KB\n"
     ]
    }
   ],
   "source": [
    "apart_test.info()"
   ]
  },
  {
   "cell_type": "code",
   "execution_count": 6,
   "metadata": {},
   "outputs": [
    {
     "name": "stdout",
     "output_type": "stream",
     "text": [
      "Zbiór treningowy:\n",
      "Praga          0.107889\n",
      "Srodmiescie    0.102667\n",
      "Ursus          0.102222\n",
      "Ochota         0.101000\n",
      "Bemowo         0.099556\n",
      "Bielany        0.099333\n",
      "Wola           0.099111\n",
      "Mokotow        0.096444\n",
      "Ursynow        0.096000\n",
      "Zoliborz       0.095778\n",
      "Name: district, dtype: float64\n",
      "Zbiór testowy:\n",
      "Mokotow        0.107\n",
      "Wola           0.106\n",
      "Ursus          0.105\n",
      "Ursynow        0.103\n",
      "Srodmiescie    0.100\n",
      "Bemowo         0.098\n",
      "Zoliborz       0.097\n",
      "Ochota         0.096\n",
      "Bielany        0.096\n",
      "Praga          0.092\n",
      "Name: district, dtype: float64\n"
     ]
    }
   ],
   "source": [
    "print(\"Zbiór treningowy:\\n\" + str(apart.district.value_counts(True)))\n",
    "print(\"Zbiór testowy:\\n\" + str(apart_test.district.value_counts(True)))"
   ]
  },
  {
   "cell_type": "markdown",
   "metadata": {},
   "source": [
    "#### Zbiór danych składa się z mieszkań w dziesięciu dzielnicach Warszawy, podobna liczba obserwacji pochodzi z każdej z dzielnic. Co istotne, wszystkie dzielnice w zbiorze danych testowych znajdują się w danych do treningu"
   ]
  },
  {
   "cell_type": "code",
   "execution_count": 7,
   "metadata": {},
   "outputs": [
    {
     "data": {
      "image/png": "[encoded data removed]",
      "text/plain": [
       "<Figure size 432x288 with 1 Axes>"
      ]
     },
     "metadata": {
      "needs_background": "light"
     },
     "output_type": "display_data"
    },
    {
     "data": {
      "image/png": "[encoded data removed]",
      "text/plain": [
       "<Figure size 432x288 with 1 Axes>"
      ]
     },
     "metadata": {
      "needs_background": "light"
     },
     "output_type": "display_data"
    },
    {
     "data": {
      "image/png": "[encoded data removed]",
      "text/plain": [
       "<Figure size 432x288 with 1 Axes>"
      ]
     },
     "metadata": {
      "needs_background": "light"
     },
     "output_type": "display_data"
    },
    {
     "data": {
      "image/png": "[encoded data removed]",
      "text/plain": [
       "<Figure size 432x288 with 1 Axes>"
      ]
     },
     "metadata": {
      "needs_background": "light"
     },
     "output_type": "display_data"
    },
    {
     "data": {
      "image/png": "[encoded data removed]",
      "text/plain": [
       "<Figure size 432x288 with 1 Axes>"
      ]
     },
     "metadata": {
      "needs_background": "light"
     },
     "output_type": "display_data"
    }
   ],
   "source": [
    "for col in apart.select_dtypes('int64').columns:\n",
    "    apart[[col]].plot.box(vert = False)"
   ]
  },
  {
   "cell_type": "markdown",
   "metadata": {},
   "source": [
    "#### Najczęściej mieszkania są w cenie 3000-4000 za metr kwadratowy. Cena za metr jest jedyną zmienną, w której występują wartości odstające. Mieszkania zazwyczaj są powierzchni 50-115 metrów kwadratowych, 2-4 pokojowe, na piętrach od parteru do 10."
   ]
  },
  {
   "cell_type": "code",
   "execution_count": 8,
   "metadata": {},
   "outputs": [
    {
     "data": {
      "text/plain": [
       "<matplotlib.axes._subplots.AxesSubplot at 0x7fbd495769e8>"
      ]
     },
     "execution_count": 8,
     "metadata": {},
     "output_type": "execute_result"
    },
    {
     "data": {
      "image/png": "[encoded data removed]",
      "text/plain": [
       "<Figure size 432x288 with 2 Axes>"
      ]
     },
     "metadata": {
      "needs_background": "light"
     },
     "output_type": "display_data"
    }
   ],
   "source": [
    "sns.heatmap(apart.corr(), annot=True)"
   ]
  },
  {
   "cell_type": "markdown",
   "metadata": {},
   "source": [
    "#### Z macierzy korelacji nie ma wiele zaskakujących wniosków: najwyższa wartość współczynnika korelacji, dość oczekiwanie, wystąpiła między powierzchnią mieszkania a liczbą pomieszczeń. Co ciekawe, na im wyższym piętrze znajduje się mieszkanie, tym zwykle jest tańsze."
   ]
  },
  {
   "cell_type": "code",
   "execution_count": 9,
   "metadata": {},
   "outputs": [
    {
     "data": {
      "text/html": [
       "<div>\n",
       "<style scoped>\n",
       "    .dataframe tbody tr th:only-of-type {\n",
       "        vertical-align: middle;\n",
       "    }\n",
       "\n",
       "    .dataframe tbody tr th {\n",
       "        vertical-align: top;\n",
       "    }\n",
       "\n",
       "    .dataframe thead th {\n",
       "        text-align: right;\n",
       "    }\n",
       "</style>\n",
       "<table border=\"1\" class=\"dataframe\">\n",
       "  <thead>\n",
       "    <tr style=\"text-align: right;\">\n",
       "      <th></th>\n",
       "      <th>m2.price</th>\n",
       "    </tr>\n",
       "    <tr>\n",
       "      <th>district</th>\n",
       "      <th></th>\n",
       "    </tr>\n",
       "  </thead>\n",
       "  <tbody>\n",
       "    <tr>\n",
       "      <th>Bemowo</th>\n",
       "      <td>3030.0</td>\n",
       "    </tr>\n",
       "    <tr>\n",
       "      <th>Bielany</th>\n",
       "      <td>3057.5</td>\n",
       "    </tr>\n",
       "    <tr>\n",
       "      <th>Mokotow</th>\n",
       "      <td>3924.5</td>\n",
       "    </tr>\n",
       "    <tr>\n",
       "      <th>Ochota</th>\n",
       "      <td>3941.0</td>\n",
       "    </tr>\n",
       "    <tr>\n",
       "      <th>Praga</th>\n",
       "      <td>3054.0</td>\n",
       "    </tr>\n",
       "    <tr>\n",
       "      <th>Srodmiescie</th>\n",
       "      <td>5120.0</td>\n",
       "    </tr>\n",
       "    <tr>\n",
       "      <th>Ursus</th>\n",
       "      <td>3002.5</td>\n",
       "    </tr>\n",
       "    <tr>\n",
       "      <th>Ursynow</th>\n",
       "      <td>3003.0</td>\n",
       "    </tr>\n",
       "    <tr>\n",
       "      <th>Wola</th>\n",
       "      <td>3040.5</td>\n",
       "    </tr>\n",
       "    <tr>\n",
       "      <th>Zoliborz</th>\n",
       "      <td>3966.0</td>\n",
       "    </tr>\n",
       "  </tbody>\n",
       "</table>\n",
       "</div>"
      ],
      "text/plain": [
       "             m2.price\n",
       "district             \n",
       "Bemowo         3030.0\n",
       "Bielany        3057.5\n",
       "Mokotow        3924.5\n",
       "Ochota         3941.0\n",
       "Praga          3054.0\n",
       "Srodmiescie    5120.0\n",
       "Ursus          3002.5\n",
       "Ursynow        3003.0\n",
       "Wola           3040.5\n",
       "Zoliborz       3966.0"
      ]
     },
     "execution_count": 9,
     "metadata": {},
     "output_type": "execute_result"
    }
   ],
   "source": [
    "apart[['district', 'm2.price']].groupby('district').median()"
   ]
  },
  {
   "cell_type": "markdown",
   "metadata": {},
   "source": [
    "#### Im bliżej centrum, tym wyższa jest cena za metr kwadratowy mieszkania - najwyższa mediana cen w Śródmieściu, najniższa na Ursusie.\n",
    "#### Oddzielmy dane od Targetu"
   ]
  },
  {
   "cell_type": "code",
   "execution_count": 10,
   "metadata": {},
   "outputs": [],
   "source": [
    "train_target = apart['m2.price']\n",
    "test_target = apart_test['m2.price']\n",
    "apart = apart.drop('m2.price', axis = 1)\n",
    "apart_test = apart_test.drop('m2.price', axis = 1)"
   ]
  },
  {
   "cell_type": "markdown",
   "metadata": {},
   "source": [
    "#### W celu poprawnego stosowania kodowania zmiennej kateogrycznej w procesie poszukiwania optymalnych hiperparametrów, zastosujemy obiekt ColumnTransofrmer"
   ]
  },
  {
   "cell_type": "code",
   "execution_count": 12,
   "metadata": {},
   "outputs": [
    {
     "name": "stdout",
     "output_type": "stream",
     "text": [
      "Fitting 4 folds for each of 10 candidates, totalling 40 fits\n",
      "[Parallel(n_jobs=1)]: Using backend SequentialBackend with 1 concurrent workers.\n",
      "[CV] svr__C=0.13063342713081472, svr__degree=1, svr__epsilon=0.1249441435733914, svr__gamma=scale, svr__kernel=linear \n",
      "[CV]  svr__C=0.13063342713081472, svr__degree=1, svr__epsilon=0.1249441435733914, svr__gamma=scale, svr__kernel=linear, score=-332.711, total=  39.7s\n",
      "[Parallel(n_jobs=1)]: Done   1 out of   1 | elapsed:   39.7s remaining:    0.0s\n",
      "[CV] svr__C=0.13063342713081472, svr__degree=1, svr__epsilon=0.1249441435733914, svr__gamma=scale, svr__kernel=linear \n",
      "[CV]  svr__C=0.13063342713081472, svr__degree=1, svr__epsilon=0.1249441435733914, svr__gamma=scale, svr__kernel=linear, score=-330.751, total=  33.5s\n",
      "[Parallel(n_jobs=1)]: Done   2 out of   2 | elapsed:  1.2min remaining:    0.0s\n",
      "[CV] svr__C=0.13063342713081472, svr__degree=1, svr__epsilon=0.1249441435733914, svr__gamma=scale, svr__kernel=linear \n",
      "[CV]  svr__C=0.13063342713081472, svr__degree=1, svr__epsilon=0.1249441435733914, svr__gamma=scale, svr__kernel=linear, score=-321.378, total=  30.7s\n",
      "[Parallel(n_jobs=1)]: Done   3 out of   3 | elapsed:  1.7min remaining:    0.0s\n",
      "[CV] svr__C=0.13063342713081472, svr__degree=1, svr__epsilon=0.1249441435733914, svr__gamma=scale, svr__kernel=linear \n",
      "[CV]  svr__C=0.13063342713081472, svr__degree=1, svr__epsilon=0.1249441435733914, svr__gamma=scale, svr__kernel=linear, score=-334.787, total=  49.4s\n",
      "[Parallel(n_jobs=1)]: Done   4 out of   4 | elapsed:  2.6min remaining:    0.0s\n",
      "[CV] svr__C=1.5026522303845276, svr__degree=1, svr__epsilon=0.3024735909065922, svr__gamma=auto, svr__kernel=poly \n",
      "[CV]  svr__C=1.5026522303845276, svr__degree=1, svr__epsilon=0.3024735909065922, svr__gamma=auto, svr__kernel=poly, score=-328.851, total= 1.4min\n",
      "[Parallel(n_jobs=1)]: Done   5 out of   5 | elapsed:  4.0min remaining:    0.0s\n",
      "[CV] svr__C=1.5026522303845276, svr__degree=1, svr__epsilon=0.3024735909065922, svr__gamma=auto, svr__kernel=poly \n",
      "[CV]  svr__C=1.5026522303845276, svr__degree=1, svr__epsilon=0.3024735909065922, svr__gamma=auto, svr__kernel=poly, score=-327.386, total= 1.4min\n",
      "[Parallel(n_jobs=1)]: Done   6 out of   6 | elapsed:  5.3min remaining:    0.0s\n",
      "[CV] svr__C=1.5026522303845276, svr__degree=1, svr__epsilon=0.3024735909065922, svr__gamma=auto, svr__kernel=poly \n",
      "[CV]  svr__C=1.5026522303845276, svr__degree=1, svr__epsilon=0.3024735909065922, svr__gamma=auto, svr__kernel=poly, score=-332.281, total=  47.1s\n",
      "[Parallel(n_jobs=1)]: Done   7 out of   7 | elapsed:  6.1min remaining:    0.0s\n",
      "[CV] svr__C=1.5026522303845276, svr__degree=1, svr__epsilon=0.3024735909065922, svr__gamma=auto, svr__kernel=poly \n",
      "[CV]  svr__C=1.5026522303845276, svr__degree=1, svr__epsilon=0.3024735909065922, svr__gamma=auto, svr__kernel=poly, score=-342.133, total= 1.9min\n",
      "[Parallel(n_jobs=1)]: Done   8 out of   8 | elapsed:  8.0min remaining:    0.0s\n",
      "[CV] svr__C=1.1196209771872427, svr__degree=1, svr__epsilon=0.2251345287706828, svr__gamma=0.006914520507181887, svr__kernel=poly \n",
      "[CV]  svr__C=1.1196209771872427, svr__degree=1, svr__epsilon=0.2251345287706828, svr__gamma=0.006914520507181887, svr__kernel=poly, score=-321.356, total=   3.1s\n",
      "[Parallel(n_jobs=1)]: Done   9 out of   9 | elapsed:  8.0min remaining:    0.0s\n",
      "[CV] svr__C=1.1196209771872427, svr__degree=1, svr__epsilon=0.2251345287706828, svr__gamma=0.006914520507181887, svr__kernel=poly \n",
      "[CV]  svr__C=1.1196209771872427, svr__degree=1, svr__epsilon=0.2251345287706828, svr__gamma=0.006914520507181887, svr__kernel=poly, score=-323.404, total=   3.2s\n",
      "[Parallel(n_jobs=1)]: Done  10 out of  10 | elapsed:  8.1min remaining:    0.0s\n",
      "[CV] svr__C=1.1196209771872427, svr__degree=1, svr__epsilon=0.2251345287706828, svr__gamma=0.006914520507181887, svr__kernel=poly \n",
      "[CV]  svr__C=1.1196209771872427, svr__degree=1, svr__epsilon=0.2251345287706828, svr__gamma=0.006914520507181887, svr__kernel=poly, score=-318.577, total=   3.1s\n",
      "[Parallel(n_jobs=1)]: Done  11 out of  11 | elapsed:  8.2min remaining:    0.0s\n",
      "[CV] svr__C=1.1196209771872427, svr__degree=1, svr__epsilon=0.2251345287706828, svr__gamma=0.006914520507181887, svr__kernel=poly \n",
      "[CV]  svr__C=1.1196209771872427, svr__degree=1, svr__epsilon=0.2251345287706828, svr__gamma=0.006914520507181887, svr__kernel=poly, score=-317.376, total=   3.0s\n",
      "[Parallel(n_jobs=1)]: Done  12 out of  12 | elapsed:  8.2min remaining:    0.0s\n",
      "[CV] svr__C=1.869939196513775, svr__degree=2, svr__epsilon=0.11466162638446757, svr__gamma=scale, svr__kernel=sigmoid \n",
      "[CV]  svr__C=1.869939196513775, svr__degree=2, svr__epsilon=0.11466162638446757, svr__gamma=scale, svr__kernel=sigmoid, score=-933.754, total=   4.6s\n",
      "[Parallel(n_jobs=1)]: Done  13 out of  13 | elapsed:  8.3min remaining:    0.0s\n",
      "[CV] svr__C=1.869939196513775, svr__degree=2, svr__epsilon=0.11466162638446757, svr__gamma=scale, svr__kernel=sigmoid \n",
      "[CV]  svr__C=1.869939196513775, svr__degree=2, svr__epsilon=0.11466162638446757, svr__gamma=scale, svr__kernel=sigmoid, score=-947.442, total=   4.6s\n",
      "[Parallel(n_jobs=1)]: Done  14 out of  14 | elapsed:  8.4min remaining:    0.0s\n",
      "[CV] svr__C=1.869939196513775, svr__degree=2, svr__epsilon=0.11466162638446757, svr__gamma=scale, svr__kernel=sigmoid \n",
      "[CV]  svr__C=1.869939196513775, svr__degree=2, svr__epsilon=0.11466162638446757, svr__gamma=scale, svr__kernel=sigmoid, score=-955.639, total=   4.6s\n",
      "[Parallel(n_jobs=1)]: Done  15 out of  15 | elapsed:  8.4min remaining:    0.0s\n",
      "[CV] svr__C=1.869939196513775, svr__degree=2, svr__epsilon=0.11466162638446757, svr__gamma=scale, svr__kernel=sigmoid \n",
      "[CV]  svr__C=1.869939196513775, svr__degree=2, svr__epsilon=0.11466162638446757, svr__gamma=scale, svr__kernel=sigmoid, score=-949.033, total=   4.8s\n",
      "[Parallel(n_jobs=1)]: Done  16 out of  16 | elapsed:  8.5min remaining:    0.0s\n",
      "[CV] svr__C=0.7690233392383132, svr__degree=1, svr__epsilon=0.15453592754094558, svr__gamma=auto, svr__kernel=rbf \n",
      "[CV]  svr__C=0.7690233392383132, svr__degree=1, svr__epsilon=0.15453592754094558, svr__gamma=auto, svr__kernel=rbf, score=-893.700, total=   3.7s\n",
      "[Parallel(n_jobs=1)]: Done  17 out of  17 | elapsed:  8.6min remaining:    0.0s\n",
      "[CV] svr__C=0.7690233392383132, svr__degree=1, svr__epsilon=0.15453592754094558, svr__gamma=auto, svr__kernel=rbf \n",
      "[CV]  svr__C=0.7690233392383132, svr__degree=1, svr__epsilon=0.15453592754094558, svr__gamma=auto, svr__kernel=rbf, score=-906.884, total=   3.7s\n",
      "[Parallel(n_jobs=1)]: Done  18 out of  18 | elapsed:  8.6min remaining:    0.0s\n",
      "[CV] svr__C=0.7690233392383132, svr__degree=1, svr__epsilon=0.15453592754094558, svr__gamma=auto, svr__kernel=rbf \n",
      "[CV]  svr__C=0.7690233392383132, svr__degree=1, svr__epsilon=0.15453592754094558, svr__gamma=auto, svr__kernel=rbf, score=-915.149, total=   3.9s\n",
      "[Parallel(n_jobs=1)]: Done  19 out of  19 | elapsed:  8.7min remaining:    0.0s\n",
      "[CV] svr__C=0.7690233392383132, svr__degree=1, svr__epsilon=0.15453592754094558, svr__gamma=auto, svr__kernel=rbf \n",
      "[CV]  svr__C=0.7690233392383132, svr__degree=1, svr__epsilon=0.15453592754094558, svr__gamma=auto, svr__kernel=rbf, score=-908.326, total=   3.8s\n",
      "[Parallel(n_jobs=1)]: Done  20 out of  20 | elapsed:  8.8min remaining:    0.0s\n",
      "[CV] svr__C=1.6740349500852558, svr__degree=2, svr__epsilon=0.3035585123146712, svr__gamma=0.006914520507181887, svr__kernel=linear \n",
      "[CV]  svr__C=1.6740349500852558, svr__degree=2, svr__epsilon=0.3035585123146712, svr__gamma=0.006914520507181887, svr__kernel=linear, score=-516.499, total= 1.3min\n",
      "[Parallel(n_jobs=1)]: Done  21 out of  21 | elapsed: 10.0min remaining:    0.0s\n",
      "[CV] svr__C=1.6740349500852558, svr__degree=2, svr__epsilon=0.3035585123146712, svr__gamma=0.006914520507181887, svr__kernel=linear \n",
      "[CV]  svr__C=1.6740349500852558, svr__degree=2, svr__epsilon=0.3035585123146712, svr__gamma=0.006914520507181887, svr__kernel=linear, score=-371.983, total=  43.0s\n",
      "[Parallel(n_jobs=1)]: Done  22 out of  22 | elapsed: 10.8min remaining:    0.0s\n",
      "[CV] svr__C=1.6740349500852558, svr__degree=2, svr__epsilon=0.3035585123146712, svr__gamma=0.006914520507181887, svr__kernel=linear \n",
      "[CV]  svr__C=1.6740349500852558, svr__degree=2, svr__epsilon=0.3035585123146712, svr__gamma=0.006914520507181887, svr__kernel=linear, score=-691.514, total=  16.7s\n",
      "[Parallel(n_jobs=1)]: Done  23 out of  23 | elapsed: 11.0min remaining:    0.0s\n",
      "[CV] svr__C=1.6740349500852558, svr__degree=2, svr__epsilon=0.3035585123146712, svr__gamma=0.006914520507181887, svr__kernel=linear \n"
     ]
    },
    {
     "name": "stdout",
     "output_type": "stream",
     "text": [
      "[CV]  svr__C=1.6740349500852558, svr__degree=2, svr__epsilon=0.3035585123146712, svr__gamma=0.006914520507181887, svr__kernel=linear, score=-1090.435, total=  38.7s\n",
      "[Parallel(n_jobs=1)]: Done  24 out of  24 | elapsed: 11.7min remaining:    0.0s\n",
      "[CV] svr__C=0.13473554207153948, svr__degree=1, svr__epsilon=0.2666538049658639, svr__gamma=0.006914520507181887, svr__kernel=rbf \n",
      "[CV]  svr__C=0.13473554207153948, svr__degree=1, svr__epsilon=0.2666538049658639, svr__gamma=0.006914520507181887, svr__kernel=rbf, score=-891.060, total=   4.0s\n",
      "[Parallel(n_jobs=1)]: Done  25 out of  25 | elapsed: 11.7min remaining:    0.0s\n",
      "[CV] svr__C=0.13473554207153948, svr__degree=1, svr__epsilon=0.2666538049658639, svr__gamma=0.006914520507181887, svr__kernel=rbf \n",
      "[CV]  svr__C=0.13473554207153948, svr__degree=1, svr__epsilon=0.2666538049658639, svr__gamma=0.006914520507181887, svr__kernel=rbf, score=-903.312, total=   4.0s\n",
      "[Parallel(n_jobs=1)]: Done  26 out of  26 | elapsed: 11.8min remaining:    0.0s\n",
      "[CV] svr__C=0.13473554207153948, svr__degree=1, svr__epsilon=0.2666538049658639, svr__gamma=0.006914520507181887, svr__kernel=rbf \n",
      "[CV]  svr__C=0.13473554207153948, svr__degree=1, svr__epsilon=0.2666538049658639, svr__gamma=0.006914520507181887, svr__kernel=rbf, score=-912.009, total=   3.9s\n",
      "[Parallel(n_jobs=1)]: Done  27 out of  27 | elapsed: 11.9min remaining:    0.0s\n",
      "[CV] svr__C=0.13473554207153948, svr__degree=1, svr__epsilon=0.2666538049658639, svr__gamma=0.006914520507181887, svr__kernel=rbf \n",
      "[CV]  svr__C=0.13473554207153948, svr__degree=1, svr__epsilon=0.2666538049658639, svr__gamma=0.006914520507181887, svr__kernel=rbf, score=-905.097, total=   3.9s\n",
      "[Parallel(n_jobs=1)]: Done  28 out of  28 | elapsed: 11.9min remaining:    0.0s\n",
      "[CV] svr__C=0.08470155039537607, svr__degree=2, svr__epsilon=0.23371501288768853, svr__gamma=0.006914520507181887, svr__kernel=poly \n",
      "[CV]  svr__C=0.08470155039537607, svr__degree=2, svr__epsilon=0.23371501288768853, svr__gamma=0.006914520507181887, svr__kernel=poly, score=-339.666, total=  47.1s\n",
      "[Parallel(n_jobs=1)]: Done  29 out of  29 | elapsed: 12.7min remaining:    0.0s\n",
      "[CV] svr__C=0.08470155039537607, svr__degree=2, svr__epsilon=0.23371501288768853, svr__gamma=0.006914520507181887, svr__kernel=poly \n",
      "[CV]  svr__C=0.08470155039537607, svr__degree=2, svr__epsilon=0.23371501288768853, svr__gamma=0.006914520507181887, svr__kernel=poly, score=-554.101, total= 1.0min\n",
      "[Parallel(n_jobs=1)]: Done  30 out of  30 | elapsed: 13.8min remaining:    0.0s\n",
      "[CV] svr__C=0.08470155039537607, svr__degree=2, svr__epsilon=0.23371501288768853, svr__gamma=0.006914520507181887, svr__kernel=poly \n",
      "[CV]  svr__C=0.08470155039537607, svr__degree=2, svr__epsilon=0.23371501288768853, svr__gamma=0.006914520507181887, svr__kernel=poly, score=-420.016, total= 1.3min\n",
      "[Parallel(n_jobs=1)]: Done  31 out of  31 | elapsed: 15.1min remaining:    0.0s\n",
      "[CV] svr__C=0.08470155039537607, svr__degree=2, svr__epsilon=0.23371501288768853, svr__gamma=0.006914520507181887, svr__kernel=poly \n",
      "[CV]  svr__C=0.08470155039537607, svr__degree=2, svr__epsilon=0.23371501288768853, svr__gamma=0.006914520507181887, svr__kernel=poly, score=-307.204, total= 1.4min\n",
      "[Parallel(n_jobs=1)]: Done  32 out of  32 | elapsed: 16.4min remaining:    0.0s\n",
      "[CV] svr__C=1.1852064470409327, svr__degree=1, svr__epsilon=0.13073061133625324, svr__gamma=auto, svr__kernel=sigmoid \n",
      "[CV]  svr__C=1.1852064470409327, svr__degree=1, svr__epsilon=0.13073061133625324, svr__gamma=auto, svr__kernel=sigmoid, score=-893.875, total=   2.2s\n",
      "[Parallel(n_jobs=1)]: Done  33 out of  33 | elapsed: 16.5min remaining:    0.0s\n",
      "[CV] svr__C=1.1852064470409327, svr__degree=1, svr__epsilon=0.13073061133625324, svr__gamma=auto, svr__kernel=sigmoid \n",
      "[CV]  svr__C=1.1852064470409327, svr__degree=1, svr__epsilon=0.13073061133625324, svr__gamma=auto, svr__kernel=sigmoid, score=-907.121, total=   2.3s\n",
      "[Parallel(n_jobs=1)]: Done  34 out of  34 | elapsed: 16.5min remaining:    0.0s\n",
      "[CV] svr__C=1.1852064470409327, svr__degree=1, svr__epsilon=0.13073061133625324, svr__gamma=auto, svr__kernel=sigmoid \n",
      "[CV]  svr__C=1.1852064470409327, svr__degree=1, svr__epsilon=0.13073061133625324, svr__gamma=auto, svr__kernel=sigmoid, score=-915.346, total=   2.3s\n",
      "[Parallel(n_jobs=1)]: Done  35 out of  35 | elapsed: 16.6min remaining:    0.0s\n",
      "[CV] svr__C=1.1852064470409327, svr__degree=1, svr__epsilon=0.13073061133625324, svr__gamma=auto, svr__kernel=sigmoid \n",
      "[CV]  svr__C=1.1852064470409327, svr__degree=1, svr__epsilon=0.13073061133625324, svr__gamma=auto, svr__kernel=sigmoid, score=-908.511, total=   2.3s\n",
      "[Parallel(n_jobs=1)]: Done  36 out of  36 | elapsed: 16.6min remaining:    0.0s\n",
      "[CV] svr__C=0.2655674595625781, svr__degree=1, svr__epsilon=0.06005032387423079, svr__gamma=0.006914520507181887, svr__kernel=rbf \n",
      "[CV]  svr__C=0.2655674595625781, svr__degree=1, svr__epsilon=0.06005032387423079, svr__gamma=0.006914520507181887, svr__kernel=rbf, score=-888.268, total=   4.0s\n",
      "[Parallel(n_jobs=1)]: Done  37 out of  37 | elapsed: 16.7min remaining:    0.0s\n",
      "[CV] svr__C=0.2655674595625781, svr__degree=1, svr__epsilon=0.06005032387423079, svr__gamma=0.006914520507181887, svr__kernel=rbf \n",
      "[CV]  svr__C=0.2655674595625781, svr__degree=1, svr__epsilon=0.06005032387423079, svr__gamma=0.006914520507181887, svr__kernel=rbf, score=-899.757, total=   4.0s\n",
      "[Parallel(n_jobs=1)]: Done  38 out of  38 | elapsed: 16.7min remaining:    0.0s\n",
      "[CV] svr__C=0.2655674595625781, svr__degree=1, svr__epsilon=0.06005032387423079, svr__gamma=0.006914520507181887, svr__kernel=rbf \n",
      "[CV]  svr__C=0.2655674595625781, svr__degree=1, svr__epsilon=0.06005032387423079, svr__gamma=0.006914520507181887, svr__kernel=rbf, score=-908.719, total=   3.9s\n",
      "[Parallel(n_jobs=1)]: Done  39 out of  39 | elapsed: 16.8min remaining:    0.0s\n",
      "[CV] svr__C=0.2655674595625781, svr__degree=1, svr__epsilon=0.06005032387423079, svr__gamma=0.006914520507181887, svr__kernel=rbf \n",
      "[CV]  svr__C=0.2655674595625781, svr__degree=1, svr__epsilon=0.06005032387423079, svr__gamma=0.006914520507181887, svr__kernel=rbf, score=-901.827, total=   4.0s\n",
      "[Parallel(n_jobs=1)]: Done  40 out of  40 | elapsed: 16.9min remaining:    0.0s\n",
      "[Parallel(n_jobs=1)]: Done  40 out of  40 | elapsed: 16.9min finished\n"
     ]
    }
   ],
   "source": [
    "column_transformer = ColumnTransformer([('encoder', TargetEncoder(cols = ['district']), ['district'])],\n",
    "                                       remainder= 'passthrough')\n",
    "\n",
    "ppl = Pipeline(steps = [('transformer', column_transformer), ('svr', SVR())])\n",
    "\n",
    "param_distributions = {'svr__C': uniform(loc = 0.01, scale = 2),\n",
    "                       'svr__gamma': ['scale', 'auto', random.random()/4],\n",
    "                       'svr__degree': randint(low = 1, high = 3),\n",
    "                       'svr__kernel': ['linear', 'poly', 'rbf', 'sigmoid'],\n",
    "                       'svr__epsilon': uniform(0.02, scale = 0.3)}\n",
    "\n",
    "rscv = RandomizedSearchCV(ppl, param_distributions=param_distributions,\n",
    "                          scoring = 'neg_root_mean_squared_error',\n",
    "                          cv = 4, random_state = 324, n_iter = 10,\n",
    "                          verbose = 10**8)\n",
    "\n",
    "apart_found = rscv.fit(apart, train_target)"
   ]
  },
  {
   "cell_type": "markdown",
   "metadata": {},
   "source": [
    "### Uwagi co do strojenia hiperparametrów:\n",
    "* SVR nie posiada parametru cost. Zamiennie zastosowałem parametr C - dodatni parametr regularyzacji\n",
    "* Parametr gamma - sposób ustawienia współczynnika dla jądra w przypadku gdy jest ono jednym z 'rbf' - Gaussian radial basis function, 'poly' - Polynomial, 'sigmoid'. Wartość współczynnika w przypadku gdy gamma = 'scale' jest zależna od rozmiaru danych wejściowych i wynosi 1/(n_features() * X.var()). Gdy 'gamma' = 'auto', jego wartość to po prostu 1/n_features. Dla celów badawczych sprawdzimy również jak algorytm się spisze dla losowej, małej aczkolwiek małej dodatniej liczby z przedziału <0, 0.25).\n",
    "* Parametr degree - określa stopień wielomianu dla jądra 'poly'. W przeciwnym razie - jest ignorowany. Co ciekawe, gdy degree było liczbą z zakresu 3-6, obliczenia trwały nieporównywalnie dłużej (żadne nie doszło do skutku w rozsądnym czasie)\n",
    "* kernel - rodzaj jądra\n",
    "* epsilon - o ile dobrze rozumiem, jest to określenie pewnego marginesu, na którym nie jest stosowana żadna kara za niepoprawną predykcję; możliwa pomyłka bez kary<br>\n",
    "Jak możemy zauważyć, poszukiwanie optymalnych parametrów trwało długo - ponad 15 minut. Najwięcej czasu zajmuje dopasowanie modelu w przypadku jądra wielomianowego."
   ]
  },
  {
   "cell_type": "code",
   "execution_count": 41,
   "metadata": {},
   "outputs": [
    {
     "name": "stdout",
     "output_type": "stream",
     "text": [
      "Czas działania poszczególnych podzbiorów parametrów:\n",
      "[38.17239803 81.39708894  2.9170751   3.86667764  3.23599041 43.64670706\n",
      "  3.41229856 67.30457932  2.05466413  3.45699054]\n",
      "\n",
      "Czasy dla kernel = \"poly\": [81.39708894  2.9170751  67.30457932]\n"
     ]
    }
   ],
   "source": [
    "print(\"Czas działania poszczególnych podzbiorów parametrów:\\n\" + str(apart_found.cv_results_['mean_fit_time']) + '\\n')\n",
    "print('Czasy dla kernel = \"poly\": ' + \n",
    "      str(apart_found.cv_results_['mean_fit_time'][np.array([i['svr__kernel'] for i in apart_found.cv_results_['params']]) == 'poly']))"
   ]
  },
  {
   "cell_type": "code",
   "execution_count": 42,
   "metadata": {},
   "outputs": [
    {
     "data": {
      "text/plain": [
       "[{'svr__C': 0.13063342713081472,\n",
       "  'svr__degree': 1,\n",
       "  'svr__epsilon': 0.1249441435733914,\n",
       "  'svr__gamma': 'scale',\n",
       "  'svr__kernel': 'linear'},\n",
       " {'svr__C': 1.5026522303845276,\n",
       "  'svr__degree': 1,\n",
       "  'svr__epsilon': 0.3024735909065922,\n",
       "  'svr__gamma': 'auto',\n",
       "  'svr__kernel': 'poly'},\n",
       " {'svr__C': 1.1196209771872427,\n",
       "  'svr__degree': 1,\n",
       "  'svr__epsilon': 0.2251345287706828,\n",
       "  'svr__gamma': 0.006914520507181887,\n",
       "  'svr__kernel': 'poly'},\n",
       " {'svr__C': 1.869939196513775,\n",
       "  'svr__degree': 2,\n",
       "  'svr__epsilon': 0.11466162638446757,\n",
       "  'svr__gamma': 'scale',\n",
       "  'svr__kernel': 'sigmoid'},\n",
       " {'svr__C': 0.7690233392383132,\n",
       "  'svr__degree': 1,\n",
       "  'svr__epsilon': 0.15453592754094558,\n",
       "  'svr__gamma': 'auto',\n",
       "  'svr__kernel': 'rbf'},\n",
       " {'svr__C': 1.6740349500852558,\n",
       "  'svr__degree': 2,\n",
       "  'svr__epsilon': 0.3035585123146712,\n",
       "  'svr__gamma': 0.006914520507181887,\n",
       "  'svr__kernel': 'linear'},\n",
       " {'svr__C': 0.13473554207153948,\n",
       "  'svr__degree': 1,\n",
       "  'svr__epsilon': 0.2666538049658639,\n",
       "  'svr__gamma': 0.006914520507181887,\n",
       "  'svr__kernel': 'rbf'},\n",
       " {'svr__C': 0.08470155039537607,\n",
       "  'svr__degree': 2,\n",
       "  'svr__epsilon': 0.23371501288768853,\n",
       "  'svr__gamma': 0.006914520507181887,\n",
       "  'svr__kernel': 'poly'},\n",
       " {'svr__C': 1.1852064470409327,\n",
       "  'svr__degree': 1,\n",
       "  'svr__epsilon': 0.13073061133625324,\n",
       "  'svr__gamma': 'auto',\n",
       "  'svr__kernel': 'sigmoid'},\n",
       " {'svr__C': 0.2655674595625781,\n",
       "  'svr__degree': 1,\n",
       "  'svr__epsilon': 0.06005032387423079,\n",
       "  'svr__gamma': 0.006914520507181887,\n",
       "  'svr__kernel': 'rbf'}]"
      ]
     },
     "execution_count": 42,
     "metadata": {},
     "output_type": "execute_result"
    }
   ],
   "source": [
    "apart_found.cv_results_['params']"
   ]
  },
  {
   "cell_type": "markdown",
   "metadata": {},
   "source": [
    "#### Trudno powiedzieć co wpłynęło na tak krótki czas działania dla drugiego przypadku zawierającego 'poly'."
   ]
  },
  {
   "cell_type": "code",
   "execution_count": 48,
   "metadata": {},
   "outputs": [
    {
     "data": {
      "text/plain": [
       "{'svr__C': 1.1196209771872427,\n",
       " 'svr__degree': 1,\n",
       " 'svr__epsilon': 0.2251345287706828,\n",
       " 'svr__gamma': 0.006914520507181887,\n",
       " 'svr__kernel': 'poly'}"
      ]
     },
     "execution_count": 48,
     "metadata": {},
     "output_type": "execute_result"
    }
   ],
   "source": [
    "apart_found.best_params_"
   ]
  },
  {
   "cell_type": "markdown",
   "metadata": {},
   "source": [
    "#### Zbiór najlepszych hiperparametrów:\n",
    "* C = 1.12\n",
    "* gamma = 0.0069 - ciekawa obserwacja, lepsze niż sugerowane metody 'scale' i 'auto'\n",
    "* kernel = 'poly'\n",
    "* degree = 1 - również zaskakujące, że optymalny stopień wielomianu wyniósł tylko 1 (gwoli ścisłości, sprawdzona była też wartość 2)\n",
    "* epsilon = 0.225"
   ]
  },
  {
   "cell_type": "code",
   "execution_count": 49,
   "metadata": {},
   "outputs": [
    {
     "data": {
      "text/plain": [
       "318.95826079822604"
      ]
     },
     "execution_count": 49,
     "metadata": {},
     "output_type": "execute_result"
    }
   ],
   "source": [
    "math.sqrt(mean_squared_error(test_target, apart_found.best_estimator_.predict(apart_test)))"
   ]
  },
  {
   "cell_type": "markdown",
   "metadata": {},
   "source": [
    "## Drugi zbiór danych - zawodnicy w grze FIFA 20"
   ]
  },
  {
   "cell_type": "code",
   "execution_count": 15,
   "metadata": {},
   "outputs": [],
   "source": [
    "fifa_read = pd.read_csv('players_20.csv')"
   ]
  },
  {
   "cell_type": "code",
   "execution_count": 16,
   "metadata": {},
   "outputs": [
    {
     "name": "stdout",
     "output_type": "stream",
     "text": [
      "<class 'pandas.core.frame.DataFrame'>\n",
      "RangeIndex: 18278 entries, 0 to 18277\n",
      "Data columns (total 61 columns):\n",
      " #   Column                      Non-Null Count  Dtype  \n",
      "---  ------                      --------------  -----  \n",
      " 0   sofifa_id                   18278 non-null  int64  \n",
      " 1   age                         18278 non-null  int64  \n",
      " 2   height_cm                   18278 non-null  int64  \n",
      " 3   weight_kg                   18278 non-null  int64  \n",
      " 4   overall                     18278 non-null  int64  \n",
      " 5   potential                   18278 non-null  int64  \n",
      " 6   value_eur                   18278 non-null  int64  \n",
      " 7   wage_eur                    18278 non-null  int64  \n",
      " 8   international_reputation    18278 non-null  int64  \n",
      " 9   weak_foot                   18278 non-null  int64  \n",
      " 10  skill_moves                 18278 non-null  int64  \n",
      " 11  release_clause_eur          16980 non-null  float64\n",
      " 12  team_jersey_number          18038 non-null  float64\n",
      " 13  contract_valid_until        18038 non-null  float64\n",
      " 14  nation_jersey_number        1126 non-null   float64\n",
      " 15  pace                        16242 non-null  float64\n",
      " 16  shooting                    16242 non-null  float64\n",
      " 17  passing                     16242 non-null  float64\n",
      " 18  dribbling                   16242 non-null  float64\n",
      " 19  defending                   16242 non-null  float64\n",
      " 20  physic                      16242 non-null  float64\n",
      " 21  gk_diving                   2036 non-null   float64\n",
      " 22  gk_handling                 2036 non-null   float64\n",
      " 23  gk_kicking                  2036 non-null   float64\n",
      " 24  gk_reflexes                 2036 non-null   float64\n",
      " 25  gk_speed                    2036 non-null   float64\n",
      " 26  gk_positioning              2036 non-null   float64\n",
      " 27  attacking_crossing          18278 non-null  int64  \n",
      " 28  attacking_finishing         18278 non-null  int64  \n",
      " 29  attacking_heading_accuracy  18278 non-null  int64  \n",
      " 30  attacking_short_passing     18278 non-null  int64  \n",
      " 31  attacking_volleys           18278 non-null  int64  \n",
      " 32  skill_dribbling             18278 non-null  int64  \n",
      " 33  skill_curve                 18278 non-null  int64  \n",
      " 34  skill_fk_accuracy           18278 non-null  int64  \n",
      " 35  skill_long_passing          18278 non-null  int64  \n",
      " 36  skill_ball_control          18278 non-null  int64  \n",
      " 37  movement_acceleration       18278 non-null  int64  \n",
      " 38  movement_sprint_speed       18278 non-null  int64  \n",
      " 39  movement_agility            18278 non-null  int64  \n",
      " 40  movement_reactions          18278 non-null  int64  \n",
      " 41  movement_balance            18278 non-null  int64  \n",
      " 42  power_shot_power            18278 non-null  int64  \n",
      " 43  power_jumping               18278 non-null  int64  \n",
      " 44  power_stamina               18278 non-null  int64  \n",
      " 45  power_strength              18278 non-null  int64  \n",
      " 46  power_long_shots            18278 non-null  int64  \n",
      " 47  mentality_aggression        18278 non-null  int64  \n",
      " 48  mentality_interceptions     18278 non-null  int64  \n",
      " 49  mentality_positioning       18278 non-null  int64  \n",
      " 50  mentality_vision            18278 non-null  int64  \n",
      " 51  mentality_penalties         18278 non-null  int64  \n",
      " 52  mentality_composure         18278 non-null  int64  \n",
      " 53  defending_marking           18278 non-null  int64  \n",
      " 54  defending_standing_tackle   18278 non-null  int64  \n",
      " 55  defending_sliding_tackle    18278 non-null  int64  \n",
      " 56  goalkeeping_diving          18278 non-null  int64  \n",
      " 57  goalkeeping_handling        18278 non-null  int64  \n",
      " 58  goalkeeping_kicking         18278 non-null  int64  \n",
      " 59  goalkeeping_positioning     18278 non-null  int64  \n",
      " 60  goalkeeping_reflexes        18278 non-null  int64  \n",
      "dtypes: float64(16), int64(45)\n",
      "memory usage: 8.5 MB\n"
     ]
    }
   ],
   "source": [
    "fifa_numeric = fifa_read.select_dtypes(['float64', 'int64'])\n",
    "fifa_numeric.info()"
   ]
  },
  {
   "cell_type": "markdown",
   "metadata": {},
   "source": [
    "#### Starałem się dokonać selekcji moim zdaniem najważniejszych zmiennych"
   ]
  },
  {
   "cell_type": "code",
   "execution_count": 17,
   "metadata": {},
   "outputs": [],
   "source": [
    "fifa_selected = fifa_numeric[['age', 'height_cm', 'weight_kg', 'overall', 'potential', 'value_eur',\n",
    "                              'international_reputation','weak_foot', 'skill_moves', 'pace', 'shooting', 'passing',\n",
    "                              'dribbling', 'defending', 'physic']]"
   ]
  },
  {
   "cell_type": "code",
   "execution_count": 18,
   "metadata": {},
   "outputs": [
    {
     "name": "stdout",
     "output_type": "stream",
     "text": [
      "<class 'pandas.core.frame.DataFrame'>\n",
      "RangeIndex: 18278 entries, 0 to 18277\n",
      "Data columns (total 15 columns):\n",
      " #   Column                    Non-Null Count  Dtype  \n",
      "---  ------                    --------------  -----  \n",
      " 0   age                       18278 non-null  int64  \n",
      " 1   height_cm                 18278 non-null  int64  \n",
      " 2   weight_kg                 18278 non-null  int64  \n",
      " 3   overall                   18278 non-null  int64  \n",
      " 4   potential                 18278 non-null  int64  \n",
      " 5   value_eur                 18278 non-null  int64  \n",
      " 6   international_reputation  18278 non-null  int64  \n",
      " 7   weak_foot                 18278 non-null  int64  \n",
      " 8   skill_moves               18278 non-null  int64  \n",
      " 9   pace                      16242 non-null  float64\n",
      " 10  shooting                  16242 non-null  float64\n",
      " 11  passing                   16242 non-null  float64\n",
      " 12  dribbling                 16242 non-null  float64\n",
      " 13  defending                 16242 non-null  float64\n",
      " 14  physic                    16242 non-null  float64\n",
      "dtypes: float64(6), int64(9)\n",
      "memory usage: 2.1 MB\n"
     ]
    }
   ],
   "source": [
    "fifa_selected.info()"
   ]
  },
  {
   "cell_type": "markdown",
   "metadata": {},
   "source": [
    "#### Wykorzystajmy jedynie obserwacje bez braków danych - pozostali to najprawdopodbniej bramkarze, dla których niektóre atrybuty nie zostały określone"
   ]
  },
  {
   "cell_type": "code",
   "execution_count": 19,
   "metadata": {},
   "outputs": [],
   "source": [
    "fifa = fifa_selected.dropna().reset_index()"
   ]
  },
  {
   "cell_type": "code",
   "execution_count": 20,
   "metadata": {},
   "outputs": [
    {
     "name": "stdout",
     "output_type": "stream",
     "text": [
      "<class 'pandas.core.frame.DataFrame'>\n",
      "RangeIndex: 16242 entries, 0 to 16241\n",
      "Data columns (total 16 columns):\n",
      " #   Column                    Non-Null Count  Dtype  \n",
      "---  ------                    --------------  -----  \n",
      " 0   index                     16242 non-null  int64  \n",
      " 1   age                       16242 non-null  int64  \n",
      " 2   height_cm                 16242 non-null  int64  \n",
      " 3   weight_kg                 16242 non-null  int64  \n",
      " 4   overall                   16242 non-null  int64  \n",
      " 5   potential                 16242 non-null  int64  \n",
      " 6   value_eur                 16242 non-null  int64  \n",
      " 7   international_reputation  16242 non-null  int64  \n",
      " 8   weak_foot                 16242 non-null  int64  \n",
      " 9   skill_moves               16242 non-null  int64  \n",
      " 10  pace                      16242 non-null  float64\n",
      " 11  shooting                  16242 non-null  float64\n",
      " 12  passing                   16242 non-null  float64\n",
      " 13  dribbling                 16242 non-null  float64\n",
      " 14  defending                 16242 non-null  float64\n",
      " 15  physic                    16242 non-null  float64\n",
      "dtypes: float64(6), int64(10)\n",
      "memory usage: 2.0 MB\n"
     ]
    }
   ],
   "source": [
    "fifa.info()"
   ]
  },
  {
   "cell_type": "markdown",
   "metadata": {},
   "source": [
    "#### Udało nam sie przygotować całkiem pokaźny zbiór danych o wymiarach 16242 x 15."
   ]
  },
  {
   "cell_type": "code",
   "execution_count": 21,
   "metadata": {},
   "outputs": [
    {
     "data": {
      "text/html": [
       "<div>\n",
       "<style scoped>\n",
       "    .dataframe tbody tr th:only-of-type {\n",
       "        vertical-align: middle;\n",
       "    }\n",
       "\n",
       "    .dataframe tbody tr th {\n",
       "        vertical-align: top;\n",
       "    }\n",
       "\n",
       "    .dataframe thead th {\n",
       "        text-align: right;\n",
       "    }\n",
       "</style>\n",
       "<table border=\"1\" class=\"dataframe\">\n",
       "  <thead>\n",
       "    <tr style=\"text-align: right;\">\n",
       "      <th></th>\n",
       "      <th>index</th>\n",
       "      <th>age</th>\n",
       "      <th>height_cm</th>\n",
       "      <th>weight_kg</th>\n",
       "      <th>overall</th>\n",
       "      <th>potential</th>\n",
       "      <th>value_eur</th>\n",
       "      <th>international_reputation</th>\n",
       "      <th>weak_foot</th>\n",
       "      <th>skill_moves</th>\n",
       "      <th>pace</th>\n",
       "      <th>shooting</th>\n",
       "      <th>passing</th>\n",
       "      <th>dribbling</th>\n",
       "      <th>defending</th>\n",
       "      <th>physic</th>\n",
       "    </tr>\n",
       "  </thead>\n",
       "  <tbody>\n",
       "    <tr>\n",
       "      <th>index</th>\n",
       "      <td>1.000000</td>\n",
       "      <td>-0.437896</td>\n",
       "      <td>-0.063343</td>\n",
       "      <td>-0.175966</td>\n",
       "      <td>-0.973598</td>\n",
       "      <td>-0.638629</td>\n",
       "      <td>-0.544546</td>\n",
       "      <td>-0.393322</td>\n",
       "      <td>-0.218572</td>\n",
       "      <td>-0.495640</td>\n",
       "      <td>-0.154866</td>\n",
       "      <td>-0.486231</td>\n",
       "      <td>-0.667273</td>\n",
       "      <td>-0.585396</td>\n",
       "      <td>-0.327378</td>\n",
       "      <td>-0.504749</td>\n",
       "    </tr>\n",
       "    <tr>\n",
       "      <th>age</th>\n",
       "      <td>-0.437896</td>\n",
       "      <td>1.000000</td>\n",
       "      <td>0.065503</td>\n",
       "      <td>0.222893</td>\n",
       "      <td>0.465977</td>\n",
       "      <td>-0.275971</td>\n",
       "      <td>0.087288</td>\n",
       "      <td>0.264483</td>\n",
       "      <td>0.109420</td>\n",
       "      <td>0.130075</td>\n",
       "      <td>-0.201211</td>\n",
       "      <td>0.238990</td>\n",
       "      <td>0.330507</td>\n",
       "      <td>0.161913</td>\n",
       "      <td>0.259990</td>\n",
       "      <td>0.435292</td>\n",
       "    </tr>\n",
       "    <tr>\n",
       "      <th>height_cm</th>\n",
       "      <td>-0.063343</td>\n",
       "      <td>0.065503</td>\n",
       "      <td>1.000000</td>\n",
       "      <td>0.752597</td>\n",
       "      <td>0.065984</td>\n",
       "      <td>0.021387</td>\n",
       "      <td>0.025051</td>\n",
       "      <td>0.043452</td>\n",
       "      <td>-0.097984</td>\n",
       "      <td>-0.280113</td>\n",
       "      <td>-0.432158</td>\n",
       "      <td>-0.203716</td>\n",
       "      <td>-0.290623</td>\n",
       "      <td>-0.413370</td>\n",
       "      <td>0.216422</td>\n",
       "      <td>0.490354</td>\n",
       "    </tr>\n",
       "    <tr>\n",
       "      <th>weight_kg</th>\n",
       "      <td>-0.175966</td>\n",
       "      <td>0.222893</td>\n",
       "      <td>0.752597</td>\n",
       "      <td>1.000000</td>\n",
       "      <td>0.182136</td>\n",
       "      <td>0.009379</td>\n",
       "      <td>0.066650</td>\n",
       "      <td>0.097335</td>\n",
       "      <td>-0.055569</td>\n",
       "      <td>-0.201295</td>\n",
       "      <td>-0.387138</td>\n",
       "      <td>-0.095442</td>\n",
       "      <td>-0.182688</td>\n",
       "      <td>-0.300792</td>\n",
       "      <td>0.218564</td>\n",
       "      <td>0.581971</td>\n",
       "    </tr>\n",
       "    <tr>\n",
       "      <th>overall</th>\n",
       "      <td>-0.973598</td>\n",
       "      <td>0.465977</td>\n",
       "      <td>0.065984</td>\n",
       "      <td>0.182136</td>\n",
       "      <td>1.000000</td>\n",
       "      <td>0.636026</td>\n",
       "      <td>0.645949</td>\n",
       "      <td>0.478061</td>\n",
       "      <td>0.227624</td>\n",
       "      <td>0.493554</td>\n",
       "      <td>0.158866</td>\n",
       "      <td>0.497881</td>\n",
       "      <td>0.683954</td>\n",
       "      <td>0.601190</td>\n",
       "      <td>0.334792</td>\n",
       "      <td>0.517214</td>\n",
       "    </tr>\n",
       "    <tr>\n",
       "      <th>potential</th>\n",
       "      <td>-0.638629</td>\n",
       "      <td>-0.275971</td>\n",
       "      <td>0.021387</td>\n",
       "      <td>0.009379</td>\n",
       "      <td>0.636026</td>\n",
       "      <td>1.000000</td>\n",
       "      <td>0.581976</td>\n",
       "      <td>0.337049</td>\n",
       "      <td>0.150349</td>\n",
       "      <td>0.380834</td>\n",
       "      <td>0.229060</td>\n",
       "      <td>0.304000</td>\n",
       "      <td>0.424816</td>\n",
       "      <td>0.451097</td>\n",
       "      <td>0.151608</td>\n",
       "      <td>0.148449</td>\n",
       "    </tr>\n",
       "    <tr>\n",
       "      <th>value_eur</th>\n",
       "      <td>-0.544546</td>\n",
       "      <td>0.087288</td>\n",
       "      <td>0.025051</td>\n",
       "      <td>0.066650</td>\n",
       "      <td>0.645949</td>\n",
       "      <td>0.581976</td>\n",
       "      <td>1.000000</td>\n",
       "      <td>0.621826</td>\n",
       "      <td>0.170129</td>\n",
       "      <td>0.370318</td>\n",
       "      <td>0.171373</td>\n",
       "      <td>0.343938</td>\n",
       "      <td>0.448258</td>\n",
       "      <td>0.427721</td>\n",
       "      <td>0.157928</td>\n",
       "      <td>0.236395</td>\n",
       "    </tr>\n",
       "    <tr>\n",
       "      <th>international_reputation</th>\n",
       "      <td>-0.393322</td>\n",
       "      <td>0.264483</td>\n",
       "      <td>0.043452</td>\n",
       "      <td>0.097335</td>\n",
       "      <td>0.478061</td>\n",
       "      <td>0.337049</td>\n",
       "      <td>0.621826</td>\n",
       "      <td>1.000000</td>\n",
       "      <td>0.134880</td>\n",
       "      <td>0.260275</td>\n",
       "      <td>0.004324</td>\n",
       "      <td>0.274709</td>\n",
       "      <td>0.355577</td>\n",
       "      <td>0.296900</td>\n",
       "      <td>0.138748</td>\n",
       "      <td>0.176956</td>\n",
       "    </tr>\n",
       "    <tr>\n",
       "      <th>weak_foot</th>\n",
       "      <td>-0.218572</td>\n",
       "      <td>0.109420</td>\n",
       "      <td>-0.097984</td>\n",
       "      <td>-0.055569</td>\n",
       "      <td>0.227624</td>\n",
       "      <td>0.150349</td>\n",
       "      <td>0.170129</td>\n",
       "      <td>0.134880</td>\n",
       "      <td>1.000000</td>\n",
       "      <td>0.266627</td>\n",
       "      <td>0.148527</td>\n",
       "      <td>0.319034</td>\n",
       "      <td>0.281381</td>\n",
       "      <td>0.309823</td>\n",
       "      <td>-0.105863</td>\n",
       "      <td>0.000952</td>\n",
       "    </tr>\n",
       "    <tr>\n",
       "      <th>skill_moves</th>\n",
       "      <td>-0.495640</td>\n",
       "      <td>0.130075</td>\n",
       "      <td>-0.280113</td>\n",
       "      <td>-0.201295</td>\n",
       "      <td>0.493554</td>\n",
       "      <td>0.380834</td>\n",
       "      <td>0.370318</td>\n",
       "      <td>0.260275</td>\n",
       "      <td>0.266627</td>\n",
       "      <td>1.000000</td>\n",
       "      <td>0.420886</td>\n",
       "      <td>0.625012</td>\n",
       "      <td>0.611950</td>\n",
       "      <td>0.714841</td>\n",
       "      <td>-0.209321</td>\n",
       "      <td>-0.066725</td>\n",
       "    </tr>\n",
       "    <tr>\n",
       "      <th>pace</th>\n",
       "      <td>-0.154866</td>\n",
       "      <td>-0.201211</td>\n",
       "      <td>-0.432158</td>\n",
       "      <td>-0.387138</td>\n",
       "      <td>0.158866</td>\n",
       "      <td>0.229060</td>\n",
       "      <td>0.171373</td>\n",
       "      <td>0.004324</td>\n",
       "      <td>0.148527</td>\n",
       "      <td>0.420886</td>\n",
       "      <td>1.000000</td>\n",
       "      <td>0.350101</td>\n",
       "      <td>0.289738</td>\n",
       "      <td>0.548527</td>\n",
       "      <td>-0.304351</td>\n",
       "      <td>-0.196159</td>\n",
       "    </tr>\n",
       "    <tr>\n",
       "      <th>shooting</th>\n",
       "      <td>-0.486231</td>\n",
       "      <td>0.238990</td>\n",
       "      <td>-0.203716</td>\n",
       "      <td>-0.095442</td>\n",
       "      <td>0.497881</td>\n",
       "      <td>0.304000</td>\n",
       "      <td>0.343938</td>\n",
       "      <td>0.274709</td>\n",
       "      <td>0.319034</td>\n",
       "      <td>0.625012</td>\n",
       "      <td>0.350101</td>\n",
       "      <td>1.000000</td>\n",
       "      <td>0.654749</td>\n",
       "      <td>0.767211</td>\n",
       "      <td>-0.408629</td>\n",
       "      <td>0.004790</td>\n",
       "    </tr>\n",
       "    <tr>\n",
       "      <th>passing</th>\n",
       "      <td>-0.667273</td>\n",
       "      <td>0.330507</td>\n",
       "      <td>-0.290623</td>\n",
       "      <td>-0.182688</td>\n",
       "      <td>0.683954</td>\n",
       "      <td>0.424816</td>\n",
       "      <td>0.448258</td>\n",
       "      <td>0.355577</td>\n",
       "      <td>0.281381</td>\n",
       "      <td>0.611950</td>\n",
       "      <td>0.289738</td>\n",
       "      <td>0.654749</td>\n",
       "      <td>1.000000</td>\n",
       "      <td>0.829985</td>\n",
       "      <td>0.155699</td>\n",
       "      <td>0.132395</td>\n",
       "    </tr>\n",
       "    <tr>\n",
       "      <th>dribbling</th>\n",
       "      <td>-0.585396</td>\n",
       "      <td>0.161913</td>\n",
       "      <td>-0.413370</td>\n",
       "      <td>-0.300792</td>\n",
       "      <td>0.601190</td>\n",
       "      <td>0.451097</td>\n",
       "      <td>0.427721</td>\n",
       "      <td>0.296900</td>\n",
       "      <td>0.309823</td>\n",
       "      <td>0.714841</td>\n",
       "      <td>0.548527</td>\n",
       "      <td>0.767211</td>\n",
       "      <td>0.829985</td>\n",
       "      <td>1.000000</td>\n",
       "      <td>-0.168549</td>\n",
       "      <td>-0.044196</td>\n",
       "    </tr>\n",
       "    <tr>\n",
       "      <th>defending</th>\n",
       "      <td>-0.327378</td>\n",
       "      <td>0.259990</td>\n",
       "      <td>0.216422</td>\n",
       "      <td>0.218564</td>\n",
       "      <td>0.334792</td>\n",
       "      <td>0.151608</td>\n",
       "      <td>0.157928</td>\n",
       "      <td>0.138748</td>\n",
       "      <td>-0.105863</td>\n",
       "      <td>-0.209321</td>\n",
       "      <td>-0.304351</td>\n",
       "      <td>-0.408629</td>\n",
       "      <td>0.155699</td>\n",
       "      <td>-0.168549</td>\n",
       "      <td>1.000000</td>\n",
       "      <td>0.551471</td>\n",
       "    </tr>\n",
       "    <tr>\n",
       "      <th>physic</th>\n",
       "      <td>-0.504749</td>\n",
       "      <td>0.435292</td>\n",
       "      <td>0.490354</td>\n",
       "      <td>0.581971</td>\n",
       "      <td>0.517214</td>\n",
       "      <td>0.148449</td>\n",
       "      <td>0.236395</td>\n",
       "      <td>0.176956</td>\n",
       "      <td>0.000952</td>\n",
       "      <td>-0.066725</td>\n",
       "      <td>-0.196159</td>\n",
       "      <td>0.004790</td>\n",
       "      <td>0.132395</td>\n",
       "      <td>-0.044196</td>\n",
       "      <td>0.551471</td>\n",
       "      <td>1.000000</td>\n",
       "    </tr>\n",
       "  </tbody>\n",
       "</table>\n",
       "</div>"
      ],
      "text/plain": [
       "                             index       age  height_cm  weight_kg   overall  \\\n",
       "index                     1.000000 -0.437896  -0.063343  -0.175966 -0.973598   \n",
       "age                      -0.437896  1.000000   0.065503   0.222893  0.465977   \n",
       "height_cm                -0.063343  0.065503   1.000000   0.752597  0.065984   \n",
       "weight_kg                -0.175966  0.222893   0.752597   1.000000  0.182136   \n",
       "overall                  -0.973598  0.465977   0.065984   0.182136  1.000000   \n",
       "potential                -0.638629 -0.275971   0.021387   0.009379  0.636026   \n",
       "value_eur                -0.544546  0.087288   0.025051   0.066650  0.645949   \n",
       "international_reputation -0.393322  0.264483   0.043452   0.097335  0.478061   \n",
       "weak_foot                -0.218572  0.109420  -0.097984  -0.055569  0.227624   \n",
       "skill_moves              -0.495640  0.130075  -0.280113  -0.201295  0.493554   \n",
       "pace                     -0.154866 -0.201211  -0.432158  -0.387138  0.158866   \n",
       "shooting                 -0.486231  0.238990  -0.203716  -0.095442  0.497881   \n",
       "passing                  -0.667273  0.330507  -0.290623  -0.182688  0.683954   \n",
       "dribbling                -0.585396  0.161913  -0.413370  -0.300792  0.601190   \n",
       "defending                -0.327378  0.259990   0.216422   0.218564  0.334792   \n",
       "physic                   -0.504749  0.435292   0.490354   0.581971  0.517214   \n",
       "\n",
       "                          potential  value_eur  international_reputation  \\\n",
       "index                     -0.638629  -0.544546                 -0.393322   \n",
       "age                       -0.275971   0.087288                  0.264483   \n",
       "height_cm                  0.021387   0.025051                  0.043452   \n",
       "weight_kg                  0.009379   0.066650                  0.097335   \n",
       "overall                    0.636026   0.645949                  0.478061   \n",
       "potential                  1.000000   0.581976                  0.337049   \n",
       "value_eur                  0.581976   1.000000                  0.621826   \n",
       "international_reputation   0.337049   0.621826                  1.000000   \n",
       "weak_foot                  0.150349   0.170129                  0.134880   \n",
       "skill_moves                0.380834   0.370318                  0.260275   \n",
       "pace                       0.229060   0.171373                  0.004324   \n",
       "shooting                   0.304000   0.343938                  0.274709   \n",
       "passing                    0.424816   0.448258                  0.355577   \n",
       "dribbling                  0.451097   0.427721                  0.296900   \n",
       "defending                  0.151608   0.157928                  0.138748   \n",
       "physic                     0.148449   0.236395                  0.176956   \n",
       "\n",
       "                          weak_foot  skill_moves      pace  shooting  \\\n",
       "index                     -0.218572    -0.495640 -0.154866 -0.486231   \n",
       "age                        0.109420     0.130075 -0.201211  0.238990   \n",
       "height_cm                 -0.097984    -0.280113 -0.432158 -0.203716   \n",
       "weight_kg                 -0.055569    -0.201295 -0.387138 -0.095442   \n",
       "overall                    0.227624     0.493554  0.158866  0.497881   \n",
       "potential                  0.150349     0.380834  0.229060  0.304000   \n",
       "value_eur                  0.170129     0.370318  0.171373  0.343938   \n",
       "international_reputation   0.134880     0.260275  0.004324  0.274709   \n",
       "weak_foot                  1.000000     0.266627  0.148527  0.319034   \n",
       "skill_moves                0.266627     1.000000  0.420886  0.625012   \n",
       "pace                       0.148527     0.420886  1.000000  0.350101   \n",
       "shooting                   0.319034     0.625012  0.350101  1.000000   \n",
       "passing                    0.281381     0.611950  0.289738  0.654749   \n",
       "dribbling                  0.309823     0.714841  0.548527  0.767211   \n",
       "defending                 -0.105863    -0.209321 -0.304351 -0.408629   \n",
       "physic                     0.000952    -0.066725 -0.196159  0.004790   \n",
       "\n",
       "                           passing  dribbling  defending    physic  \n",
       "index                    -0.667273  -0.585396  -0.327378 -0.504749  \n",
       "age                       0.330507   0.161913   0.259990  0.435292  \n",
       "height_cm                -0.290623  -0.413370   0.216422  0.490354  \n",
       "weight_kg                -0.182688  -0.300792   0.218564  0.581971  \n",
       "overall                   0.683954   0.601190   0.334792  0.517214  \n",
       "potential                 0.424816   0.451097   0.151608  0.148449  \n",
       "value_eur                 0.448258   0.427721   0.157928  0.236395  \n",
       "international_reputation  0.355577   0.296900   0.138748  0.176956  \n",
       "weak_foot                 0.281381   0.309823  -0.105863  0.000952  \n",
       "skill_moves               0.611950   0.714841  -0.209321 -0.066725  \n",
       "pace                      0.289738   0.548527  -0.304351 -0.196159  \n",
       "shooting                  0.654749   0.767211  -0.408629  0.004790  \n",
       "passing                   1.000000   0.829985   0.155699  0.132395  \n",
       "dribbling                 0.829985   1.000000  -0.168549 -0.044196  \n",
       "defending                 0.155699  -0.168549   1.000000  0.551471  \n",
       "physic                    0.132395  -0.044196   0.551471  1.000000  "
      ]
     },
     "execution_count": 21,
     "metadata": {},
     "output_type": "execute_result"
    }
   ],
   "source": [
    "fifa.corr()"
   ]
  },
  {
   "cell_type": "markdown",
   "metadata": {},
   "source": [
    "### Naszą zmienną objaśnianą będzie wartość zawodników - kolumna 'value_eur'. Najbardziej skorelowana z nią jest kolumna overall - łączny wynik umiejętności gracz. Wsp. korelacji: 0.64\n",
    "\n",
    "#### Podział danych na treningowe i testowe:"
   ]
  },
  {
   "cell_type": "code",
   "execution_count": 22,
   "metadata": {},
   "outputs": [],
   "source": [
    "data_train, data_test, target_train, target_test = train_test_split(fifa.drop('value_eur', axis = 1), fifa.value_eur)"
   ]
  },
  {
   "cell_type": "code",
   "execution_count": null,
   "metadata": {},
   "outputs": [
    {
     "name": "stdout",
     "output_type": "stream",
     "text": [
      "Fitting 4 folds for each of 10 candidates, totalling 40 fits\n",
      "[Parallel(n_jobs=1)]: Using backend SequentialBackend with 1 concurrent workers.\n",
      "[CV] C=1.6860268988646951, degree=1, epsilon=0.31706150737197836, gamma=0.19555736376084007, kernel=linear \n"
     ]
    }
   ],
   "source": [
    "param_distributions = {'C': uniform(loc = 0.01, scale = 2),\n",
    "                       'gamma': ['scale', 'auto', random.random()/4],\n",
    "                       'degree': [1], # Tylko 1, gdy 'poly' natrafił na 2, czas działania na tak dużym zbiorze rósł dramatycznie\n",
    "                       'kernel': ['linear', 'poly', 'rbf', 'sigmoid'],\n",
    "                       'epsilon': uniform(0.02, scale = 0.3)}\n",
    "\n",
    "\n",
    "\n",
    "fifa_rscv = RandomizedSearchCV(SVR(), param_distributions=param_distributions,\n",
    "                          scoring = 'neg_root_mean_squared_error',\n",
    "                          cv = 4, random_state = 794, n_iter = 10,\n",
    "                          verbose = 10**8)\n",
    "\n",
    "fifa_found = fifa_rscv.fit(data_train, target_train)"
   ]
  },
  {
   "cell_type": "code",
   "execution_count": 51,
   "metadata": {},
   "outputs": [
    {
     "data": {
      "text/plain": [
       "{'C': 2.000042526855012,\n",
       " 'degree': 1,\n",
       " 'epsilon': 0.1905392402409395,\n",
       " 'gamma': 'auto',\n",
       " 'kernel': 'linear'}"
      ]
     },
     "execution_count": 51,
     "metadata": {},
     "output_type": "execute_result"
    }
   ],
   "source": [
    "fifa_found.best_params_"
   ]
  },
  {
   "cell_type": "markdown",
   "metadata": {},
   "source": [
    "#### Tym razem proces poszukiwania optymalnych hiperparametrów przyniósł zgoła odmienne wyniki. Najlepszym jądrem okazało się liniowe, optymalna automatyczna wartość parametru gamma, a najkorzystniejszy parametr regularyzacji C wyniósł 2."
   ]
  },
  {
   "cell_type": "code",
   "execution_count": 53,
   "metadata": {},
   "outputs": [
    {
     "data": {
      "text/plain": [
       "4863447.91997123"
      ]
     },
     "execution_count": 53,
     "metadata": {},
     "output_type": "execute_result"
    }
   ],
   "source": [
    "math.sqrt(mean_squared_error(target_test, fifa_found.best_estimator_.predict(data_test)))"
   ]
  }
 ],
 "metadata": {
  "kernelspec": {
   "display_name": "Python 3",
   "language": "python",
   "name": "python3"
  },
  "language_info": {
   "codemirror_mode": {
    "name": "ipython",
    "version": 3
   },
   "file_extension": ".py",
   "mimetype": "text/x-python",
   "name": "python",
   "nbconvert_exporter": "python",
   "pygments_lexer": "ipython3",
   "version": "3.6.9"
  }
 },
 "nbformat": 4,
 "nbformat_minor": 2
}
